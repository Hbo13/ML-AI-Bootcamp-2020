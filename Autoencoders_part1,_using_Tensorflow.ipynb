{
  "nbformat": 4,
  "nbformat_minor": 0,
  "metadata": {
    "accelerator": "GPU",
    "colab": {
      "name": "Copy of B1.4.8 Autoencoders part1, using Tensorflow, teachers' sheet.ipynb",
      "provenance": [],
      "collapsed_sections": []
    },
    "kernelspec": {
      "name": "python3",
      "display_name": "Python 3"
    },
    "language_info": {
      "codemirror_mode": {
        "name": "ipython",
        "version": 3
      },
      "file_extension": ".py",
      "mimetype": "text/x-python",
      "name": "python",
      "nbconvert_exporter": "python",
      "pygments_lexer": "ipython3",
      "version": "3.7.3"
    }
  },
  "cells": [
    {
      "cell_type": "markdown",
      "metadata": {
        "id": "d4zdDlhXwNiC"
      },
      "source": [
        "Source: [github](https://github.com/aymericdamien/TensorFlow-Examples/blob/master/examples/3_NeuralNetworks/autoencoder.py?fbclid=IwAR1DeapNqcvNB4S9zTXlf6FkRaZGDBXd7M4EVUUGVawUkGZIO9Zu4eXac0M)"
      ]
    },
    {
      "cell_type": "markdown",
      "metadata": {
        "id": "sFLVuCf9dnHF"
      },
      "source": [
        " ## Introduction\n",
        "\n",
        "The mnist dataset provided in python is a dataset of 70 000 images of handwritten digits (possible labels: from 0 to 9).The dataset is devided into tranining 60 000 examples with their labels and 10 000 test examples with their lables as well. \n",
        "Each example is an image represented by a matrix of size an array of 784 elements (this is the flattened version of the 28x28 image).\n"
      ]
    },
    {
      "cell_type": "markdown",
      "metadata": {
        "id": "8ThNXAlddnHK"
      },
      "source": [
        "### Importing libraries and the dataset"
      ]
    },
    {
      "cell_type": "code",
      "metadata": {
        "id": "4-JPoXNrdnHM",
        "scrolled": false,
        "colab": {
          "base_uri": "https://localhost:8080/",
          "height": 233
        },
        "outputId": "21b927ce-3ef3-4b7f-c8bf-cfcb3c92cb95"
      },
      "source": [
        "import os\n",
        "import numpy as np\n",
        "import matplotlib as mpb\n",
        "import matplotlib.pyplot as plt\n",
        "import tensorflow as tf\n",
        "tf.logging.set_verbosity(tf.logging.ERROR)\n",
        "\n",
        "# to make the output of the notebook stable across runs\n",
        "np.random.seed(42)\n",
        "\n",
        "# resize the axis to get pretty figure\n",
        "mpb.rc('axes', labelsize = 15)\n",
        "mpb.rc('xtick', labelsize = 12)\n",
        "mpb.rc('ytick', labelsize = 12)\n",
        "\n",
        "# Import the MNIST dataset\n",
        "#from tensorflow.examples.tutorials.mnist import input_data\n",
        "#mnist = input_data.read_data_sets(\"../MNIST_data/\", one_hot=True)\n",
        "#mnist = input_data.read_data_sets(\"/tmp/data/\", one_hot=True)\n",
        "\n",
        "from tensorflow.examples.tutorials.mnist import input_data\n",
        "mnist = input_data.read_data_sets(\"MNIST_data/\")\n",
        "\n",
        "print(mnist.train.__class__)"
      ],
      "execution_count": null,
      "outputs": [
        {
          "output_type": "display_data",
          "data": {
            "text/html": [
              "<p style=\"color: red;\">\n",
              "The default version of TensorFlow in Colab will soon switch to TensorFlow 2.x.<br>\n",
              "We recommend you <a href=\"https://www.tensorflow.org/guide/migrate\" target=\"_blank\">upgrade</a> now \n",
              "or ensure your notebook will continue to use TensorFlow 1.x via the <code>%tensorflow_version 1.x</code> magic:\n",
              "<a href=\"https://colab.research.google.com/notebooks/tensorflow_version.ipynb\" target=\"_blank\">more info</a>.</p>\n"
            ],
            "text/plain": [
              "<IPython.core.display.HTML object>"
            ]
          },
          "metadata": {
            "tags": []
          }
        },
        {
          "output_type": "stream",
          "text": [
            "Successfully downloaded train-images-idx3-ubyte.gz 9912422 bytes.\n",
            "Extracting MNIST_data/train-images-idx3-ubyte.gz\n",
            "Successfully downloaded train-labels-idx1-ubyte.gz 28881 bytes.\n",
            "Extracting MNIST_data/train-labels-idx1-ubyte.gz\n",
            "Successfully downloaded t10k-images-idx3-ubyte.gz 1648877 bytes.\n",
            "Extracting MNIST_data/t10k-images-idx3-ubyte.gz\n",
            "Successfully downloaded t10k-labels-idx1-ubyte.gz 4542 bytes.\n",
            "Extracting MNIST_data/t10k-labels-idx1-ubyte.gz\n",
            "<class 'tensorflow.contrib.learn.python.learn.datasets.mnist.DataSet'>\n"
          ],
          "name": "stdout"
        }
      ]
    },
    {
      "cell_type": "code",
      "metadata": {
        "id": "0Fyd2T1rYl1m",
        "colab": {
          "base_uri": "https://localhost:8080/",
          "height": 68
        },
        "outputId": "8bdbeb02-cd2b-4c98-8859-a783be3c1424"
      },
      "source": [
        "print(mnist.train.images.shape)\n",
        "print(mnist.validation.images.shape)\n",
        "print(mnist.test.images.shape)"
      ],
      "execution_count": null,
      "outputs": [
        {
          "output_type": "stream",
          "text": [
            "(55000, 784)\n",
            "(5000, 784)\n",
            "(10000, 784)\n"
          ],
          "name": "stdout"
        }
      ]
    },
    {
      "cell_type": "markdown",
      "metadata": {
        "id": "SDCxoicFdnHb"
      },
      "source": [
        "If you have some difficulties you can check the link to the documentation provided. \n"
      ]
    },
    {
      "cell_type": "markdown",
      "metadata": {
        "id": "EyRhfKVMdnHe"
      },
      "source": [
        "### Building the model \n",
        "\n",
        "We are going to define variables, placeholders...of the model \n",
        "as well as the architecture of the model before running it in a tensorflow session."
      ]
    },
    {
      "cell_type": "markdown",
      "metadata": {
        "id": "bVtjbKWJdnHi"
      },
      "source": [
        "\n",
        "#### 1-Define X, y the input and the respective output of the model "
      ]
    },
    {
      "cell_type": "code",
      "metadata": {
        "id": "l6Xl5NGfdnHk"
      },
      "source": [
        "X = tf.placeholder(tf.float32, shape =(None,784))"
      ],
      "execution_count": null,
      "outputs": []
    },
    {
      "cell_type": "markdown",
      "metadata": {
        "id": "6YAl4KyjdnHt"
      },
      "source": [
        "In this part we are going to define the different layers structure in the encoder and decoder part. We remind you that an the structure of autoencoder is symmetric. \n",
        "#### 2-Define the dimensions of the layers and the respective Weigths and biases of the model with given number of neurons in layers"
      ]
    },
    {
      "cell_type": "code",
      "metadata": {
        "id": "Y_w3xd-IdnHw"
      },
      "source": [
        "input_dim = 784\n",
        "lay1_dim = 256\n",
        "lay2_dim = 64  ### if 32 or 16, reconstructed image is not so good \n",
        "lay3_dim = 256\n",
        "output_dim = 784\n",
        "\n",
        "# encoder weights\n",
        "Weight_encoder = tf.Variable(tf.random_normal(shape =(input_dim, lay1_dim)))\n",
        "Weight_encoder1 = tf.Variable(tf.random_normal(shape =(lay1_dim, lay2_dim)))\n",
        "\n",
        "# encoder biases \n",
        "bias_encoder = tf.Variable(tf.zeros(lay1_dim))\n",
        "bias_encoder1 = tf.Variable(tf.zeros(lay2_dim))    \n",
        "\n",
        "# decoder weights\n",
        "Weight_decoder = tf.Variable(tf.random_normal(shape =(lay2_dim, lay3_dim), mean = 0, stddev = 0.5))\n",
        "Weight_decoder1 = tf.Variable(tf.random_normal(shape =(lay3_dim, output_dim),mean = 0,  stddev = 0.5))\n",
        "\n",
        "# decoder biases\n",
        "bias_decoder = tf.Variable(tf.zeros(lay3_dim))          \n",
        "bias_decoder1 = tf.Variable(tf.zeros(output_dim))"
      ],
      "execution_count": null,
      "outputs": []
    },
    {
      "cell_type": "markdown",
      "metadata": {
        "id": "keBzRz3sdnH4"
      },
      "source": [
        "#### Hyperparameters\n",
        "* Learning rate is a hyper-parameter that controls how much we are adjusting the weights of our network with respect the loss gradient.\n",
        "\n",
        "* The batch size defines the number of samples that will be propagated through the network.\n",
        "\n",
        "* An epoch is when an ENTIRE dataset is passed forwards and backwards through the neural network only ONCE.\n",
        "\n",
        "You have to define the best hyperparameter that best optimize the model in other to reconstruct the image.\n",
        "We look for a combination of hyperparameters which gives the best reocnstruction of the image in an acceptable execution time.\n",
        "#### 3- Initialize the hyperparameters with some usual values.\n"
      ]
    },
    {
      "cell_type": "code",
      "metadata": {
        "id": "rT-NfhZRdnH9"
      },
      "source": [
        "Learning_Rate = 0.01\n",
        "num_epoch = 5\n",
        "Batch_Size = 256"
      ],
      "execution_count": null,
      "outputs": []
    },
    {
      "cell_type": "markdown",
      "metadata": {
        "id": "u52pwEbMdnIE"
      },
      "source": [
        "Building an Encoder and Decoder\n",
        "\n",
        "An autoencoder is composed of two part:\n",
        "* An encoder that convert the input to an internal representation: h = f(x).\n",
        "* Decoder: that convert the internal representation to the outputs.\n",
        "\n",
        "#### 4- Using the weights  and biases defined before, define the functions encode and decode\n"
      ]
    },
    {
      "cell_type": "code",
      "metadata": {
        "id": "vjRHg8SxdnIH"
      },
      "source": [
        "def encoder(x):\n",
        "    # Encoder Hidden layer with sigmoid activation #1\n",
        "    layer_1 = tf.nn.sigmoid(tf.add(tf.matmul(x, Weight_encoder),bias_encoder))\n",
        "    layer_2 = tf.nn.sigmoid(tf.add(tf.matmul(layer_1, Weight_encoder1), bias_encoder1))\n",
        "    return layer_2\n",
        "    \n",
        "def decoder(x):\n",
        "    # Decoder Hidden layer with sigmoid activation #1\n",
        "    layer_3 = tf.nn.sigmoid(tf.add(tf.matmul(x, Weight_decoder),tf.cast(bias_decoder, tf.float32)))\n",
        "    layer_4 = tf.nn.sigmoid(tf.add(tf.matmul(layer_3, Weight_decoder1),tf.cast(bias_decoder1,tf.float32)))\n",
        "    \n",
        "    return layer_4\n",
        "\n",
        "# Define model\n",
        "Encoder = encoder(X)\n",
        "Decoder = decoder(Encoder)\n",
        "\n",
        "# prediction and target\n",
        "X_true, X_pred = X, Decoder\n",
        "\n",
        "# Loss\n",
        "loss = tf.reduce_mean(tf.pow(X_true - X_pred, 2))\n",
        "#train_step = tf.train.AdagradOptimizer(Learning_Rate).minimize(loss)\n",
        "train_step = tf.train.RMSPropOptimizer(Learning_Rate).minimize(loss)"
      ],
      "execution_count": null,
      "outputs": []
    },
    {
      "cell_type": "markdown",
      "metadata": {
        "id": "AkkdJpk0dnIP"
      },
      "source": [
        "### Training the model \n",
        "The entire model already defined, we can now train it.\n",
        "\n",
        "#### 5- Make the necessary changes and train the model. Afterwards, test it on the test dataset.\n"
      ]
    },
    {
      "cell_type": "code",
      "metadata": {
        "id": "-kCyj5v4dnIR",
        "scrolled": true,
        "colab": {
          "base_uri": "https://localhost:8080/",
          "height": 119
        },
        "outputId": "ae43f036-a13e-4b97-dc94-e88691b1ec4d"
      },
      "source": [
        "init = tf.initialize_all_variables()\n",
        "\n",
        "with tf.Session() as sess:\n",
        "    sess.run(init)\n",
        "    print('Training...')\n",
        "    for epoch in range(1, num_epoch):\n",
        "        num_batch = mnist.train.num_examples//Batch_Size\n",
        "        \n",
        "        for batch in range(num_batch):\n",
        "            #batch_x, batch_y = mnist.train.next_batch(Batch_Size)\n",
        "            batch_x = mnist.train.images[np.arange(batch*Batch_Size, Batch_Size + batch*Batch_Size)]\n",
        "            sess.run(train_step, feed_dict={X:batch_x})\n",
        "        \n",
        "        decoded_imgs = Decoder.eval({X: batch_x})\n",
        "        feed_dict = {X_true: batch_x, X_pred: decoded_imgs}\n",
        "        train_loss = loss.eval(feed_dict)\n",
        "        print(\"epoch: {} | loss: {}\".format(epoch,train_loss)) \n",
        "    \n",
        "    decoded_imgs = Decoder.eval({X: mnist.test.images})\n",
        "    #decoded_imgs = sess.run(Decoder, feed_dict={X: mnist.test.images})\n",
        "    \n",
        "    feed_dict = {X_true: mnist.test.images, X_pred: decoded_imgs}\n",
        "    print('loss over test set:', loss.eval(feed_dict))\n"
      ],
      "execution_count": null,
      "outputs": [
        {
          "output_type": "stream",
          "text": [
            "Training...\n",
            "epoch: 1 | loss: 0.11702235788106918\n",
            "epoch: 2 | loss: 0.055997736752033234\n",
            "epoch: 3 | loss: 0.041531212627887726\n",
            "epoch: 4 | loss: 0.03662145137786865\n",
            "loss over test set: 0.037459064\n"
          ],
          "name": "stdout"
        }
      ]
    },
    {
      "cell_type": "code",
      "metadata": {
        "id": "46PjPACJYl15",
        "colab": {
          "base_uri": "https://localhost:8080/",
          "height": 34
        },
        "outputId": "2a026a03-589c-480c-91c9-e705b27cf1c2"
      },
      "source": [
        "batch_x, batch_y = mnist.train.next_batch(0)\n",
        "batch_x"
      ],
      "execution_count": null,
      "outputs": [
        {
          "output_type": "execute_result",
          "data": {
            "text/plain": [
              "array([], shape=(0, 784), dtype=float32)"
            ]
          },
          "metadata": {
            "tags": []
          },
          "execution_count": 13
        }
      ]
    },
    {
      "cell_type": "code",
      "metadata": {
        "id": "V82jFLOJor0a",
        "colab": {
          "base_uri": "https://localhost:8080/",
          "height": 34
        },
        "outputId": "dd316d01-259b-47fb-d63d-94c1205f1b72"
      },
      "source": [
        "decoded_imgs.shape"
      ],
      "execution_count": null,
      "outputs": [
        {
          "output_type": "execute_result",
          "data": {
            "text/plain": [
              "(10000, 784)"
            ]
          },
          "metadata": {
            "tags": []
          },
          "execution_count": 14
        }
      ]
    },
    {
      "cell_type": "code",
      "metadata": {
        "id": "iJyPSn0_Yl17"
      },
      "source": [
        "mnist.train.next_batch?"
      ],
      "execution_count": null,
      "outputs": []
    },
    {
      "cell_type": "markdown",
      "metadata": {
        "id": "s-Rf7qyUdnIa"
      },
      "source": [
        "\n",
        "#### 6- Display the original and the reconstructed model for a few examples"
      ]
    },
    {
      "cell_type": "code",
      "metadata": {
        "id": "YQ6dRllTdnIc",
        "colab": {
          "base_uri": "https://localhost:8080/",
          "height": 268
        },
        "outputId": "887e764e-0d85-49f5-8b68-4331943d91f6"
      },
      "source": [
        "examples_to_show = 10\n",
        "\n",
        "x_test = mnist.test.images\n",
        "\n",
        "plt.figure(figsize=(20, 4))\n",
        "for i in range(examples_to_show):\n",
        "    # display original\n",
        "    ax = plt.subplot(2, examples_to_show, i + 1)\n",
        "    plt.imshow(x_test[i].reshape(28, 28))\n",
        "    plt.gray()\n",
        "    ax.get_xaxis().set_visible(False)\n",
        "    ax.get_yaxis().set_visible(False)\n",
        "\n",
        "    # display reconstruction\n",
        "    ax = plt.subplot(2, examples_to_show, i + 1 + examples_to_show)\n",
        "    plt.imshow(decoded_imgs[i].reshape(28, 28))\n",
        "    plt.gray()\n",
        "    ax.get_xaxis().set_visible(False)\n",
        "    ax.get_yaxis().set_visible(False)\n"
      ],
      "execution_count": null,
      "outputs": [
        {
          "output_type": "display_data",
          "data": {
            "image/png": "[encoded data removed]",
            "text/plain": [
              "<Figure size 1440x288 with 20 Axes>"
            ]
          },
          "metadata": {
            "tags": []
          }
        }
      ]
    },
    {
      "cell_type": "markdown",
      "metadata": {
        "id": "46UHep_-AIdo"
      },
      "source": [
        "#### 7-Change the hyperparameter, the number of layer in other to reach better reconstructed images and display the result. Comment!"
      ]
    },
    {
      "cell_type": "code",
      "metadata": {
        "id": "ElymscwkdnI1"
      },
      "source": [
        "# change the hyperparameters \n",
        "\n",
        "Learning_Rate = ...\n",
        "num_epoch = ...\n",
        "Batch_Size = ...\n",
        "\n",
        "# train the model with the new hyperparameters\n",
        "init = tf.initialize_all_variables()\n",
        "\n",
        "with tf.Session() as sess:\n",
        "    ...\n",
        "    \n",
        "# display some images and the corresponding reconstructed ones"
      ],
      "execution_count": null,
      "outputs": []
    },
    {
      "cell_type": "code",
      "metadata": {
        "id": "Z-qH6kvadnI6"
      },
      "source": [
        ""
      ],
      "execution_count": null,
      "outputs": []
    }
  ]
}
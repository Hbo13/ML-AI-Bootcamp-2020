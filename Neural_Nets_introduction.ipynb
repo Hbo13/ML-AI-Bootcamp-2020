{
  "nbformat": 4,
  "nbformat_minor": 0,
  "metadata": {
    "colab": {
      "name": "Copy of B1.1.6 - Neural_Nets_Teacher_Sheet.ipynb",
      "provenance": []
    },
    "kernelspec": {
      "display_name": "Python 3",
      "language": "python",
      "name": "python3"
    },
    "language_info": {
      "codemirror_mode": {
        "name": "ipython",
        "version": 3
      },
      "file_extension": ".py",
      "mimetype": "text/x-python",
      "name": "python",
      "nbconvert_exporter": "python",
      "pygments_lexer": "ipython3",
      "version": "3.7.3"
    }
  },
  "cells": [
    {
      "cell_type": "markdown",
      "metadata": {
        "id": "OOGE584Y-6j7"
      },
      "source": [
        "<h1 align=center><font size=5>Neural Networks</font></h1>"
      ]
    },
    {
      "cell_type": "markdown",
      "metadata": {
        "id": "ARyHHoq--6j9"
      },
      "source": [
        "### Table of contents\n",
        "\n",
        "- [Background](#background)\n",
        "- [Data Example](#data)\n",
        "- [Data Preparation](#data_prep)\n",
        "- [Neural Networks from Scratch](#LR_scratch)\n",
        "- [Neural Networks using Sklearn](#LR_sklearn)"
      ]
    },
    {
      "cell_type": "markdown",
      "metadata": {
        "id": "lgDRF3KQEDWV"
      },
      "source": [
        "### Background <a id=\"background\"></a>"
      ]
    },
    {
      "cell_type": "markdown",
      "metadata": {
        "id": "h5HbkeqYEDWW"
      },
      "source": [
        "Here are the summary of formulas from the lecture.\n",
        "\n",
        "1. Forward propagation"
      ]
    },
    {
      "cell_type": "markdown",
      "metadata": {
        "id": "C6biz24rEDWX"
      },
      "source": [
        "$$Z^{[1]} = W^{[1]}X + b^{[1]}$$\n",
        "\n",
        "$$A^{[1]} = g{(Z^{[1]})}$$\n",
        "\n",
        "$$Z^{[2]} = W^{[2]}X + b^{[2]}$$\n",
        "\n",
        "$$A^{[2]} = g{( Z^{[2]} )}$$\n",
        "\n",
        "where $X = [x_1, x_2, ..., x_N]$ is the data matrix with $N$ samples, and $g(.)$ is an activation function like sigmoid:\n",
        "\n",
        "$$g(x) = \\frac{1}{1 + exp(-x)}$$"
      ]
    },
    {
      "cell_type": "markdown",
      "metadata": {
        "id": "bDqGh810EDWY"
      },
      "source": [
        "2. Backward propagation (vectorized forms)"
      ]
    },
    {
      "cell_type": "markdown",
      "metadata": {
        "id": "cj3HcgiGEDWY"
      },
      "source": [
        "$$dZ^{[2]} = A^{[2]} - Y$$ \n",
        "\n",
        "$$dW^{[2]} = \\frac{1}{N} dZ^{[2]} {A^{[1]}}^T$$\n",
        "\n",
        "$$db^{[2]} = \\frac{1}{N} \\sum dZ^{[2]} $$\n",
        "\n",
        "$$dZ^{[1]} = ({W^{[2]}}^T  dZ^{[2]}) * {g^{[1]'}} (Z^{[1]})$$\n",
        "\n",
        "$$dW^{[1]} = \\frac{1}{N} dZ^{[1]} {X}^T$$\n",
        "\n",
        "$$db^{[1]} = \\frac{1}{N} \\sum dZ^{[1]} $$\n",
        "\n",
        "\n",
        "where \n",
        "\n",
        "\n",
        "$$ \\frac{dJ}{dZ^{[2]}} = \\frac{dJ}{dA^{[2]}} \\frac{dA^{[2]}}{dZ^{[2]}} \\implies {dZ^{[2]}} = dA^{[2]} {g^{[2]'}} (Z^{[2]}) = A^{[2]} - Y $$\n",
        "\n",
        "\n",
        "$$ \\frac{dJ}{dW^{[2]}}  = \\frac{dJ}{dZ^{[2]}} \\frac{dZ^{[2]}}{dW^{[2]}} \\implies {dW^{[2]}} = \\frac{1}{N} dZ^{[2]} {A^{[1]}}^T$$\n",
        "\n",
        "$$...$$\n",
        "\n",
        "where ${g'(z)} = \\frac{d}{dz} g(z)$. In the case of sigmoid fuction we have:\n",
        "\n",
        "$$\n",
        "{\\sigma}'(z) = \\sigma(z) (1 - \\sigma(z))\n",
        "$$"
      ]
    },
    {
      "cell_type": "markdown",
      "metadata": {
        "id": "xRiKSWOoEDWZ"
      },
      "source": [
        "3. Loss function (cross entropy)"
      ]
    },
    {
      "cell_type": "markdown",
      "metadata": {
        "id": "84U8U_xBEDWa"
      },
      "source": [
        "$$J = \\frac{1}{N} \\sum\\limits_{i = 0}^{N} \\large{(} \\small - y^{(i)}\\log\\left(a^{[2] (i)}\\right) - (1-y^{(i)})\\log\\left(1- a^{[2] (i)}\\right) \\large{)}$$"
      ]
    },
    {
      "cell_type": "markdown",
      "metadata": {
        "id": "py730qwnEDWb"
      },
      "source": [
        "### Data  Example <a id=\"data\"></a>"
      ]
    },
    {
      "cell_type": "code",
      "metadata": {
        "id": "R1lzM6AiEDWb",
        "outputId": "5f0c73e0-f730-4241-f5c7-767853b6c768"
      },
      "source": [
        "import numpy as np\n",
        "np.random.seed(123)\n",
        "\n",
        "# XOR dataset\n",
        "n_samples = 1000\n",
        "mu, sigma = 2, 3\n",
        "X = sigma * np.random.randn(n_samples, 2) + mu\n",
        "y = np.logical_xor(X[:, 0] > 0, X[:, 1] > 0).astype(int)\n",
        "\n",
        "print('X shape:', X.shape)\n",
        "print('y shape:', y.shape)"
      ],
      "execution_count": null,
      "outputs": [
        {
          "output_type": "stream",
          "text": [
            "X shape: (1000, 2)\n",
            "y shape: (1000,)\n"
          ],
          "name": "stdout"
        }
      ]
    },
    {
      "cell_type": "markdown",
      "metadata": {
        "id": "m1I0rqhzEDWf"
      },
      "source": [
        "&#x270d; Plot the data."
      ]
    },
    {
      "cell_type": "code",
      "metadata": {
        "id": "lz6kLBHzEDWf",
        "outputId": "97c0cf54-63d8-44e5-f9fa-6dc052d68052"
      },
      "source": [
        "import matplotlib.pyplot as plt\n",
        "%matplotlib inline\n",
        "\n",
        "plt.scatter(X[y == 0, 0], X[y == 0, 1], c= 'r', marker= 'x', label= 'Class 0') \n",
        "plt.scatter(X[y == 1, 0], X[y == 1, 1], c= 'b', marker= 'o', label= 'Class 1') \n",
        "plt.xlabel(\"$x_1$\", fontsize=14)\n",
        "plt.ylabel(\"$x_2$\", rotation=0, fontsize=14)\n",
        "plt.title('Scatter plot of data')\n",
        "plt.legend(loc=\"upper left\")\n",
        "plt.show()"
      ],
      "execution_count": null,
      "outputs": [
        {
          "output_type": "display_data",
          "data": {
            "image/png": "[encoded data removed]",
            "text/plain": [
              "<Figure size 432x288 with 1 Axes>"
            ]
          },
          "metadata": {
            "tags": [],
            "needs_background": "light"
          }
        }
      ]
    },
    {
      "cell_type": "markdown",
      "metadata": {
        "id": "h5WcXX-UEDWi"
      },
      "source": [
        "### Data Preparation <a id=\"data_prep\"></a>"
      ]
    },
    {
      "cell_type": "markdown",
      "metadata": {
        "id": "EkBfJr6IEDWi"
      },
      "source": [
        "&#x270d; Split the data in a stratified fashion into training set with 80% of the samples and test set with the remaining 20%."
      ]
    },
    {
      "cell_type": "code",
      "metadata": {
        "id": "32cA4A-gEDWj",
        "outputId": "9dfd61de-3e70-42ee-ef0f-c00ff5e546b7"
      },
      "source": [
        "from sklearn.model_selection import train_test_split\n",
        "\n",
        "X_train, X_test, y_train, y_test = train_test_split(X, y, \n",
        "                     test_size= 0.2, \n",
        "                     stratify= y,\n",
        "                     random_state= 123)\n",
        "\n",
        "print('X_train shape:', X_train.shape)\n",
        "print('X_test shape:', X_test.shape)"
      ],
      "execution_count": null,
      "outputs": [
        {
          "output_type": "stream",
          "text": [
            "X_train shape: (800, 2)\n",
            "X_test shape: (200, 2)\n"
          ],
          "name": "stdout"
        }
      ]
    },
    {
      "cell_type": "markdown",
      "metadata": {
        "id": "XGtdwkRzEDWl"
      },
      "source": [
        "&#x270d; Transform features by scaling each feature to the range of [0, 1]."
      ]
    },
    {
      "cell_type": "code",
      "metadata": {
        "id": "WTEAt-z5EDWm",
        "outputId": "4a781368-b70a-43ac-c1d4-1792b693030e"
      },
      "source": [
        "from sklearn.preprocessing import MinMaxScaler\n",
        "\n",
        "scaler = MinMaxScaler()\n",
        "print(scaler)\n",
        "\n",
        "X_train = scaler.fit_transform(X_train)\n",
        "X_test = scaler.transform(X_test)"
      ],
      "execution_count": null,
      "outputs": [
        {
          "output_type": "stream",
          "text": [
            "MinMaxScaler(copy=True, feature_range=(0, 1))\n"
          ],
          "name": "stdout"
        }
      ]
    },
    {
      "cell_type": "markdown",
      "metadata": {
        "id": "n9p9Z9Za-6j-"
      },
      "source": [
        "### Neural Networks from Scratch <a id=\"NN_scratch\"></a>"
      ]
    },
    {
      "cell_type": "markdown",
      "metadata": {
        "id": "pM35Aqb-EDWo"
      },
      "source": [
        "&#x270d; Implement a two layer neural network from scratch."
      ]
    },
    {
      "cell_type": "code",
      "metadata": {
        "id": "xtqxDNurEDWp"
      },
      "source": [
        "class Neural_Network:\n",
        "    def __init__(self, n_x = 2, n_h = 3, n_y = 1, lr= 0.01, num_iter= 100):    \n",
        "        self.W1 = np.random.randn(n_h, n_x)\n",
        "        self.b1 = np.random.randn(n_h, 1)\n",
        "        self.W2 = np.random.randn(n_y, n_h)\n",
        "        self.b2 = np.random.randn(n_y, 1)\n",
        "        self.output = np.zeros((n_y, 1))\n",
        "        self.lr = lr\n",
        "        self.num_iter = num_iter\n",
        "        \n",
        "    def sigmoid(self, t):\n",
        "        return 1/(1+np.exp(-t))\n",
        "\n",
        "    def sigmoid_derivative(self, t):\n",
        "        return self.sigmoid(t)*(1 - self.sigmoid(t))    \n",
        "    \n",
        "    def feedforward(self, X):\n",
        "        \n",
        "        self.Z1 = np.dot(self.W1, X.T) + self.b1  \n",
        "        self.A1 = self.sigmoid(self.Z1)   \n",
        "                \n",
        "        self.Z2 = np.dot(self.W2, self.Z1) + self.b2        \n",
        "        self.A2 = self.sigmoid(self.Z2)  \n",
        "        \n",
        "        return self.A2\n",
        "    \n",
        "    def backpropagation(self, X, y):\n",
        "        \n",
        "        N = X.shape[0] # Number of examples\n",
        "\n",
        "        dZ2 = self.A2 - y.T   \n",
        "        \n",
        "        self.dW2 = (1/N) * np.dot(dZ2, self.A1.T)\n",
        "        \n",
        "        self.db2 = (1/N) * np.sum(dZ2, axis =1, keepdims = True)\n",
        "        \n",
        "        dZ1 = np.dot(self.W2.T, dZ2)*self.sigmoid_derivative(self.A1) \n",
        "        \n",
        "        self.dW1 = (1/N) * np.dot(dZ1, X)\n",
        "        self.db1 = (1/N) * np.sum(dZ1, axis =1, keepdims = True)\n",
        "\n",
        "\n",
        "    def update_parameters(self):\n",
        "        self.W1 -= self.lr * self.dW1\n",
        "        self.b1 -= self.lr * self.db1\n",
        "        self.W2 -= self.lr * self.dW2\n",
        "        self.b2 -= self.lr * self.db2\n",
        "                \n",
        "    \n",
        "    # Define the cross entropy loss\n",
        "    def loss(self, y, y_hat):\n",
        "        return (-y * np.log(y_hat) - (1 - y) * np.log(1 - y_hat)).mean()\n",
        "    \n",
        "    \n",
        "    def fit(self, X, y):\n",
        "        \n",
        "        loss_history = []\n",
        "        for iter in range(self.num_iter):\n",
        "            \n",
        "            y_hat = self.feedforward(X)\n",
        "            \n",
        "            loss_history.append(self.loss(y, y_hat))\n",
        "            \n",
        "            self.backpropagation(X, y)\n",
        "            \n",
        "            self.update_parameters() \n",
        "            \n",
        "        return loss_history  \n",
        "            \n",
        "    # Calculate probability estimates\n",
        "    def predict_prob(self, X):\n",
        "        return self.feedforward(X)\n",
        "    \n",
        "    # Predict class labels for samples in X\n",
        "    def predict(self, X):\n",
        "        return self.predict_prob(X).round()  "
      ],
      "execution_count": null,
      "outputs": []
    },
    {
      "cell_type": "code",
      "metadata": {
        "id": "rFCKgJJCEDWr",
        "outputId": "565b75c2-46fb-4ed5-9a70-816669547fb1"
      },
      "source": [
        "# Create an instance of the above class\n",
        "lr = Neural_Network(n_x = 2, n_h = 3, n_y = 1, lr= 0.5, num_iter= 1000)\n",
        "\n",
        "\n",
        "# Fit the model over training set\n",
        "J = lr.fit(X_train, y_train)\n",
        "\n",
        "plt.plot(J)\n",
        "# Make predictions over test set\n",
        "\n",
        "y_test_pred = lr.predict(X_test)\n",
        "\n",
        "# Measure accuracy over test set\n",
        "accuracy = (y_test_pred == y_test).mean()\n",
        "print('Accuracy over test set:', accuracy)"
      ],
      "execution_count": null,
      "outputs": [
        {
          "output_type": "stream",
          "text": [
            "Accuracy over test set: 0.76\n"
          ],
          "name": "stdout"
        },
        {
          "output_type": "display_data",
          "data": {
            "image/png": "[encoded data removed]",
            "text/plain": [
              "<Figure size 432x288 with 1 Axes>"
            ]
          },
          "metadata": {
            "tags": [],
            "needs_background": "light"
          }
        }
      ]
    },
    {
      "cell_type": "markdown",
      "metadata": {
        "id": "uZJzO8fIEDWt"
      },
      "source": [
        "### Neural Networks using SKlearn <a id=\"NN_sklearn\"></a>"
      ]
    },
    {
      "cell_type": "markdown",
      "metadata": {
        "id": "NCE2ZpNzEDWt"
      },
      "source": [
        "#### Model Training"
      ]
    },
    {
      "cell_type": "code",
      "metadata": {
        "id": "UY1TXsj5EDWu",
        "outputId": "579b17b0-a66e-4aa2-e47a-bc0ec1b7793f"
      },
      "source": [
        "from sklearn.neural_network import MLPClassifier\n",
        "\n",
        "mlp = MLPClassifier()\n",
        "\n",
        "# Fit the data\n",
        "mlp.fit(X_train, y_train)"
      ],
      "execution_count": null,
      "outputs": [
        {
          "output_type": "stream",
          "text": [
            "//anaconda3/lib/python3.7/site-packages/sklearn/neural_network/multilayer_perceptron.py:566: ConvergenceWarning: Stochastic Optimizer: Maximum iterations (200) reached and the optimization hasn't converged yet.\n",
            "  % self.max_iter, ConvergenceWarning)\n"
          ],
          "name": "stderr"
        },
        {
          "output_type": "execute_result",
          "data": {
            "text/plain": [
              "MLPClassifier(activation='relu', alpha=0.0001, batch_size='auto', beta_1=0.9,\n",
              "              beta_2=0.999, early_stopping=False, epsilon=1e-08,\n",
              "              hidden_layer_sizes=(100,), learning_rate='constant',\n",
              "              learning_rate_init=0.001, max_iter=200, momentum=0.9,\n",
              "              n_iter_no_change=10, nesterovs_momentum=True, power_t=0.5,\n",
              "              random_state=None, shuffle=True, solver='adam', tol=0.0001,\n",
              "              validation_fraction=0.1, verbose=False, warm_start=False)"
            ]
          },
          "metadata": {
            "tags": []
          },
          "execution_count": 7
        }
      ]
    },
    {
      "cell_type": "markdown",
      "metadata": {
        "id": "ZGEeH_y2EDWw"
      },
      "source": [
        "#### Model Evaluation"
      ]
    },
    {
      "cell_type": "markdown",
      "metadata": {
        "id": "Oy7BN_YDEDWw"
      },
      "source": [
        "&#x270d; Plot loss over training iterations. "
      ]
    },
    {
      "cell_type": "code",
      "metadata": {
        "id": "TpYscwX3EDWx",
        "outputId": "8b697a4c-e2f0-4d47-e6d6-2fdf0a3b9663"
      },
      "source": [
        "plt.plot(mlp.loss_curve_)"
      ],
      "execution_count": null,
      "outputs": [
        {
          "output_type": "execute_result",
          "data": {
            "text/plain": [
              "[<matplotlib.lines.Line2D at 0x1a163afa58>]"
            ]
          },
          "metadata": {
            "tags": []
          },
          "execution_count": 8
        },
        {
          "output_type": "display_data",
          "data": {
            "image/png": "[encoded data removed]",
            "text/plain": [
              "<Figure size 432x288 with 1 Axes>"
            ]
          },
          "metadata": {
            "tags": [],
            "needs_background": "light"
          }
        }
      ]
    },
    {
      "cell_type": "code",
      "metadata": {
        "id": "vmhX7v_1EDWz",
        "outputId": "a5361c1b-f7ce-42b3-a5bf-2e7b8c36151b"
      },
      "source": [
        "mlp.loss"
      ],
      "execution_count": null,
      "outputs": [
        {
          "output_type": "execute_result",
          "data": {
            "text/plain": [
              "'log_loss'"
            ]
          },
          "metadata": {
            "tags": []
          },
          "execution_count": 9
        }
      ]
    },
    {
      "cell_type": "code",
      "metadata": {
        "id": "aVg19l-aEDW2",
        "outputId": "95f6a30a-9dd3-4f4c-942c-385ed7088726"
      },
      "source": [
        "mlp.loss_"
      ],
      "execution_count": null,
      "outputs": [
        {
          "output_type": "execute_result",
          "data": {
            "text/plain": [
              "0.41939529697785544"
            ]
          },
          "metadata": {
            "tags": []
          },
          "execution_count": 10
        }
      ]
    },
    {
      "cell_type": "code",
      "metadata": {
        "id": "clLyDHcGEDW4",
        "outputId": "5d7ad609-f3cc-4955-d91a-0714bc3d2b55"
      },
      "source": [
        "mlp.loss_curve_[-1]"
      ],
      "execution_count": null,
      "outputs": [
        {
          "output_type": "execute_result",
          "data": {
            "text/plain": [
              "0.41939529697785544"
            ]
          },
          "metadata": {
            "tags": []
          },
          "execution_count": 11
        }
      ]
    },
    {
      "cell_type": "markdown",
      "metadata": {
        "id": "j77ZgQ-PEDW6"
      },
      "source": [
        "&#x270d; Measure classification accuracy over the training/test sets."
      ]
    },
    {
      "cell_type": "code",
      "metadata": {
        "id": "cA1RfgcmEDW6",
        "outputId": "7555b435-2f04-49a8-fe80-651843bddbd8"
      },
      "source": [
        "from sklearn.metrics import accuracy_score\n",
        "\n",
        "y_train_pred = mlp.predict(X_train)\n",
        "y_test_pred = mlp.predict(X_test)\n",
        "\n",
        "print(\"Training Accuracy: {0:.2f}\".format(accuracy_score(y_train, y_train_pred)))\n",
        "print(\"Testing Accuracy: {0:.2f}\".format(accuracy_score(y_test, y_test_pred)))"
      ],
      "execution_count": null,
      "outputs": [
        {
          "output_type": "stream",
          "text": [
            "Training Accuracy: 0.83\n",
            "Testing Accuracy: 0.83\n"
          ],
          "name": "stdout"
        }
      ]
    },
    {
      "cell_type": "markdown",
      "metadata": {
        "id": "SBesJ2LCEDW8"
      },
      "source": [
        "&#x270d; Build a text report showing the main classification metrics including precision, recall, f1-score, and accuracy."
      ]
    },
    {
      "cell_type": "code",
      "metadata": {
        "id": "4dZqF8uwEDW9",
        "outputId": "1ebeecac-0a2b-4b10-b1ea-9426131d225d"
      },
      "source": [
        "from sklearn.metrics import classification_report\n",
        "\n",
        "report = classification_report(y_test, y_test_pred)\n",
        "print(report)"
      ],
      "execution_count": null,
      "outputs": [
        {
          "output_type": "stream",
          "text": [
            "              precision    recall  f1-score   support\n",
            "\n",
            "           0       0.85      0.88      0.87       125\n",
            "           1       0.79      0.75      0.77        75\n",
            "\n",
            "    accuracy                           0.83       200\n",
            "   macro avg       0.82      0.81      0.82       200\n",
            "weighted avg       0.83      0.83      0.83       200\n",
            "\n"
          ],
          "name": "stdout"
        }
      ]
    },
    {
      "cell_type": "markdown",
      "metadata": {
        "id": "J2bV7qmDEDW_"
      },
      "source": [
        "&#x270d; Compute and plot confusion matrix."
      ]
    },
    {
      "cell_type": "code",
      "metadata": {
        "id": "eADwmgwbEDW_",
        "outputId": "aedc1530-6a46-4919-c9a2-7ffced8f1e40"
      },
      "source": [
        "from sklearn.metrics import confusion_matrix\n",
        "import seaborn as sns\n",
        "plt.figure(figsize=(6,4))\n",
        "\n",
        "cm = confusion_matrix(y_test, y_test_pred)\n",
        "sns.heatmap(cm, annot = True, cbar = False, fmt = \"d\", linewidths = .5, cmap = \"Blues\")\n",
        "plt.xlabel(\"Predicted class\")\n",
        "plt.ylabel(\"Actual class\")\n",
        "plt.title(\"Confusion Matrix\");"
      ],
      "execution_count": null,
      "outputs": [
        {
          "output_type": "display_data",
          "data": {
            "image/png": "[encoded data removed]",
            "text/plain": [
              "<Figure size 432x288 with 1 Axes>"
            ]
          },
          "metadata": {
            "tags": [],
            "needs_background": "light"
          }
        }
      ]
    },
    {
      "cell_type": "markdown",
      "metadata": {
        "id": "vbKzcIsmEDXH"
      },
      "source": [
        "#### Hyper-parameters Tuning"
      ]
    },
    {
      "cell_type": "markdown",
      "metadata": {
        "id": "7uJ49CwuEDXH"
      },
      "source": [
        "&#x270d; Use GridSearchCV and find the best estimator."
      ]
    },
    {
      "cell_type": "code",
      "metadata": {
        "id": "ENnfB6MPEDXI",
        "outputId": "f863eab7-c300-457f-befd-59c1445c7d2e"
      },
      "source": [
        "import warnings; warnings.filterwarnings('ignore')\n",
        "from sklearn.model_selection import GridSearchCV\n",
        "\n",
        "param_grid = {'hidden_layer_sizes': [(10,), (50,), (10, 10)],\n",
        "             'activation': ['tanh', 'relu'],\n",
        "             'learning_rate': ['constant', 'adaptive'],\n",
        "             'max_iter': [500]}\n",
        "\n",
        "mlp = MLPClassifier()\n",
        "gs = GridSearchCV(mlp, param_grid, cv = 5, verbose= 1)\n",
        "gs.fit(X_train, y_train)"
      ],
      "execution_count": null,
      "outputs": [
        {
          "output_type": "stream",
          "text": [
            "Fitting 5 folds for each of 12 candidates, totalling 60 fits\n"
          ],
          "name": "stdout"
        },
        {
          "output_type": "stream",
          "text": [
            "[Parallel(n_jobs=1)]: Using backend SequentialBackend with 1 concurrent workers.\n",
            "[Parallel(n_jobs=1)]: Done  60 out of  60 | elapsed:   30.0s finished\n"
          ],
          "name": "stderr"
        },
        {
          "output_type": "execute_result",
          "data": {
            "text/plain": [
              "GridSearchCV(cv=5, error_score='raise-deprecating',\n",
              "             estimator=MLPClassifier(activation='relu', alpha=0.0001,\n",
              "                                     batch_size='auto', beta_1=0.9,\n",
              "                                     beta_2=0.999, early_stopping=False,\n",
              "                                     epsilon=1e-08, hidden_layer_sizes=(100,),\n",
              "                                     learning_rate='constant',\n",
              "                                     learning_rate_init=0.001, max_iter=200,\n",
              "                                     momentum=0.9, n_iter_no_change=10,\n",
              "                                     nesterovs_momentum=True, power_t=0.5,\n",
              "                                     random_state=None, shuffle=True,\n",
              "                                     solver='adam', tol=0.0001,\n",
              "                                     validation_fraction=0.1, verbose=False,\n",
              "                                     warm_start=False),\n",
              "             iid='warn', n_jobs=None,\n",
              "             param_grid={'activation': ['tanh', 'relu'],\n",
              "                         'hidden_layer_sizes': [(10,), (50,), (10, 10)],\n",
              "                         'learning_rate': ['constant', 'adaptive'],\n",
              "                         'max_iter': [500]},\n",
              "             pre_dispatch='2*n_jobs', refit=True, return_train_score=False,\n",
              "             scoring=None, verbose=1)"
            ]
          },
          "metadata": {
            "tags": []
          },
          "execution_count": 15
        }
      ]
    },
    {
      "cell_type": "markdown",
      "metadata": {
        "id": "fEAqltOoEDXK"
      },
      "source": [
        "&#x270d; What are the best obtained parameters?"
      ]
    },
    {
      "cell_type": "code",
      "metadata": {
        "id": "WBvluNHKEDXL",
        "outputId": "1771319d-0e8b-4ebb-f46a-2b13f1c1baf5"
      },
      "source": [
        "print(\"The best parameters are:\\n%s\" % (gs.best_params_)) "
      ],
      "execution_count": null,
      "outputs": [
        {
          "output_type": "stream",
          "text": [
            "The best parameters are:\n",
            "{'activation': 'relu', 'hidden_layer_sizes': (10, 10), 'learning_rate': 'constant', 'max_iter': 500}\n"
          ],
          "name": "stdout"
        }
      ]
    },
    {
      "cell_type": "code",
      "metadata": {
        "id": "3stra06GEDXN",
        "outputId": "243c78d8-ed81-4e1c-91d2-071049f8a675"
      },
      "source": [
        "y_train_pred = gs.predict(X_train)\n",
        "y_test_pred = gs.predict(X_test)\n",
        "\n",
        "print(\"Training Accuracy: {0:.2f}\".format(accuracy_score(y_train, y_train_pred)))\n",
        "print(\"Testing Accuracy: {0:.2f}\".format(accuracy_score(y_test, y_test_pred)))"
      ],
      "execution_count": null,
      "outputs": [
        {
          "output_type": "stream",
          "text": [
            "Training Accuracy: 0.94\n",
            "Testing Accuracy: 0.94\n"
          ],
          "name": "stdout"
        }
      ]
    },
    {
      "cell_type": "markdown",
      "metadata": {
        "id": "qZwz9tOXEDXQ"
      },
      "source": [
        "&#x270d; What is the difference between _StratifiedKFold_ and _GridSearchCV_ approaches?"
      ]
    },
    {
      "cell_type": "markdown",
      "metadata": {
        "id": "wBjqBJBEEDXR"
      },
      "source": [
        "> Your response!"
      ]
    }
  ]
}
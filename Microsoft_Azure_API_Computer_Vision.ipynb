{
  "nbformat": 4,
  "nbformat_minor": 0,
  "metadata": {
    "colab": {
      "name": "Copy of A2.3.4 Microsoft_AI_API - teachers' sheet.ipynb",
      "provenance": [],
      "collapsed_sections": []
    },
    "kernelspec": {
      "name": "python3",
      "display_name": "Python 3"
    }
  },
  "cells": [
    {
      "cell_type": "markdown",
      "metadata": {
        "id": "SuRKdgb70kJx"
      },
      "source": [
        "# Introduction to computer vision of Microsoft Azure"
      ]
    },
    {
      "cell_type": "markdown",
      "metadata": {
        "id": "VEMCBYeC2YBW"
      },
      "source": [
        "## Microsoft Azure\n",
        "\n",
        "Azure is a cloud computing provider created by Microsoft ([Azure website](https://azure.microsoft.com/)). It's used for building, testing, deploying, and managing applications and services through Microsoft-managed data centers. \n",
        "\n",
        "It provides software as a service (SaaS), platform as a service (PaaS) and infrastructure as a service (IaaS) and supports many different programming languages, tools and frameworks, including both Microsoft-specific and third-party software and systems. \n",
        "\n",
        "Azure was announced in October 2008, started with codename \"Project Red Dog\", and released on February 1, 2010, as \"Windows Azure\" before being renamed \"Microsoft Azure\" on March 25, 2014.\n",
        "\n",
        "Microsoft lists hundreds of services. They can be grouped into:\n",
        "+ AI + Machine Learning: Create the next generation of applications using artificial intelligence capabilities for any developer and any scenario\n",
        "+ Analytics: Gather, store, process, analyze, and visualize data of any variety, volume, or velocity\n",
        "+ Blockchain: Build and manage blockchain based applications with a suite of integrated tools\n",
        "+ Databases: Support rapid growth and innovate faster with secure, enterprise-grade, and fully managed database services\n",
        "+ Internet of Things: Bring IoT to any device and any platform, without changing your infrastructure\n",
        "+ Mixed Reality: Blend your physical and digital worlds to create immersive, collaborative experiences\n",
        "+ Security: Protect your enterprise from advanced threats across hybrid cloud workloads\n",
        "Learn more\n",
        "+ Etc.\n",
        "\n",
        "\n"
      ]
    },
    {
      "cell_type": "markdown",
      "metadata": {
        "id": "Z25yb_2RV4Wa"
      },
      "source": [
        "## Vision service\n",
        "\n",
        "Azure **AI + Machine Learning** services includes from Machine learning to AI apps and agents. \n",
        "\n",
        "Among them, [**Azure Cognitive Services**](https://docs.microsoft.com/en-us/azure/cognitive-services/welcome) are APIs, SDKs, and services available to help developers build intelligent applications without having direct AI or data science skills or knowledge. \n",
        "\n",
        "**Azure Cognitive Services** enable developers to easily add cognitive features into their applications. The goal of Azure Cognitive Services is to help developers create applications that can see, hear, speak, understand, and even begin to reason. The catalog of services within Azure Cognitive Services can be categorized into five main pillars: **Vision**, Speech, Language, Web Search, and Decision.\n",
        "\n",
        "Microsoft suggests:\n",
        "\n",
        "+ Using **Cognitive Services** when you:\n",
        "\n",
        "  + Can use a generalized solution.\n",
        "  + Access solution from a programming REST API or SDK.\n",
        "\n",
        "+ Using another machine-learning solution when you:\n",
        "\n",
        "  + Need to choose the algorithm and need to train on very specific data.\n",
        "\n",
        "Azure's **Computer Vision service** provides developers with access to advanced algorithms that process images and return information. In the following, we will discover more about this service.\n",
        "\n",
        "### Access the vision service:\n",
        "1. Go to the web site of [Microsoft Azure](https://azure.microsoft.com/) \n",
        "1. Click the \"Product\" tab, then \"AI + Machine learning\", then \"Cognitive Services\"\n",
        "1. Here we have 5 options: vision, speech, language, decision, search\n",
        "1. Choose the [Vision service](https://azure.microsoft.com/en-us/services/cognitive-services/directory/vision/).\n",
        "\n",
        "Vision APIs includes: Computer vision, Face, Ink Recognizer, Video Indexer, Custom Vision, Form Recognizer. Some of their demos are available.\n",
        "\n",
        "In \"Computer vision\", we have demos of:\n",
        "+ Analyze an image\n",
        "+ Optical character recognition (OCR)\n",
        "+ Recognize brands, celebrities and landmarks\n",
        "+ Analyze video in near real-time\n",
        "+ Generate a thumbnail\n",
        "\n",
        "### Trying some demos out:\n",
        "**Task:** Try some demos out with different inputs to see some of their capabilities.\n",
        "\n",
        "Example: Feature \"[Analyze an image](https://azure.microsoft.com/en-us/services/cognitive-services/computer-vision/#analyze)\" returns information about visual content found in an image:\n",
        "+ Use tagging, domain-specific models, and descriptions in four languages to identify content and label it with confidence. \n",
        "+ Use Object Detection to get location of thousands of objects within an image. \n",
        "+ Apply the adult/racy settings to help you detect potential adult content. \n",
        "+ Identify image types and color schemes in pictures.\n",
        "\n",
        "We can upload some different images and observe what outputs are produced. We can also try demos of other Cognitive Services."
      ]
    },
    {
      "cell_type": "markdown",
      "metadata": {
        "id": "wUufArILqvPT"
      },
      "source": [
        "## Build a classifier using the web portal (Custom Vision)\n",
        "\n",
        "In this section we will build a first classifier from the Custom Vision service ([Azure Custom Vision intro](https://docs.microsoft.com/en-us/azure/cognitive-services/custom-vision-service/home)) using the web portal. This section is based on the guide from Microsoft with some more details ([Quickstart: How to build a classifier with Custom Vision](https://docs.microsoft.com/en-us/azure/cognitive-services/custom-vision-service/getting-started-build-a-classifier#create-custom-vision-resources-in-the-azure-portal)).\n",
        "\n",
        "### Task: \n",
        "#### Azure account\n",
        "\n",
        "Create an Azure account if you don't have one yet and log in: [Create one for free](https://azure.microsoft.com/en-us/free/). \n",
        "\n",
        "#### Create Custom Vision resources in the Azure portal:\n",
        " \n",
        "To use the Custom Vision Service, you'll need to create Custom Vision Training and Prediction resources in the Azure portal. Fill out the dialog window on the [Create Custom Vision page](https://portal.azure.com/?microsoft_azure_marketplace_ItemHideKey=microsoft_azure_cognitiveservices_customvision#create/Microsoft.CognitiveServicesCustomVision) to create both a Training and Prediction resource. Choose:\n",
        "  + A name\n",
        "  + A location\n",
        "  + Create a resource group\n",
        "  + Prediction and training pricing tiers (F0 is free, you can choose it if you haven't created any F0 yet) \n",
        "\n",
        "#### Create a new project\n",
        "\n",
        "In your web browser, navigate to the [Custom Vision](https://customvision.ai/) web page and select Sign in. Sign in with the same account you used to sign into the Azure portal.\n",
        "\n",
        "![](https://docs.microsoft.com/en-us/azure/cognitive-services/custom-vision-service/media/browser-home.png)\n",
        "\n",
        "1. To create your first project, select **New Project**. The **Create new project** dialog box will appear.\n",
        "![](https://docs.microsoft.com/en-us/azure/cognitive-services/custom-vision-service/media/getting-started-build-a-classifier/new-project.png)\n",
        "\n",
        "1. Enter a name and a description for the project. Then select a Resource Group. If your signed-in account is associated with an Azure account, the Resource Group dropdown will display all of your Azure Resource Groups that include a Custom Vision Service Resource (select the Resource Group that you've just created).\n",
        "\n",
        "1. Select **Classification** under Project Types. Then, under Classification Types, choose **Multiclass**.\n",
        "\n",
        "1. Choose the domain **Generic**. It's optimized for a broad range of image classification tasks. If none of the other domains are appropriate, or you are unsure of which domain to choose, select the Generic domain.\n",
        "\n",
        "1. Finally, select **Create project**.\n",
        "\n",
        "#### Find some images to use as data\n",
        "If you have some images for classification you can use them. Otherwise we will find some images for our classfication problem.\n",
        "\n",
        "For example we decide to build a classifier between tigers and cats. We may try to find some images of them (we may tray to find some cats that look like a tiger to attempt to trick the classifier). \n",
        "\n",
        "You may try to download images (around 50 for each class) and use a chrome (for chrome user) plugin to download images like \"Fatkun Batch Download\". There are a whole lot more available online.\n",
        "\n",
        "You may download the images of cats in a folder on your PC. Use another folder for the images of tigers. \n",
        "\n",
        "Upload all the images of tigers to your project with the button **Add images**:\n",
        "![](https://docs.microsoft.com/en-us/azure/cognitive-services/custom-vision-service/media/getting-started-build-a-classifier/add-images01.png)\n",
        "\n",
        "Choose a tag (\"tiger\") for example:\n",
        "![](https://docs.microsoft.com/en-us/azure/cognitive-services/custom-vision-service/media/getting-started-build-a-classifier/add-images03.png\n",
        ")\n",
        "\n",
        "Click \"Done\" when it's done.\n",
        "\n",
        "Similarly, upload and use another tag (like \"cat\") for cats.\n",
        "\n",
        "#### Train the classifier\n",
        "\n",
        "Select the **Train** button, and use **Fast training**. \n",
        "\n",
        "![](https://docs.microsoft.com/en-us/azure/cognitive-services/custom-vision-service/media/getting-started-build-a-classifier/train02.png)\n",
        "\n",
        "#### Evaluate the classifier\n",
        "\n",
        "After training has completed, the model's performance is estimated and displayed. The Custom Vision Service uses the images that you submitted for training to calculate precision and recall, using a process called k-fold cross validation. \n",
        "\n",
        "#### Probability Threshold\n",
        "\n",
        "Note the Probability Threshold slider on the left pane of the Performance tab. This is the level of confidence that a prediction needs to have in order to be considered correct (for the purposes of calculating precision and recall).\n",
        "\n",
        "How does this threshold affect the precision and the recall? Check your answer by moving this threshold.\n",
        "\n",
        "#### Manage training iterations\n",
        "\n",
        "Each time you train your classifier, you create a new **iteration** with its own updated performance metrics. You can view all of your iterations in the left pane of the **Performance** tab. In the left pane you will also find the **Delete** button, which you can use to delete an iteration if it's obsolete. When you delete an iteration, you delete any images that are uniquely associated with it.\n",
        "\n",
        "#### Test your model\n",
        "Select the **Quick test** button and upload a new image to test.\n",
        "\n",
        "We may tag and add the tested image to our train data then retrain: [Test and retrain](https://docs.microsoft.com/en-us/azure/cognitive-services/custom-vision-service/test-your-model)\n",
        "\n"
      ]
    },
    {
      "cell_type": "markdown",
      "metadata": {
        "id": "Hh45HNfOqvI-"
      },
      "source": [
        "## Build a classifier using the Python SDK\n",
        "\n",
        "Follow this [tutorial](https://docs.microsoft.com/en-us/azure/cognitive-services/custom-vision-service/python-tutorial) of Azure to use build a model using the Python SDK. The tutorial uses a \"sample.py\" file, but we can use Colab or Jupyter notebook. If necessary, you can [delete](https://www.customvision.ai/projects) your previous work. When you test the model, visualize the tested image to check it visually.\n",
        "\n",
        "\n",
        "\n",
        "\n",
        "\n",
        "\n",
        "\n"
      ]
    },
    {
      "cell_type": "code",
      "metadata": {
        "id": "Ig4fIeqY0Gv4"
      },
      "source": [
        "# Install the library\n",
        "!pip install azure-cognitiveservices-vision-customvision"
      ],
      "execution_count": null,
      "outputs": []
    },
    {
      "cell_type": "code",
      "metadata": {
        "id": "KTbdTlYL0JUl"
      },
      "source": [
        "# Create a project\n",
        "from azure.cognitiveservices.vision.customvision.training import CustomVisionTrainingClient\n",
        "from azure.cognitiveservices.vision.customvision.training.models import ImageFileCreateEntry\n",
        "\n",
        "ENDPOINT = \"https://northeurope.api.cognitive.microsoft.com/\"\n",
        "\n",
        "# Replace with a valid key\n",
        "training_key = \"47f5686ddaa74bedbb477e31e36e9290\"\n",
        "prediction_key = \"1a9dc92d2e0b46d78b4dcce13544e159\"\n",
        "prediction_resource_id = \"/subscriptions/5474ce18-ca31-465e-a52f-87ff7aafeccc/resourceGroups/NE/providers/Microsoft.CognitiveServices/accounts/resource_2_prediction\"\n",
        "\n",
        "publish_iteration_name = \"classifyModel_290819\"\n",
        "\n",
        "trainer = CustomVisionTrainingClient(training_key, endpoint=ENDPOINT)\n",
        "\n",
        "# Create a new project\n",
        "print (\"Creating project...\")\n",
        "project = trainer.create_project(\"My New Project 290819\")"
      ],
      "execution_count": null,
      "outputs": []
    },
    {
      "cell_type": "code",
      "metadata": {
        "id": "dIGl9yiK3bFy",
        "outputId": "1acdf8a3-5ad3-4ab3-90ac-319f90d6186e",
        "colab": {
          "base_uri": "https://localhost:8080/",
          "height": 36
        }
      },
      "source": [
        "project"
      ],
      "execution_count": null,
      "outputs": [
        {
          "output_type": "execute_result",
          "data": {
            "text/plain": [
              "<azure.cognitiveservices.vision.customvision.training.models.project_py3.Project at 0x7f2d0f9afac8>"
            ]
          },
          "metadata": {
            "tags": []
          },
          "execution_count": 3
        }
      ]
    },
    {
      "cell_type": "code",
      "metadata": {
        "id": "tJ-Ttx3u3dlS"
      },
      "source": [
        "# Make two tags in the new project\n",
        "tag_1 = trainer.create_tag(project.id, \"tag 1\")\n",
        "tag_2 = trainer.create_tag(project.id, \"tag 2\")"
      ],
      "execution_count": null,
      "outputs": []
    },
    {
      "cell_type": "code",
      "metadata": {
        "id": "ijqxMLzU8foI",
        "outputId": "cf765dad-4972-4fd0-b8d7-c3e28cc2b395",
        "colab": {
          "base_uri": "https://localhost:8080/",
          "height": 223
        }
      },
      "source": [
        "# Clone to get the data\n",
        "!git clone -l -s git://github.com/Azure-Samples/cognitive-services-python-sdk-samples.git\n",
        "%cd cloned-repo\n",
        "!ls"
      ],
      "execution_count": null,
      "outputs": [
        {
          "output_type": "stream",
          "text": [
            "Cloning into 'cognitive-services-python-sdk-samples'...\n",
            "warning: --local is ignored\n",
            "remote: Enumerating objects: 10, done.\u001b[K\n",
            "remote: Counting objects:  10% (1/10)\u001b[K\rremote: Counting objects:  20% (2/10)\u001b[K\rremote: Counting objects:  30% (3/10)\u001b[K\rremote: Counting objects:  40% (4/10)\u001b[K\rremote: Counting objects:  50% (5/10)\u001b[K\rremote: Counting objects:  60% (6/10)\u001b[K\rremote: Counting objects:  70% (7/10)\u001b[K\rremote: Counting objects:  80% (8/10)\u001b[K\rremote: Counting objects:  90% (9/10)\u001b[K\rremote: Counting objects: 100% (10/10)\u001b[K\rremote: Counting objects: 100% (10/10), done.\u001b[K\n",
            "remote: Compressing objects:  10% (1/10)\u001b[K\rremote: Compressing objects:  20% (2/10)\u001b[K\rremote: Compressing objects:  30% (3/10)\u001b[K\rremote: Compressing objects:  40% (4/10)\u001b[K\rremote: Compressing objects:  50% (5/10)\u001b[K\rremote: Compressing objects:  60% (6/10)\u001b[K\rremote: Compressing objects:  70% (7/10)\u001b[K\rremote: Compressing objects:  80% (8/10)\u001b[K\rremote: Compressing objects:  90% (9/10)\u001b[K\rremote: Compressing objects: 100% (10/10)\u001b[K\rremote: Compressing objects: 100% (10/10), done.\u001b[K\n",
            "Receiving objects:   0% (1/581)   \rReceiving objects:   1% (6/581)   \rReceiving objects:   2% (12/581)   \rReceiving objects:   3% (18/581)   \rReceiving objects:   4% (24/581)   \rReceiving objects:   5% (30/581)   \rReceiving objects:   6% (35/581)   \rReceiving objects:   7% (41/581)   \rReceiving objects:   8% (47/581)   \rReceiving objects:   9% (53/581)   \rReceiving objects:  10% (59/581)   \rReceiving objects:  11% (64/581)   \rReceiving objects:  12% (70/581)   \rReceiving objects:  13% (76/581)   \rReceiving objects:  14% (82/581)   \rReceiving objects:  15% (88/581)   \rReceiving objects:  16% (93/581)   \rReceiving objects:  17% (99/581)   \rReceiving objects:  18% (105/581)   \rReceiving objects:  19% (111/581)   \rReceiving objects:  20% (117/581)   \rReceiving objects:  21% (123/581)   \rReceiving objects:  22% (128/581)   \rReceiving objects:  23% (134/581)   \rReceiving objects:  24% (140/581)   \rReceiving objects:  25% (146/581)   \rReceiving objects:  26% (152/581)   \rReceiving objects:  27% (157/581)   \rReceiving objects:  28% (163/581)   \rReceiving objects:  29% (169/581)   \rReceiving objects:  30% (175/581)   \rReceiving objects:  31% (181/581)   \rReceiving objects:  32% (186/581)   \rReceiving objects:  33% (192/581)   \rReceiving objects:  34% (198/581)   \rReceiving objects:  35% (204/581)   \rReceiving objects:  36% (210/581)   \rReceiving objects:  37% (215/581)   \rReceiving objects:  38% (221/581)   \rReceiving objects:  39% (227/581)   \rReceiving objects:  40% (233/581)   \rReceiving objects:  41% (239/581)   \rReceiving objects:  42% (245/581)   \rReceiving objects:  43% (250/581)   \rReceiving objects:  44% (256/581)   \rReceiving objects:  45% (262/581)   \rReceiving objects:  46% (268/581)   \rReceiving objects:  47% (274/581)   \rReceiving objects:  48% (279/581)   \rReceiving objects:  49% (285/581)   \rReceiving objects:  50% (291/581)   \rReceiving objects:  51% (297/581)   \rReceiving objects:  52% (303/581)   \rReceiving objects:  53% (308/581)   \rReceiving objects:  54% (314/581)   \rReceiving objects:  55% (320/581)   \rReceiving objects:  56% (326/581)   \rReceiving objects:  57% (332/581)   \rReceiving objects:  58% (337/581)   \rReceiving objects:  59% (343/581)   \rReceiving objects:  60% (349/581)   \rReceiving objects:  61% (355/581)   \rReceiving objects:  62% (361/581)   \rReceiving objects:  63% (367/581)   \rReceiving objects:  64% (372/581)   \rReceiving objects:  65% (378/581)   \rReceiving objects:  66% (384/581)   \rReceiving objects:  67% (390/581)   \rReceiving objects:  68% (396/581)   \rReceiving objects:  69% (401/581)   \rReceiving objects:  70% (407/581)   \rremote: Total 581 (delta 0), reused 4 (delta 0), pack-reused 571\u001b[K\n",
            "Receiving objects:  71% (413/581)   \rReceiving objects:  72% (419/581)   \rReceiving objects:  73% (425/581)   \rReceiving objects:  74% (430/581)   \rReceiving objects:  75% (436/581)   \rReceiving objects:  76% (442/581)   \rReceiving objects:  77% (448/581)   \rReceiving objects:  78% (454/581)   \rReceiving objects:  79% (459/581)   \rReceiving objects:  80% (465/581)   \rReceiving objects:  81% (471/581)   \rReceiving objects:  82% (477/581)   \rReceiving objects:  83% (483/581)   \rReceiving objects:  84% (489/581)   \rReceiving objects:  85% (494/581)   \rReceiving objects:  86% (500/581)   \rReceiving objects:  87% (506/581)   \rReceiving objects:  88% (512/581)   \rReceiving objects:  89% (518/581)   \rReceiving objects:  90% (523/581)   \rReceiving objects:  91% (529/581)   \rReceiving objects:  92% (535/581)   \rReceiving objects:  93% (541/581)   \rReceiving objects:  94% (547/581)   \rReceiving objects:  95% (552/581)   \rReceiving objects:  96% (558/581)   \rReceiving objects:  97% (564/581)   \rReceiving objects:  98% (570/581)   \rReceiving objects:  99% (576/581)   \rReceiving objects: 100% (581/581)   \rReceiving objects: 100% (581/581), 8.46 MiB | 43.31 MiB/s, done.\n",
            "Resolving deltas:   0% (0/300)   \rResolving deltas:   2% (6/300)   \rResolving deltas:   3% (10/300)   \rResolving deltas:   4% (14/300)   \rResolving deltas:   9% (29/300)   \rResolving deltas:  10% (31/300)   \rResolving deltas:  11% (33/300)   \rResolving deltas:  12% (38/300)   \rResolving deltas:  14% (44/300)   \rResolving deltas:  15% (45/300)   \rResolving deltas:  16% (48/300)   \rResolving deltas:  17% (52/300)   \rResolving deltas:  19% (57/300)   \rResolving deltas:  23% (71/300)   \rResolving deltas:  26% (79/300)   \rResolving deltas:  27% (82/300)   \rResolving deltas:  28% (86/300)   \rResolving deltas:  30% (90/300)   \rResolving deltas:  31% (94/300)   \rResolving deltas:  32% (96/300)   \rResolving deltas:  33% (100/300)   \rResolving deltas:  39% (117/300)   \rResolving deltas:  41% (123/300)   \rResolving deltas:  42% (128/300)   \rResolving deltas:  44% (132/300)   \rResolving deltas:  45% (137/300)   \rResolving deltas:  46% (138/300)   \rResolving deltas:  47% (142/300)   \rResolving deltas:  50% (150/300)   \rResolving deltas:  51% (154/300)   \rResolving deltas:  67% (203/300)   \rResolving deltas:  69% (208/300)   \rResolving deltas:  73% (219/300)   \rResolving deltas:  78% (235/300)   \rResolving deltas:  85% (257/300)   \rResolving deltas:  87% (263/300)   \rResolving deltas:  88% (265/300)   \rResolving deltas:  89% (267/300)   \rResolving deltas:  91% (273/300)   \rResolving deltas:  92% (276/300)   \rResolving deltas:  98% (294/300)   \rResolving deltas:  99% (297/300)   \rResolving deltas: 100% (300/300)   \rResolving deltas: 100% (300/300), done.\n",
            "[Errno 2] No such file or directory: 'cloned-repo'\n",
            "/content\n",
            "cattiger.zip  cognitive-services-python-sdk-samples  sample_data\n"
          ],
          "name": "stdout"
        }
      ]
    },
    {
      "cell_type": "code",
      "metadata": {
        "id": "kGvUdKLb3ymc"
      },
      "source": [
        "# Read images\n",
        "base_image_url = \"/content/cognitive-services-python-sdk-samples/samples/vision/\"\n",
        "\n",
        "print(\"Adding images...\")\n",
        "\n",
        "image_list = []\n",
        "\n",
        "for image_num in range(1, 11):\n",
        "    file_name = \"hemlock_{}.jpg\".format(image_num)\n",
        "    with open(base_image_url + \"images/Hemlock/\" + file_name, \"rb\") as image_contents:\n",
        "        image_list.append(ImageFileCreateEntry(name=file_name, contents=image_contents.read(), tag_ids=[tag_1.id]))\n",
        "\n",
        "for image_num in range(1, 11):\n",
        "    file_name = \"japanese_cherry_{}.jpg\".format(image_num)\n",
        "    with open(base_image_url + \"images/Japanese Cherry/\" + file_name, \"rb\") as image_contents:\n",
        "        image_list.append(ImageFileCreateEntry(name=file_name, contents=image_contents.read(), tag_ids=[tag_2.id]))\n",
        "\n",
        "upload_result = trainer.create_images_from_files(project.id, images=image_list)\n",
        "if not upload_result.is_batch_successful:\n",
        "    print(\"Image batch upload failed.\")\n",
        "    for image in upload_result.images:\n",
        "        print(\"Image status: \", image.status)\n",
        "    exit(-1)"
      ],
      "execution_count": null,
      "outputs": []
    },
    {
      "cell_type": "code",
      "metadata": {
        "id": "CxMdZtTT-l6T"
      },
      "source": [
        "len(image_list)"
      ],
      "execution_count": null,
      "outputs": []
    },
    {
      "cell_type": "code",
      "metadata": {
        "id": "UMYzQzXH-_Cx"
      },
      "source": [
        "# Train\n",
        "import time\n",
        "\n",
        "print (\"Training...\")\n",
        "iteration = trainer.train_project(project.id)\n",
        "while (iteration.status != \"Completed\"):\n",
        "    iteration = trainer.get_iteration(project.id, iteration.id)\n",
        "    print (\"Training status: \" + iteration.status)\n",
        "    #time.sleep(1)\n",
        "\n",
        "# The iteration is now trained. Publish it to the project endpoint\n",
        "trainer.publish_iteration(project.id, iteration.id, publish_iteration_name, prediction_resource_id)\n",
        "print (\"Done!\")"
      ],
      "execution_count": null,
      "outputs": []
    },
    {
      "cell_type": "code",
      "metadata": {
        "id": "p1bcleGwNpoW",
        "outputId": "fb0ec2b6-171a-40bc-ff85-f45fd43f8240",
        "colab": {
          "base_uri": "https://localhost:8080/",
          "height": 54
        }
      },
      "source": [
        "# Test one image\n",
        "from azure.cognitiveservices.vision.customvision.prediction import CustomVisionPredictionClient\n",
        "\n",
        "# Now there is a trained endpoint that can be used to make a prediction\n",
        "predictor = CustomVisionPredictionClient(prediction_key, endpoint=ENDPOINT)\n",
        "\n",
        "with open(base_image_url + \"images/Test/test_image.jpg\", \"rb\") as image_contents:\n",
        "    results = predictor.classify_image(project.id, publish_iteration_name, image_contents.read())\n",
        "\n",
        "    # Display the results.\n",
        "    for prediction in results.predictions:\n",
        "        print(\"\\t\" + prediction.tag_name +\n",
        "              \": {0:.2f}%\".format(prediction.probability * 100))"
      ],
      "execution_count": null,
      "outputs": [
        {
          "output_type": "stream",
          "text": [
            "\ttag 1: 100.00%\n",
            "\ttag 2: 0.00%\n"
          ],
          "name": "stdout"
        }
      ]
    },
    {
      "cell_type": "code",
      "metadata": {
        "id": "DoAqsl99Op-D",
        "outputId": "82996074-694e-4707-f0c7-056539f957ac",
        "colab": {
          "base_uri": "https://localhost:8080/",
          "height": 288
        }
      },
      "source": [
        "# Visualize the tested image\n",
        "import matplotlib.pyplot as plt\n",
        "test_im = plt.imread(base_image_url + \"images/Test/test_image.jpg\")\n",
        "plt.imshow(test_im)"
      ],
      "execution_count": null,
      "outputs": [
        {
          "output_type": "execute_result",
          "data": {
            "text/plain": [
              "<matplotlib.image.AxesImage at 0x7f2cf89f7080>"
            ]
          },
          "metadata": {
            "tags": []
          },
          "execution_count": 10
        },
        {
          "output_type": "display_data",
          "data": {
            "image/png": "[encoded data removed]",
            "text/plain": [
              "<Figure size 432x288 with 1 Axes>"
            ]
          },
          "metadata": {
            "tags": []
          }
        }
      ]
    },
    {
      "cell_type": "code",
      "metadata": {
        "id": "jB79V6uEeiJg",
        "outputId": "0b9e6cac-4b3f-472e-8b33-b0689269051e",
        "colab": {
          "base_uri": "https://localhost:8080/",
          "height": 36
        }
      },
      "source": [
        "results.predictions[1].probability"
      ],
      "execution_count": null,
      "outputs": [
        {
          "output_type": "execute_result",
          "data": {
            "text/plain": [
              "1.06823181e-13"
            ]
          },
          "metadata": {
            "tags": []
          },
          "execution_count": 11
        }
      ]
    },
    {
      "cell_type": "markdown",
      "metadata": {
        "id": "r24aeDFObCpT"
      },
      "source": [
        "## Apply to other data\n",
        "\n",
        "### Training data\n",
        "\n",
        "You may want to delete your previous project because if you run the same code again you may create another project.\n",
        "\n",
        "Prepare some training data (at least 90 images overall) and some testing data (at least 10 images overall). \n",
        "\n",
        "Modify the codes of the previous tutorial to read images from other data (like \"cat\" and \"tiger\") with unknown files' names. "
      ]
    },
    {
      "cell_type": "code",
      "metadata": {
        "id": "UGU_nsB9eqoH"
      },
      "source": [
        "# Upload data (zip) and unzip:\n",
        "from zipfile import ZipFile \n",
        "\n",
        "zip_0 = ZipFile('/content/cattiger.zip', 'r')\n",
        "zip_0.extractall(path='/content')\n"
      ],
      "execution_count": null,
      "outputs": []
    },
    {
      "cell_type": "code",
      "metadata": {
        "id": "4-pGS_BLe5LT"
      },
      "source": [
        "import glob\n",
        "cat = glob.glob('/content/cattiger/train/cat/*')\n",
        "tiger = glob.glob('/content/cattiger/train/tiger/*')"
      ],
      "execution_count": null,
      "outputs": []
    },
    {
      "cell_type": "code",
      "metadata": {
        "id": "8yKb1mZLe_fH",
        "outputId": "d2d67ea0-e967-428f-9a48-d52af42007fb",
        "colab": {
          "base_uri": "https://localhost:8080/",
          "height": 36
        }
      },
      "source": [
        "len(cat), len(tiger)"
      ],
      "execution_count": null,
      "outputs": [
        {
          "output_type": "execute_result",
          "data": {
            "text/plain": [
              "(50, 45)"
            ]
          },
          "metadata": {
            "tags": []
          },
          "execution_count": 14
        }
      ]
    },
    {
      "cell_type": "code",
      "metadata": {
        "id": "scRHqG-rfl7j",
        "outputId": "5330df2d-d1af-475f-a167-901d88d4428b",
        "colab": {
          "base_uri": "https://localhost:8080/",
          "height": 36
        }
      },
      "source": [
        "# Create a project\n",
        "from azure.cognitiveservices.vision.customvision.training import CustomVisionTrainingClient\n",
        "from azure.cognitiveservices.vision.customvision.training.models import ImageFileCreateEntry\n",
        "\n",
        "ENDPOINT = \"https://northeurope.api.cognitive.microsoft.com/\"\n",
        "\n",
        "# Replace with a valid key\n",
        "training_key = \"47f5686ddaa74bedbb477e31e36e9290\"\n",
        "prediction_key = \"1a9dc92d2e0b46d78b4dcce13544e159\"\n",
        "prediction_resource_id = \"/subscriptions/5474ce18-ca31-465e-a52f-87ff7aafeccc/resourceGroups/NE/providers/Microsoft.CognitiveServices/accounts/resource_2_prediction\"\n",
        "\n",
        "publish_iteration_name = \"classifyModel_290819\"\n",
        "\n",
        "trainer = CustomVisionTrainingClient(training_key, endpoint=ENDPOINT)\n",
        "\n",
        "# Create a new project\n",
        "print (\"Creating project...\")\n",
        "project = trainer.create_project(\"My New Project 290819\")\n",
        "\n",
        "\n",
        "# Make two tags in the new project\n",
        "cat_tag = trainer.create_tag(project.id, \"cat tag\")\n",
        "tiger_tag = trainer.create_tag(project.id, \"tiger tag\")"
      ],
      "execution_count": null,
      "outputs": [
        {
          "output_type": "stream",
          "text": [
            "Creating project...\n"
          ],
          "name": "stdout"
        }
      ]
    },
    {
      "cell_type": "code",
      "metadata": {
        "id": "9TWxeZsKgbwZ",
        "outputId": "34a868e9-9daf-4560-84b9-3b951044b826",
        "colab": {
          "base_uri": "https://localhost:8080/",
          "height": 36
        }
      },
      "source": [
        "# Read images\n",
        "\n",
        "print(\"Adding images...\")\n",
        "\n",
        "image_list = []\n",
        "\n",
        "for i in range(len(cat)):\n",
        "    file_name = cat[i]\n",
        "    with open(file_name, \"rb\") as image_contents:\n",
        "        image_list.append(ImageFileCreateEntry(name=file_name, contents=image_contents.read(), tag_ids=[cat_tag.id]))\n",
        "\n",
        "for i in range(len(tiger)):\n",
        "    file_name = tiger[i]\n",
        "    with open(file_name, \"rb\") as image_contents:\n",
        "        image_list.append(ImageFileCreateEntry(name=file_name, contents=image_contents.read(), tag_ids=[tiger_tag.id]))\n",
        "\n",
        "for j in range(len(image_list)//64 + 1):\n",
        "  upload_result = trainer.create_images_from_files(project.id, images=image_list[j*64 : (j+1)*64])\n",
        "if not upload_result.is_batch_successful:\n",
        "    print(\"Image batch upload failed.\")\n",
        "    for image in upload_result.images:\n",
        "        print(\"Image status: \", image.status)\n",
        "    exit(-1)"
      ],
      "execution_count": null,
      "outputs": [
        {
          "output_type": "stream",
          "text": [
            "Adding images...\n"
          ],
          "name": "stdout"
        }
      ]
    },
    {
      "cell_type": "code",
      "metadata": {
        "id": "vpw3DZNvhP0N"
      },
      "source": [
        "# Train\n",
        "import time\n",
        "\n",
        "print (\"Training...\")\n",
        "iteration = trainer.train_project(project.id)\n",
        "while (iteration.status != \"Completed\"):\n",
        "    iteration = trainer.get_iteration(project.id, iteration.id)\n",
        "    print (\"Training status: \" + iteration.status)\n",
        "    #time.sleep(1)\n",
        "\n",
        "# The iteration is now trained. Publish it to the project endpoint\n",
        "trainer.publish_iteration(project.id, iteration.id, publish_iteration_name, prediction_resource_id)\n",
        "print (\"Done!\")"
      ],
      "execution_count": null,
      "outputs": []
    },
    {
      "cell_type": "markdown",
      "metadata": {
        "id": "goX83LBZw2tE"
      },
      "source": [
        "**Test Data**\n",
        "\n",
        "Make predictions for test data, save the results in a list (or dictionary, dataframe, etc.)."
      ]
    },
    {
      "cell_type": "code",
      "metadata": {
        "id": "EyvyDsSV35h8",
        "outputId": "b28835c8-3e15-494b-ad87-633d83daaae8",
        "colab": {
          "base_uri": "https://localhost:8080/",
          "height": 36
        }
      },
      "source": [
        "cat_test = glob.glob('/content/cattiger/test/cat/*')\n",
        "tiger_test = glob.glob('/content/cattiger/test/tiger/*')\n",
        "len(cat_test), len(tiger_test)"
      ],
      "execution_count": null,
      "outputs": [
        {
          "output_type": "execute_result",
          "data": {
            "text/plain": [
              "(9, 9)"
            ]
          },
          "metadata": {
            "tags": []
          },
          "execution_count": 18
        }
      ]
    },
    {
      "cell_type": "code",
      "metadata": {
        "id": "73uVTp2v4aBL"
      },
      "source": [
        "import numpy as np\n",
        "import pandas as pd\n",
        "a = pd.Series(cat_test + tiger_test)\n",
        "\n",
        "b = pd.Series(np.concatenate([np.zeros(9), np.ones(9)]))\n",
        "\n",
        "test_data = pd.DataFrame({'url': a, 'is_tiger': b})\n",
        "test_data\n"
      ],
      "execution_count": null,
      "outputs": []
    },
    {
      "cell_type": "code",
      "metadata": {
        "id": "Cq0y5-Kv7K-E",
        "outputId": "60382bfe-0e33-4346-8440-83eb692f4a1c",
        "colab": {
          "base_uri": "https://localhost:8080/",
          "height": 36
        }
      },
      "source": [
        "test_data.shape[0]\n",
        "test_data['url'][1]"
      ],
      "execution_count": null,
      "outputs": [
        {
          "output_type": "execute_result",
          "data": {
            "text/plain": [
              "'/content/cattiger/test/cat/images (3).jpg'"
            ]
          },
          "metadata": {
            "tags": []
          },
          "execution_count": 20
        }
      ]
    },
    {
      "cell_type": "code",
      "metadata": {
        "id": "fkluHrnth_Yc"
      },
      "source": [
        "# Test one image\n",
        "from azure.cognitiveservices.vision.customvision.prediction import CustomVisionPredictionClient\n",
        "\n",
        "# Now there is a trained endpoint that can be used to make a prediction\n",
        "predictor = CustomVisionPredictionClient(prediction_key, endpoint=ENDPOINT)\n",
        "\n",
        "add_info = []\n",
        "pred = []\n",
        "for i in range(test_data.shape[0]):\n",
        "  with open(test_data['url'][i], \"rb\") as image_contents:\n",
        "      results = predictor.classify_image(project.id, publish_iteration_name, image_contents.read())\n",
        "\n",
        "      # Display the results.\n",
        "      more_infor = []\n",
        "      for prediction in results.predictions:\n",
        "          print(\"\\t\" + prediction.tag_name +\n",
        "                \": {0:.2f}%\".format(prediction.probability * 100))\n",
        "          more_infor.append(prediction.as_dict())\n",
        "      add_info.append(more_infor)\n",
        "      pred.append(results.predictions[0].tag_name=='tiger tag')"
      ],
      "execution_count": null,
      "outputs": []
    },
    {
      "cell_type": "code",
      "metadata": {
        "id": "qRxKDIqR9HkM"
      },
      "source": [
        "pred\n"
      ],
      "execution_count": null,
      "outputs": []
    },
    {
      "cell_type": "code",
      "metadata": {
        "id": "MR_a7wO38nXw"
      },
      "source": [
        "test_data['pred'] = pd.Series(pred)\n",
        "test_data['add_info'] = pd.Series(add_info)\n"
      ],
      "execution_count": null,
      "outputs": []
    },
    {
      "cell_type": "code",
      "metadata": {
        "id": "z8htjUyWCSuN"
      },
      "source": [
        "print(test_data[['is_tiger','pred']])"
      ],
      "execution_count": null,
      "outputs": []
    },
    {
      "cell_type": "markdown",
      "metadata": {
        "id": "MMr-R3Of-vTz"
      },
      "source": [
        "## Extra tasks:\n",
        "\n",
        "Begin with the tasks that you're interested in the most to discover more about Microsoft's \"cognitive services\":\n",
        "\n",
        "1. Could the classifier perform well with less data? Try to vary the number of images and observe the performance.\n",
        "\n",
        "1. Could the classifier work well with difficult classification problems? Try to trick the classifier with some other classes that look very alike.\n",
        "\n",
        "1. What if train data is different from test data? For example: train with images of animals and test with drawings of animals, and vice versa. \n",
        "\n",
        "1. Try out different \"custom vision\" service like [object detection](https://docs.microsoft.com/en-us/azure/cognitive-services/custom-vision-service/python-tutorial). \n",
        "\n",
        "1. If you're familiar with languages (C, Java, etc.) other than Python, try the APIs with them.  \n",
        "\n",
        "1. Try to build an application for your mobile phone.\n",
        "\n",
        "\n",
        "\n",
        "\n",
        "\n",
        "\n",
        "\n",
        "\n"
      ]
    },
    {
      "cell_type": "code",
      "metadata": {
        "id": "Jiol_ieHGDi3"
      },
      "source": [
        ""
      ],
      "execution_count": null,
      "outputs": []
    }
  ]
}
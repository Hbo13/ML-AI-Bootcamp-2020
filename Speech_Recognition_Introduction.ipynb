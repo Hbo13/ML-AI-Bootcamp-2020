{
  "nbformat": 4,
  "nbformat_minor": 0,
  "metadata": {
    "kernelspec": {
      "display_name": "Python 3",
      "language": "python",
      "name": "python3"
    },
    "language_info": {
      "codemirror_mode": {
        "name": "ipython",
        "version": 3
      },
      "file_extension": ".py",
      "mimetype": "text/x-python",
      "name": "python",
      "nbconvert_exporter": "python",
      "pygments_lexer": "ipython3",
      "version": "3.7.3"
    },
    "colab": {
      "name": "Copie de B2.4.2 - Speech_Recognition Teacher Sheet.ipynb",
      "provenance": []
    }
  },
  "cells": [
    {
      "cell_type": "markdown",
      "metadata": {
        "id": "yJ7zWEKo7V_C"
      },
      "source": [
        "<h1 align=center><font size=5>Speech Recognition</font></h1>"
      ]
    },
    {
      "cell_type": "markdown",
      "metadata": {
        "id": "iqXFvZXJ7V_G"
      },
      "source": [
        "## Table of contents\n",
        "\n",
        "- [Objective](#obj)\n",
        "- [Data](#data)\n",
        "- [Data Preprocessing](#data_preproc)\n",
        "- [Time Domain Model](#time_model)\n",
        "- [Time-Frequency Domain Model](#time_freq_model)"
      ]
    },
    {
      "cell_type": "markdown",
      "metadata": {
        "id": "J67D0s797V_I"
      },
      "source": [
        "## Objective <a id='obj'></a>"
      ]
    },
    {
      "cell_type": "markdown",
      "metadata": {
        "id": "WpT1v8__7V_J"
      },
      "source": [
        "In this notebook, we will learn how to deal with audio/voice singals. Accordingly, we will build time domain and time-frequency domain models for the purpose of speech classification."
      ]
    },
    {
      "cell_type": "markdown",
      "metadata": {
        "id": "GiEbNRoS7V_P"
      },
      "source": [
        "## Data <a id='data'></a>"
      ]
    },
    {
      "cell_type": "markdown",
      "metadata": {
        "id": "HEJCf39X7V_Q"
      },
      "source": [
        "Let us consider the Free Spoken Digit Dataset (FSDD), so called \"speech MNIST\" dataset. The dataset contains a set of recorded spoken digits in wav formats. You can access to this dataset in the following URL: https://github.com/Jakobovski/free-spoken-digit-dataset"
      ]
    },
    {
      "cell_type": "markdown",
      "metadata": {
        "id": "XTpAuXj77V_S"
      },
      "source": [
        "&#x270d; Download the dataset"
      ]
    },
    {
      "cell_type": "code",
      "metadata": {
        "id": "Ae76MpdT7V_U",
        "outputId": "84212d89-2e99-4985-f57d-ac40b0816f60",
        "colab": {
          "base_uri": "https://localhost:8080/",
          "height": 295
        }
      },
      "source": [
        "!rm -rf free-spoken-digit-dataset-master master.zip\n",
        "!wget https://github.com/Jakobovski/free-spoken-digit-dataset/archive/master.zip\n",
        "!unzip -q -o master.zip\n",
        "!rm master.zip"
      ],
      "execution_count": null,
      "outputs": [
        {
          "output_type": "stream",
          "text": [
            "--2020-03-09 08:42:29--  https://github.com/Jakobovski/free-spoken-digit-dataset/archive/master.zip\n",
            "Resolving github.com (github.com)... 140.82.114.3\n",
            "Connecting to github.com (github.com)|140.82.114.3|:443... connected.\n",
            "HTTP request sent, awaiting response... 302 Found\n",
            "Location: https://codeload.github.com/Jakobovski/free-spoken-digit-dataset/zip/master [following]\n",
            "--2020-03-09 08:42:29--  https://codeload.github.com/Jakobovski/free-spoken-digit-dataset/zip/master\n",
            "Resolving codeload.github.com (codeload.github.com)... 140.82.112.9\n",
            "Connecting to codeload.github.com (codeload.github.com)|140.82.112.9|:443... connected.\n",
            "HTTP request sent, awaiting response... 200 OK\n",
            "Length: unspecified [application/zip]\n",
            "Saving to: ‘master.zip’\n",
            "\n",
            "\rmaster.zip              [<=>                 ]       0  --.-KB/s               \rmaster.zip              [ <=>                ]   2.51M  12.6MB/s               \rmaster.zip              [  <=>               ]   4.97M  12.4MB/s               \rmaster.zip              [   <=>              ]   7.32M  12.2MB/s               \rmaster.zip              [    <=>             ]   9.03M  12.4MB/s    in 0.7s    \n",
            "\n",
            "2020-03-09 08:42:30 (12.4 MB/s) - ‘master.zip’ saved [9465583]\n",
            "\n"
          ],
          "name": "stdout"
        }
      ]
    },
    {
      "cell_type": "code",
      "metadata": {
        "id": "VCY_fEpQGMRl",
        "outputId": "7d4e743e-44b4-40c5-d0a3-da95cefe47ab",
        "colab": {
          "base_uri": "https://localhost:8080/",
          "height": 211
        }
      },
      "source": [
        "# on google colab\n",
        "from google.colab import drive\n",
        "drive.mount('/content/gdrive')\n",
        "\n",
        "path_clone = \"/content/gdrive/My Drive/projects\"\n",
        "!cd path_clone \n",
        "\n",
        "!git colab https://github.com/Jakobovski/free-spoken-digit-dataset.git "
      ],
      "execution_count": null,
      "outputs": [
        {
          "output_type": "stream",
          "text": [
            "Go to this URL in a browser: https://accounts.google.com/o/oauth2/auth?client_id=947318989803-6bn6qk8qdgf4n4g3pfee6491hc0brc4i.apps.googleusercontent.com&redirect_uri=urn%3aietf%3awg%3aoauth%3a2.0%3aoob&response_type=code&scope=email%20https%3a%2f%2fwww.googleapis.com%2fauth%2fdocs.test%20https%3a%2f%2fwww.googleapis.com%2fauth%2fdrive%20https%3a%2f%2fwww.googleapis.com%2fauth%2fdrive.photos.readonly%20https%3a%2f%2fwww.googleapis.com%2fauth%2fpeopleapi.readonly\n",
            "\n",
            "Enter your authorization code:\n",
            "··········\n",
            "Mounted at /content/gdrive\n",
            "/bin/bash: line 0: cd: path_clone: No such file or directory\n",
            "git: 'colab' is not a git command. See 'git --help'.\n",
            "\n",
            "The most similar command is\n",
            "\tclone\n"
          ],
          "name": "stdout"
        }
      ]
    },
    {
      "cell_type": "markdown",
      "metadata": {
        "id": "gR06Jo377V_x"
      },
      "source": [
        "&#x270d; Load an audio file using librosa.load. To preserve the native sampling rate of the file, use `sr=None`."
      ]
    },
    {
      "cell_type": "code",
      "metadata": {
        "id": "9cO8b3s-7V_x"
      },
      "source": [
        "import os\n",
        "import librosa # !pip install librosa\n",
        "\n",
        "\n",
        "audio_path = os.path.join(os.getcwd(), 'free-spoken-digit-dataset-master/recordings')\n",
        "audio_files = os.listdir(audio_path) \n",
        "\n",
        "sample_audio_file = audio_files[500] # choose a ranodm audio file\n",
        "\n",
        "sample_audio_path = audio_path + '/' + sample_audio_file\n",
        "\n",
        "\n",
        "X, sr = librosa.load(sample_audio_path, sr= None)"
      ],
      "execution_count": null,
      "outputs": []
    },
    {
      "cell_type": "markdown",
      "metadata": {
        "id": "Nnkgc07I7V_0"
      },
      "source": [
        "&#x270d; Display the length of the audio array and sampling rate."
      ]
    },
    {
      "cell_type": "code",
      "metadata": {
        "id": "Th2EujAq7V_0",
        "outputId": "91a3f94f-c65e-4d44-b7c5-298d5f7105d7",
        "colab": {
          "base_uri": "https://localhost:8080/",
          "height": 52
        }
      },
      "source": [
        "print('Audio signal shape:', X.shape)\n",
        "print('Sampling rate: {} Hz'.format(sr))"
      ],
      "execution_count": null,
      "outputs": [
        {
          "output_type": "stream",
          "text": [
            "Audio signal shape: (5711,)\n",
            "Sampling rate: 8000 Hz\n"
          ],
          "name": "stdout"
        }
      ]
    },
    {
      "cell_type": "markdown",
      "metadata": {
        "id": "wD7Z0glH7V_4"
      },
      "source": [
        "&#x270d; How long is the audio signal in seconds?"
      ]
    },
    {
      "cell_type": "code",
      "metadata": {
        "id": "SeoPWHKD7V_5",
        "outputId": "0e1758ac-1167-4e11-96a3-1cbc1214e56c",
        "colab": {
          "base_uri": "https://localhost:8080/",
          "height": 35
        }
      },
      "source": [
        "print('Audio length: {} seconds'.format(X.shape[0]/sr))"
      ],
      "execution_count": null,
      "outputs": [
        {
          "output_type": "stream",
          "text": [
            "Audio length: 0.713875 seconds\n"
          ],
          "name": "stdout"
        }
      ]
    },
    {
      "cell_type": "markdown",
      "metadata": {
        "id": "R03QVPmw7V_6"
      },
      "source": [
        "&#x270d; Play your chosen audio file."
      ]
    },
    {
      "cell_type": "code",
      "metadata": {
        "id": "8hNA7isO7V_7",
        "outputId": "5438e114-734b-41aa-87bb-608a5d8c2321",
        "colab": {
          "base_uri": "https://localhost:8080/",
          "height": 75
        }
      },
      "source": [
        "from IPython.display import Audio\n",
        "\n",
        "Audio(X, rate = sr)"
      ],
      "execution_count": null,
      "outputs": [
        {
          "output_type": "execute_result",
          "data": {
            "text/html": [
              "\n",
              "                <audio controls=\"controls\" >\n",
              "                    <source src=\"data:audio/wav;base64,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\" type=\"audio/wav\" />\n",
              "                    Your browser does not support the audio element.\n",
              "                </audio>\n",
              "              "
            ],
            "text/plain": [
              "<IPython.lib.display.Audio object>"
            ]
          },
          "metadata": {
            "tags": []
          },
          "execution_count": 8
        }
      ]
    },
    {
      "cell_type": "markdown",
      "metadata": {
        "id": "zfVArWrC7V_8"
      },
      "source": [
        "&#x270d; Plot the audio signal in time domain."
      ]
    },
    {
      "cell_type": "code",
      "metadata": {
        "id": "Oq6mfABc7V_9",
        "outputId": "3fdf41e6-1ba1-44f5-ef23-05de3d53e6d4",
        "colab": {
          "base_uri": "https://localhost:8080/",
          "height": 297
        }
      },
      "source": [
        "import librosa.display\n",
        "import matplotlib.pyplot as plt\n",
        "%matplotlib inline\n",
        "\n",
        "librosa.display.waveplot(X, sr= sr)"
      ],
      "execution_count": null,
      "outputs": [
        {
          "output_type": "execute_result",
          "data": {
            "text/plain": [
              "<matplotlib.collections.PolyCollection at 0x7f7db3004fd0>"
            ]
          },
          "metadata": {
            "tags": []
          },
          "execution_count": 9
        },
        {
          "output_type": "display_data",
          "data": {
            "image/png": "[encoded data removed]",
            "text/plain": [
              "<Figure size 432x288 with 1 Axes>"
            ]
          },
          "metadata": {
            "tags": []
          }
        }
      ]
    },
    {
      "cell_type": "markdown",
      "metadata": {
        "id": "urYQ3-J77V_-"
      },
      "source": [
        "&#x270d; Display the audio signal's spectrogram on a logarithmic scale using *librosa.stft*. Note that, the Short-Time Fourier Transform (STFT) represents a signal in the time-frequency domain by computing discrete Fourier transforms (DFT) over short overlapping windows."
      ]
    },
    {
      "cell_type": "code",
      "metadata": {
        "id": "mNt99o_b7V_-",
        "outputId": "6dff44de-bdea-49d2-d2b6-80c77e797ef3",
        "colab": {
          "base_uri": "https://localhost:8080/",
          "height": 441
        }
      },
      "source": [
        "import numpy as np\n",
        "\n",
        "n_fft = 1024\n",
        "hop_length = 512\n",
        "\n",
        "stft = librosa.stft(X, n_fft= n_fft, hop_length= hop_length)\n",
        "stft_magnitude, stft_phase = librosa.magphase(stft)\n",
        "stft_magnitude_dB = librosa.amplitude_to_db(stft_magnitude, ref= np.max)\n",
        "\n",
        "plt.figure(figsize=(12, 6))\n",
        "librosa.display.specshow(stft_magnitude_dB, \n",
        "                         x_axis='time', y_axis='log', \n",
        "                         sr= sr, hop_length= hop_length)\n",
        "plt.title('Power spectrogram')\n",
        "plt.colorbar(format='%+2.0f dB')\n",
        "plt.tight_layout()\n",
        "plt.show()"
      ],
      "execution_count": null,
      "outputs": [
        {
          "output_type": "display_data",
          "data": {
            "image/png": "[encoded data removed]",
            "text/plain": [
              "<Figure size 864x432 with 2 Axes>"
            ]
          },
          "metadata": {
            "tags": []
          }
        }
      ]
    },
    {
      "cell_type": "markdown",
      "metadata": {
        "id": "RejstO8V7WAA"
      },
      "source": [
        "&#x270d; What is the hop length in seconds?"
      ]
    },
    {
      "cell_type": "code",
      "metadata": {
        "id": "URL66LKe7WAA",
        "outputId": "6025cc53-2ef7-4387-f901-6b5770d97bc7",
        "colab": {
          "base_uri": "https://localhost:8080/",
          "height": 35
        }
      },
      "source": [
        "print('Hop length: {} seconds'.format(hop_length/sr)) "
      ],
      "execution_count": null,
      "outputs": [
        {
          "output_type": "stream",
          "text": [
            "Hop length: 0.064 seconds\n"
          ],
          "name": "stdout"
        }
      ]
    },
    {
      "cell_type": "markdown",
      "metadata": {
        "id": "E5c079dQ7WAB"
      },
      "source": [
        "## Data Preprocessing <a id='data_preproc'></a>"
      ]
    },
    {
      "cell_type": "markdown",
      "metadata": {
        "id": "oE7G1NIz7WAB"
      },
      "source": [
        "&#x270d; Find all audio files duration in seconds and sampling rate, and plot their distributions."
      ]
    },
    {
      "cell_type": "code",
      "metadata": {
        "id": "z4dQ06nH7WAC",
        "outputId": "cec5c8ed-3978-4f80-fe7f-5838d274b749",
        "colab": {
          "base_uri": "https://localhost:8080/",
          "height": 333
        }
      },
      "source": [
        "audio_path = os.path.join(os.getcwd(), 'free-spoken-digit-dataset-master/recordings')\n",
        "audio_files = os.listdir(audio_path) \n",
        "\n",
        "all_audios_sr = []\n",
        "all_audios_duration = []\n",
        "for audio_file in audio_files:\n",
        "    \n",
        "    audio, sr = librosa.load(audio_path +'/'+ audio_file, sr = None)\n",
        "    \n",
        "    all_audios_sr.append(sr)\n",
        "    all_audios_duration.append(len(audio)/sr)\n",
        "\n",
        "all_audios_duration = np.asarray(all_audios_duration)\n",
        "all_audios_sr = np.asarray(all_audios_sr)\n",
        "\n",
        "plt.figure(figsize = (10, 5))\n",
        "plt.subplot(1,2,1)\n",
        "plt.hist(all_audios_sr);\n",
        "\n",
        "plt.subplot(1,2,2)\n",
        "plt.hist(all_audios_duration, bins = 100);"
      ],
      "execution_count": null,
      "outputs": [
        {
          "output_type": "display_data",
          "data": {
            "image/png": "[encoded data removed]",
            "text/plain": [
              "<Figure size 720x360 with 2 Axes>"
            ]
          },
          "metadata": {
            "tags": []
          }
        }
      ]
    },
    {
      "cell_type": "markdown",
      "metadata": {
        "id": "xmiA6iBX7WAD"
      },
      "source": [
        "&#x270d; Clip or pad audio signals to have one second duration for all audios. Extract audio labels as well. Keep audio signals from speaker 'jackson' for test set, and the rest speakers for training."
      ]
    },
    {
      "cell_type": "code",
      "metadata": {
        "id": "y5oinlSH7WAD"
      },
      "source": [
        "audio_duration_sec = 1\n",
        "\n",
        "pad = lambda a, n: a[:n] if a.shape[0] > n else np.hstack((a, np.zeros(n - a.shape[0])))\n",
        "\n",
        "X_train, y_train = [], []\n",
        "X_test, y_test = [], []\n",
        "for audio_file in audio_files:\n",
        "    \n",
        "    audio, sr = librosa.load(audio_path +'/'+ audio_file, sr = None)\n",
        "    \n",
        "    X = pad(audio, int(audio_duration_sec*sr))\n",
        "    label = audio_file.split('_')[0]\n",
        "    speaker = audio_file.split('_')[1]\n",
        "    \n",
        "    if (speaker=='jackson'):\n",
        "        X_test.append(X)\n",
        "        y_test.append(label)\n",
        "    else:\n",
        "        X_train.append(X)\n",
        "        y_train.append(label)\n",
        "        \n",
        "X_train = np.asarray(X_train)\n",
        "y_train = np.asarray(y_train)\n",
        "\n",
        "X_test = np.asarray(X_test)\n",
        "y_test = np.asarray(y_test)"
      ],
      "execution_count": null,
      "outputs": []
    },
    {
      "cell_type": "code",
      "metadata": {
        "id": "PtERvjh27WAE",
        "outputId": "ad626321-0d5d-4a42-f9cb-9ea0ae07df87",
        "colab": {
          "base_uri": "https://localhost:8080/",
          "height": 52
        }
      },
      "source": [
        "print('X_train shape:', X_train.shape)\n",
        "print('X_test shape:', X_test.shape)"
      ],
      "execution_count": null,
      "outputs": [
        {
          "output_type": "stream",
          "text": [
            "X_train shape: (1500, 8000)\n",
            "X_test shape: (500, 8000)\n"
          ],
          "name": "stdout"
        }
      ]
    },
    {
      "cell_type": "code",
      "metadata": {
        "id": "JAArZKms2VNJ"
      },
      "source": [
        "X_train"
      ],
      "execution_count": null,
      "outputs": []
    },
    {
      "cell_type": "markdown",
      "metadata": {
        "id": "iwV2xxcV7WAF"
      },
      "source": [
        "&#x270d; Convert the labels to a one-hot vector. "
      ]
    },
    {
      "cell_type": "code",
      "metadata": {
        "id": "7ZNfUvKv7WAF",
        "outputId": "e3f8be85-0979-4110-a670-579c8820b3b3",
        "colab": {
          "base_uri": "https://localhost:8080/",
          "height": 81
        }
      },
      "source": [
        "from keras.utils.np_utils import to_categorical\n",
        "\n",
        "y_train = to_categorical(y_train)\n",
        "y_test = to_categorical(y_test)"
      ],
      "execution_count": null,
      "outputs": [
        {
          "output_type": "stream",
          "text": [
            "Using TensorFlow backend.\n"
          ],
          "name": "stderr"
        },
        {
          "output_type": "display_data",
          "data": {
            "text/html": [
              "<p style=\"color: red;\">\n",
              "The default version of TensorFlow in Colab will soon switch to TensorFlow 2.x.<br>\n",
              "We recommend you <a href=\"https://www.tensorflow.org/guide/migrate\" target=\"_blank\">upgrade</a> now \n",
              "or ensure your notebook will continue to use TensorFlow 1.x via the <code>%tensorflow_version 1.x</code> magic:\n",
              "<a href=\"https://colab.research.google.com/notebooks/tensorflow_version.ipynb\" target=\"_blank\">more info</a>.</p>\n"
            ],
            "text/plain": [
              "<IPython.core.display.HTML object>"
            ]
          },
          "metadata": {
            "tags": []
          }
        }
      ]
    },
    {
      "cell_type": "code",
      "metadata": {
        "id": "J1eScNTq7WAG",
        "outputId": "1509af8f-fe94-4420-8b25-6eba3862068a"
      },
      "source": [
        "print('y_train shape:', y_train.shape)\n",
        "print('y_test shape:', y_test.shape)"
      ],
      "execution_count": null,
      "outputs": [
        {
          "output_type": "stream",
          "text": [
            "y_train shape: (1500, 10)\n",
            "y_test shape: (500, 10)\n"
          ],
          "name": "stdout"
        }
      ]
    },
    {
      "cell_type": "markdown",
      "metadata": {
        "id": "NU6vxVjq7WAH"
      },
      "source": [
        "## Time Domain Model <a id='time_model'></a>"
      ]
    },
    {
      "cell_type": "markdown",
      "metadata": {
        "id": "u598CgXu7WAI"
      },
      "source": [
        "&#x270d; Build a model based on time domain input signals and evaluate the classification performance of it. "
      ]
    },
    {
      "cell_type": "code",
      "metadata": {
        "id": "iqLWGNmG7WAI",
        "outputId": "0722b028-4be9-43fb-dd6f-dad282986304",
        "colab": {
          "base_uri": "https://localhost:8080/",
          "height": 609
        }
      },
      "source": [
        "from keras.models import Sequential\n",
        "from keras.layers import Dense, Dropout\n",
        "\n",
        "model = Sequential()\n",
        "model.add(Dense(256, activation='relu', input_dim= X_train.shape[1]))\n",
        "model.add(Dropout(0.25))\n",
        "model.add(Dense(128, activation='relu'))\n",
        "model.add(Dropout(0.25))\n",
        "model.add(Dense(64, activation='relu'))\n",
        "model.add(Dropout(0.25))\n",
        "model.add(Dense(10, activation='softmax'))\n",
        "model.summary()"
      ],
      "execution_count": null,
      "outputs": [
        {
          "output_type": "stream",
          "text": [
            "WARNING:tensorflow:From /usr/local/lib/python3.6/dist-packages/keras/backend/tensorflow_backend.py:66: The name tf.get_default_graph is deprecated. Please use tf.compat.v1.get_default_graph instead.\n",
            "\n",
            "WARNING:tensorflow:From /usr/local/lib/python3.6/dist-packages/keras/backend/tensorflow_backend.py:541: The name tf.placeholder is deprecated. Please use tf.compat.v1.placeholder instead.\n",
            "\n",
            "WARNING:tensorflow:From /usr/local/lib/python3.6/dist-packages/keras/backend/tensorflow_backend.py:4432: The name tf.random_uniform is deprecated. Please use tf.random.uniform instead.\n",
            "\n",
            "WARNING:tensorflow:From /usr/local/lib/python3.6/dist-packages/keras/backend/tensorflow_backend.py:148: The name tf.placeholder_with_default is deprecated. Please use tf.compat.v1.placeholder_with_default instead.\n",
            "\n",
            "WARNING:tensorflow:From /usr/local/lib/python3.6/dist-packages/keras/backend/tensorflow_backend.py:3733: calling dropout (from tensorflow.python.ops.nn_ops) with keep_prob is deprecated and will be removed in a future version.\n",
            "Instructions for updating:\n",
            "Please use `rate` instead of `keep_prob`. Rate should be set to `rate = 1 - keep_prob`.\n",
            "Model: \"sequential_1\"\n",
            "_________________________________________________________________\n",
            "Layer (type)                 Output Shape              Param #   \n",
            "=================================================================\n",
            "dense_1 (Dense)              (None, 256)               2048256   \n",
            "_________________________________________________________________\n",
            "dropout_1 (Dropout)          (None, 256)               0         \n",
            "_________________________________________________________________\n",
            "dense_2 (Dense)              (None, 128)               32896     \n",
            "_________________________________________________________________\n",
            "dropout_2 (Dropout)          (None, 128)               0         \n",
            "_________________________________________________________________\n",
            "dense_3 (Dense)              (None, 64)                8256      \n",
            "_________________________________________________________________\n",
            "dropout_3 (Dropout)          (None, 64)                0         \n",
            "_________________________________________________________________\n",
            "dense_4 (Dense)              (None, 10)                650       \n",
            "=================================================================\n",
            "Total params: 2,090,058\n",
            "Trainable params: 2,090,058\n",
            "Non-trainable params: 0\n",
            "_________________________________________________________________\n"
          ],
          "name": "stdout"
        }
      ]
    },
    {
      "cell_type": "code",
      "metadata": {
        "id": "n4sgxmjK7WAa",
        "outputId": "69297af9-e5e1-4e9b-e41b-6835506483a6",
        "colab": {
          "base_uri": "https://localhost:8080/",
          "height": 1000
        }
      },
      "source": [
        "model.compile(loss= 'categorical_crossentropy',\n",
        "              optimizer= 'adam',\n",
        "              metrics= ['accuracy'])\n",
        "\n",
        "history = model.fit(X_train, y_train,\n",
        "          epochs= 100,\n",
        "          batch_size= 64,\n",
        "          validation_split = 0.2,\n",
        "          shuffle = True,\n",
        "          verbose = 1)"
      ],
      "execution_count": null,
      "outputs": [
        {
          "output_type": "stream",
          "text": [
            "Train on 1200 samples, validate on 300 samples\n",
            "Epoch 1/100\n",
            "1200/1200 [==============================] - 1s 1ms/step - loss: 0.0128 - acc: 0.9967 - val_loss: 7.5773 - val_acc: 0.2000\n",
            "Epoch 2/100\n",
            "1200/1200 [==============================] - 1s 673us/step - loss: 0.0219 - acc: 0.9975 - val_loss: 7.7045 - val_acc: 0.2067\n",
            "Epoch 3/100\n",
            "1200/1200 [==============================] - 1s 652us/step - loss: 0.0205 - acc: 0.9983 - val_loss: 7.6638 - val_acc: 0.2100\n",
            "Epoch 4/100\n",
            "1200/1200 [==============================] - 1s 652us/step - loss: 0.0149 - acc: 0.9975 - val_loss: 7.7489 - val_acc: 0.2133\n",
            "Epoch 5/100\n",
            "1200/1200 [==============================] - 1s 647us/step - loss: 0.0071 - acc: 1.0000 - val_loss: 7.7404 - val_acc: 0.2133\n",
            "Epoch 6/100\n",
            "1200/1200 [==============================] - 1s 671us/step - loss: 0.0264 - acc: 0.9950 - val_loss: 7.7511 - val_acc: 0.2233\n",
            "Epoch 7/100\n",
            "1200/1200 [==============================] - 1s 668us/step - loss: 0.0123 - acc: 0.9967 - val_loss: 7.6914 - val_acc: 0.2267\n",
            "Epoch 8/100\n",
            "1200/1200 [==============================] - 1s 650us/step - loss: 0.0224 - acc: 0.9975 - val_loss: 7.6803 - val_acc: 0.2267\n",
            "Epoch 9/100\n",
            "1200/1200 [==============================] - 1s 678us/step - loss: 0.0121 - acc: 0.9967 - val_loss: 7.6341 - val_acc: 0.2133\n",
            "Epoch 10/100\n",
            "1200/1200 [==============================] - 1s 658us/step - loss: 0.0147 - acc: 0.9975 - val_loss: 7.5455 - val_acc: 0.2167\n",
            "Epoch 11/100\n",
            "1200/1200 [==============================] - 1s 691us/step - loss: 0.0156 - acc: 0.9958 - val_loss: 7.5914 - val_acc: 0.2167\n",
            "Epoch 12/100\n",
            "1200/1200 [==============================] - 1s 668us/step - loss: 0.0171 - acc: 0.9967 - val_loss: 7.6880 - val_acc: 0.2267\n",
            "Epoch 13/100\n",
            "1200/1200 [==============================] - 1s 654us/step - loss: 0.0083 - acc: 0.9983 - val_loss: 7.5847 - val_acc: 0.2167\n",
            "Epoch 14/100\n",
            "1200/1200 [==============================] - 1s 665us/step - loss: 0.0073 - acc: 0.9983 - val_loss: 7.6567 - val_acc: 0.2267\n",
            "Epoch 15/100\n",
            "1200/1200 [==============================] - 1s 658us/step - loss: 0.0184 - acc: 0.9950 - val_loss: 7.6884 - val_acc: 0.2133\n",
            "Epoch 16/100\n",
            "1200/1200 [==============================] - 1s 667us/step - loss: 0.0233 - acc: 0.9967 - val_loss: 7.6356 - val_acc: 0.2200\n",
            "Epoch 17/100\n",
            "1200/1200 [==============================] - 1s 656us/step - loss: 0.0203 - acc: 0.9967 - val_loss: 7.5311 - val_acc: 0.2133\n",
            "Epoch 18/100\n",
            "1200/1200 [==============================] - 1s 666us/step - loss: 0.0218 - acc: 0.9958 - val_loss: 7.4460 - val_acc: 0.2167\n",
            "Epoch 19/100\n",
            "1200/1200 [==============================] - 1s 662us/step - loss: 0.0293 - acc: 0.9933 - val_loss: 7.3919 - val_acc: 0.2133\n",
            "Epoch 20/100\n",
            "1200/1200 [==============================] - 1s 673us/step - loss: 0.0272 - acc: 0.9933 - val_loss: 7.4394 - val_acc: 0.2000\n",
            "Epoch 21/100\n",
            "1200/1200 [==============================] - 1s 665us/step - loss: 0.0357 - acc: 0.9908 - val_loss: 7.5121 - val_acc: 0.2033\n",
            "Epoch 22/100\n",
            "1200/1200 [==============================] - 1s 655us/step - loss: 0.0229 - acc: 0.9925 - val_loss: 7.5505 - val_acc: 0.1933\n",
            "Epoch 23/100\n",
            "1200/1200 [==============================] - 1s 663us/step - loss: 0.0286 - acc: 0.9958 - val_loss: 7.5765 - val_acc: 0.1867\n",
            "Epoch 24/100\n",
            "1200/1200 [==============================] - 1s 689us/step - loss: 0.0246 - acc: 0.9942 - val_loss: 7.4510 - val_acc: 0.1967\n",
            "Epoch 25/100\n",
            "1200/1200 [==============================] - 1s 656us/step - loss: 0.0298 - acc: 0.9958 - val_loss: 7.3443 - val_acc: 0.2000\n",
            "Epoch 26/100\n",
            "1200/1200 [==============================] - 1s 671us/step - loss: 0.0307 - acc: 0.9942 - val_loss: 7.4318 - val_acc: 0.2100\n",
            "Epoch 27/100\n",
            "1200/1200 [==============================] - 1s 655us/step - loss: 0.0181 - acc: 0.9967 - val_loss: 7.3087 - val_acc: 0.2100\n",
            "Epoch 28/100\n",
            "1200/1200 [==============================] - 1s 673us/step - loss: 0.0245 - acc: 0.9958 - val_loss: 7.4243 - val_acc: 0.2167\n",
            "Epoch 29/100\n",
            "1200/1200 [==============================] - 1s 660us/step - loss: 0.0358 - acc: 0.9958 - val_loss: 7.4714 - val_acc: 0.1833\n",
            "Epoch 30/100\n",
            "1200/1200 [==============================] - 1s 660us/step - loss: 0.0120 - acc: 0.9983 - val_loss: 7.4488 - val_acc: 0.1967\n",
            "Epoch 31/100\n",
            "1200/1200 [==============================] - 1s 677us/step - loss: 0.0094 - acc: 0.9983 - val_loss: 7.4803 - val_acc: 0.2000\n",
            "Epoch 32/100\n",
            "1200/1200 [==============================] - 1s 675us/step - loss: 0.0139 - acc: 0.9975 - val_loss: 7.4455 - val_acc: 0.2067\n",
            "Epoch 33/100\n",
            "1200/1200 [==============================] - 1s 661us/step - loss: 0.0160 - acc: 0.9958 - val_loss: 7.3450 - val_acc: 0.2267\n",
            "Epoch 34/100\n",
            "1200/1200 [==============================] - 1s 684us/step - loss: 0.0084 - acc: 0.9967 - val_loss: 7.3978 - val_acc: 0.2200\n",
            "Epoch 35/100\n",
            "1200/1200 [==============================] - 1s 671us/step - loss: 0.0190 - acc: 0.9975 - val_loss: 7.2831 - val_acc: 0.2300\n",
            "Epoch 36/100\n",
            "1200/1200 [==============================] - 1s 658us/step - loss: 0.0190 - acc: 0.9958 - val_loss: 7.3133 - val_acc: 0.2100\n",
            "Epoch 37/100\n",
            "1200/1200 [==============================] - 1s 692us/step - loss: 0.0236 - acc: 0.9958 - val_loss: 7.4430 - val_acc: 0.2167\n",
            "Epoch 38/100\n",
            "1200/1200 [==============================] - 1s 668us/step - loss: 0.0136 - acc: 0.9983 - val_loss: 7.4838 - val_acc: 0.2133\n",
            "Epoch 39/100\n",
            "1200/1200 [==============================] - 1s 663us/step - loss: 0.0237 - acc: 0.9983 - val_loss: 7.4028 - val_acc: 0.2200\n",
            "Epoch 40/100\n",
            "1200/1200 [==============================] - 1s 673us/step - loss: 0.0109 - acc: 0.9967 - val_loss: 7.3913 - val_acc: 0.2167\n",
            "Epoch 41/100\n",
            "1200/1200 [==============================] - 1s 653us/step - loss: 0.0107 - acc: 0.9983 - val_loss: 7.3743 - val_acc: 0.2067\n",
            "Epoch 42/100\n",
            "1200/1200 [==============================] - 1s 678us/step - loss: 0.0319 - acc: 0.9950 - val_loss: 7.4901 - val_acc: 0.2200\n",
            "Epoch 43/100\n",
            "1200/1200 [==============================] - 1s 658us/step - loss: 0.0140 - acc: 0.9967 - val_loss: 7.4533 - val_acc: 0.2133\n",
            "Epoch 44/100\n",
            "1200/1200 [==============================] - 1s 666us/step - loss: 0.0286 - acc: 0.9950 - val_loss: 7.3488 - val_acc: 0.2333\n",
            "Epoch 45/100\n",
            "1200/1200 [==============================] - 1s 669us/step - loss: 0.0139 - acc: 0.9975 - val_loss: 7.4948 - val_acc: 0.2100\n",
            "Epoch 46/100\n",
            "1200/1200 [==============================] - 1s 671us/step - loss: 0.0074 - acc: 0.9992 - val_loss: 7.4773 - val_acc: 0.2167\n",
            "Epoch 47/100\n",
            "1200/1200 [==============================] - 1s 667us/step - loss: 0.0360 - acc: 0.9942 - val_loss: 7.4628 - val_acc: 0.2133\n",
            "Epoch 48/100\n",
            "1200/1200 [==============================] - 1s 666us/step - loss: 0.0115 - acc: 0.9975 - val_loss: 7.5088 - val_acc: 0.2033\n",
            "Epoch 49/100\n",
            "1200/1200 [==============================] - 1s 656us/step - loss: 0.0313 - acc: 0.9950 - val_loss: 7.6602 - val_acc: 0.2067\n",
            "Epoch 50/100\n",
            "1200/1200 [==============================] - 1s 683us/step - loss: 0.0122 - acc: 0.9958 - val_loss: 7.6728 - val_acc: 0.1833\n",
            "Epoch 51/100\n",
            "1200/1200 [==============================] - 1s 647us/step - loss: 0.0393 - acc: 0.9917 - val_loss: 7.5125 - val_acc: 0.1900\n",
            "Epoch 52/100\n",
            "1200/1200 [==============================] - 1s 666us/step - loss: 0.0154 - acc: 0.9950 - val_loss: 7.4119 - val_acc: 0.2133\n",
            "Epoch 53/100\n",
            "1200/1200 [==============================] - 1s 669us/step - loss: 0.0120 - acc: 0.9967 - val_loss: 7.4776 - val_acc: 0.2000\n",
            "Epoch 54/100\n",
            "1200/1200 [==============================] - 1s 677us/step - loss: 0.0092 - acc: 0.9983 - val_loss: 7.5376 - val_acc: 0.1967\n",
            "Epoch 55/100\n",
            "1200/1200 [==============================] - 1s 650us/step - loss: 0.0174 - acc: 0.9958 - val_loss: 7.4899 - val_acc: 0.2200\n",
            "Epoch 56/100\n",
            "1200/1200 [==============================] - 1s 648us/step - loss: 0.0244 - acc: 0.9967 - val_loss: 7.5257 - val_acc: 0.2067\n",
            "Epoch 57/100\n",
            "1200/1200 [==============================] - 1s 655us/step - loss: 0.0176 - acc: 0.9975 - val_loss: 7.5153 - val_acc: 0.2033\n",
            "Epoch 58/100\n",
            "1200/1200 [==============================] - 1s 660us/step - loss: 0.0271 - acc: 0.9958 - val_loss: 7.5834 - val_acc: 0.2333\n",
            "Epoch 59/100\n",
            "1200/1200 [==============================] - 1s 681us/step - loss: 0.0171 - acc: 0.9967 - val_loss: 7.4834 - val_acc: 0.2200\n",
            "Epoch 60/100\n",
            "1200/1200 [==============================] - 1s 663us/step - loss: 0.0097 - acc: 0.9983 - val_loss: 7.4288 - val_acc: 0.2267\n",
            "Epoch 61/100\n",
            "1200/1200 [==============================] - 1s 680us/step - loss: 0.0106 - acc: 0.9958 - val_loss: 7.5089 - val_acc: 0.2167\n",
            "Epoch 62/100\n",
            "1200/1200 [==============================] - 1s 687us/step - loss: 0.0145 - acc: 0.9975 - val_loss: 7.5785 - val_acc: 0.2067\n",
            "Epoch 63/100\n",
            "1200/1200 [==============================] - 1s 701us/step - loss: 0.0154 - acc: 0.9950 - val_loss: 7.5993 - val_acc: 0.2067\n",
            "Epoch 64/100\n",
            "1200/1200 [==============================] - 1s 679us/step - loss: 0.0387 - acc: 0.9933 - val_loss: 7.5053 - val_acc: 0.2133\n",
            "Epoch 65/100\n",
            "1200/1200 [==============================] - 1s 659us/step - loss: 0.0236 - acc: 0.9958 - val_loss: 7.4865 - val_acc: 0.2167\n",
            "Epoch 66/100\n",
            "1200/1200 [==============================] - 1s 665us/step - loss: 0.0322 - acc: 0.9942 - val_loss: 7.4292 - val_acc: 0.2267\n",
            "Epoch 67/100\n",
            "1200/1200 [==============================] - 1s 686us/step - loss: 0.0154 - acc: 0.9950 - val_loss: 7.3722 - val_acc: 0.2267\n",
            "Epoch 68/100\n",
            "1200/1200 [==============================] - 1s 665us/step - loss: 0.0127 - acc: 0.9975 - val_loss: 7.3284 - val_acc: 0.2100\n",
            "Epoch 69/100\n",
            "1200/1200 [==============================] - 1s 658us/step - loss: 0.0118 - acc: 0.9975 - val_loss: 7.4623 - val_acc: 0.2067\n",
            "Epoch 70/100\n",
            "1200/1200 [==============================] - 1s 669us/step - loss: 0.0323 - acc: 0.9942 - val_loss: 7.5511 - val_acc: 0.2133\n",
            "Epoch 71/100\n",
            "1200/1200 [==============================] - 1s 657us/step - loss: 0.0100 - acc: 0.9975 - val_loss: 7.5776 - val_acc: 0.2200\n",
            "Epoch 72/100\n",
            "1200/1200 [==============================] - 1s 670us/step - loss: 0.0068 - acc: 0.9992 - val_loss: 7.6176 - val_acc: 0.2167\n",
            "Epoch 73/100\n",
            "1200/1200 [==============================] - 1s 670us/step - loss: 0.0155 - acc: 0.9950 - val_loss: 7.6982 - val_acc: 0.2167\n",
            "Epoch 74/100\n",
            "1200/1200 [==============================] - 1s 673us/step - loss: 0.0140 - acc: 0.9967 - val_loss: 7.6558 - val_acc: 0.2233\n",
            "Epoch 75/100\n",
            "1200/1200 [==============================] - 1s 681us/step - loss: 0.0228 - acc: 0.9950 - val_loss: 7.5853 - val_acc: 0.2133\n",
            "Epoch 76/100\n",
            "1200/1200 [==============================] - 1s 677us/step - loss: 0.0177 - acc: 0.9967 - val_loss: 7.4904 - val_acc: 0.2267\n",
            "Epoch 77/100\n",
            "1200/1200 [==============================] - 1s 658us/step - loss: 0.0057 - acc: 1.0000 - val_loss: 7.6224 - val_acc: 0.2200\n",
            "Epoch 78/100\n",
            "1200/1200 [==============================] - 1s 667us/step - loss: 0.0124 - acc: 0.9967 - val_loss: 7.5778 - val_acc: 0.2233\n",
            "Epoch 79/100\n",
            "1200/1200 [==============================] - 1s 663us/step - loss: 0.0115 - acc: 0.9983 - val_loss: 7.5479 - val_acc: 0.2267\n",
            "Epoch 80/100\n",
            "1200/1200 [==============================] - 1s 674us/step - loss: 0.0290 - acc: 0.9958 - val_loss: 7.6831 - val_acc: 0.2233\n",
            "Epoch 81/100\n",
            "1200/1200 [==============================] - 1s 677us/step - loss: 0.0235 - acc: 0.9958 - val_loss: 7.6674 - val_acc: 0.2233\n",
            "Epoch 82/100\n",
            "1200/1200 [==============================] - 1s 659us/step - loss: 0.0172 - acc: 0.9975 - val_loss: 7.5467 - val_acc: 0.2233\n",
            "Epoch 83/100\n",
            "1200/1200 [==============================] - 1s 673us/step - loss: 0.0298 - acc: 0.9967 - val_loss: 7.6220 - val_acc: 0.2300\n",
            "Epoch 84/100\n",
            "1200/1200 [==============================] - 1s 679us/step - loss: 0.0161 - acc: 0.9950 - val_loss: 7.5993 - val_acc: 0.2300\n",
            "Epoch 85/100\n",
            "1200/1200 [==============================] - 1s 667us/step - loss: 0.0093 - acc: 0.9983 - val_loss: 7.5525 - val_acc: 0.2333\n",
            "Epoch 86/100\n",
            "1200/1200 [==============================] - 1s 667us/step - loss: 0.0318 - acc: 0.9942 - val_loss: 7.6268 - val_acc: 0.2200\n",
            "Epoch 87/100\n",
            "1200/1200 [==============================] - 1s 663us/step - loss: 0.0131 - acc: 0.9958 - val_loss: 7.6151 - val_acc: 0.2167\n",
            "Epoch 88/100\n",
            "1200/1200 [==============================] - 1s 685us/step - loss: 0.0232 - acc: 0.9967 - val_loss: 7.5949 - val_acc: 0.2133\n",
            "Epoch 89/100\n",
            "1200/1200 [==============================] - 1s 666us/step - loss: 0.0042 - acc: 1.0000 - val_loss: 7.6120 - val_acc: 0.2133\n",
            "Epoch 90/100\n",
            "1200/1200 [==============================] - 1s 676us/step - loss: 0.0054 - acc: 0.9992 - val_loss: 7.6163 - val_acc: 0.2200\n",
            "Epoch 91/100\n",
            "1200/1200 [==============================] - 1s 668us/step - loss: 0.0036 - acc: 1.0000 - val_loss: 7.6230 - val_acc: 0.2200\n",
            "Epoch 92/100\n",
            "1200/1200 [==============================] - 1s 673us/step - loss: 0.0200 - acc: 0.9975 - val_loss: 7.6355 - val_acc: 0.2167\n",
            "Epoch 93/100\n",
            "1200/1200 [==============================] - 1s 673us/step - loss: 0.0070 - acc: 0.9992 - val_loss: 7.5895 - val_acc: 0.2200\n",
            "Epoch 94/100\n",
            "1200/1200 [==============================] - 1s 659us/step - loss: 0.0227 - acc: 0.9967 - val_loss: 7.6058 - val_acc: 0.2200\n",
            "Epoch 95/100\n",
            "1200/1200 [==============================] - 1s 659us/step - loss: 0.0078 - acc: 0.9983 - val_loss: 7.6593 - val_acc: 0.2133\n",
            "Epoch 96/100\n",
            "1200/1200 [==============================] - 1s 676us/step - loss: 0.0114 - acc: 0.9967 - val_loss: 7.7042 - val_acc: 0.2233\n",
            "Epoch 97/100\n",
            "1200/1200 [==============================] - 1s 676us/step - loss: 0.0146 - acc: 0.9967 - val_loss: 7.6946 - val_acc: 0.2267\n",
            "Epoch 98/100\n",
            "1200/1200 [==============================] - 1s 670us/step - loss: 0.0091 - acc: 0.9983 - val_loss: 7.5901 - val_acc: 0.2300\n",
            "Epoch 99/100\n",
            "1200/1200 [==============================] - 1s 662us/step - loss: 0.0241 - acc: 0.9975 - val_loss: 7.7404 - val_acc: 0.2300\n",
            "Epoch 100/100\n",
            "1200/1200 [==============================] - 1s 689us/step - loss: 0.0105 - acc: 0.9975 - val_loss: 7.7149 - val_acc: 0.2267\n"
          ],
          "name": "stdout"
        }
      ]
    },
    {
      "cell_type": "code",
      "metadata": {
        "id": "PpReon0Xs_vy"
      },
      "source": [
        "#history.history[\"acc\"]"
      ],
      "execution_count": null,
      "outputs": []
    },
    {
      "cell_type": "code",
      "metadata": {
        "scrolled": true,
        "id": "zeDfjrB07WAd",
        "outputId": "5977df4f-19b0-4164-887c-3fa84284bb3d",
        "colab": {
          "base_uri": "https://localhost:8080/",
          "height": 350
        }
      },
      "source": [
        "def plot_model(history):\n",
        "    tr_loss = history.history['loss']\n",
        "    tr_accuracy = history.history['acc']\n",
        "\n",
        "    val_loss = history.history['val_loss']\n",
        "    val_accuracy = history.history['val_acc']\n",
        "\n",
        "    epochs = range(1, len(tr_loss)+1)\n",
        "\n",
        "    plt.figure(figsize=(10, 5))\n",
        "    plt.subplot(1,2,1)\n",
        "    plt.plot(epochs, tr_loss,'r')\n",
        "    plt.plot(epochs, val_loss,'b')\n",
        "    plt.title('Model loss')\n",
        "    plt.ylabel('Loss')\n",
        "    plt.xlabel('Epoch')\n",
        "    plt.legend(['Training', 'Validation'], loc='best')\n",
        "\n",
        "    plt.subplot(1,2,2)\n",
        "    plt.plot(epochs, tr_accuracy,'r')\n",
        "    plt.plot(epochs, val_accuracy,'b')\n",
        "    plt.title('Model Accuracy')\n",
        "    plt.ylabel('Accuracy')\n",
        "    plt.xlabel('Epoch')\n",
        "    plt.legend(['Training', 'Validation'], loc='best')\n",
        "    plt.show()\n",
        "    \n",
        "plot_model(history)"
      ],
      "execution_count": null,
      "outputs": [
        {
          "output_type": "display_data",
          "data": {
            "image/png": "[encoded data removed]",
            "text/plain": [
              "<Figure size 720x360 with 2 Axes>"
            ]
          },
          "metadata": {
            "tags": []
          }
        }
      ]
    },
    {
      "cell_type": "code",
      "metadata": {
        "id": "jyOt9Z1K7WAe",
        "outputId": "c272861e-aff4-4bb2-de05-57ba34ec8602"
      },
      "source": [
        "score, acc = model.evaluate(X_test, y_test, verbose=0)\n",
        "print('Test score:', score)\n",
        "print('Test accuracy:', acc)"
      ],
      "execution_count": null,
      "outputs": [
        {
          "output_type": "stream",
          "text": [
            "Test score: 56.249474639892576\n",
            "Test accuracy: 0.1599999964237213\n"
          ],
          "name": "stdout"
        }
      ]
    },
    {
      "cell_type": "markdown",
      "metadata": {
        "id": "Wa7B8zTk7WAg"
      },
      "source": [
        "## Time-Frequency Domain Model <a id='time_freq_model'></a>"
      ]
    },
    {
      "cell_type": "markdown",
      "metadata": {
        "id": "9A0MmZLW7WAg"
      },
      "source": [
        "&#x270d; Now, create a model based on time-frequency domain input signals and evaluate its performance."
      ]
    },
    {
      "cell_type": "code",
      "metadata": {
        "id": "poGiLLE37WAg"
      },
      "source": [
        "audio_path = os.path.join(os.getcwd(), 'free-spoken-digit-dataset-master/recordings')\n",
        "audio_files = os.listdir(audio_path) \n",
        "\n",
        "X_train, y_train = [], []\n",
        "X_test, y_test = [], []\n",
        "for audio_file in audio_files:\n",
        "    \n",
        "    audio, sr = librosa.load(audio_path +'/'+ audio_file, sr = None)\n",
        "    \n",
        "    X = pad(audio, int(audio_duration_sec*sr))\n",
        "    \n",
        "    spectrogram = np.abs(librosa.stft(X))\n",
        "    \n",
        "    label = audio_file.split('_')[0]\n",
        "    speaker = audio_file.split('_')[1]\n",
        "    \n",
        "    if (speaker=='jackson'):\n",
        "        X_test.append(spectrogram)\n",
        "        y_test.append(label)\n",
        "    else:\n",
        "        X_train.append(spectrogram)\n",
        "        y_train.append(label)\n",
        "        \n",
        "X_train = np.asarray(X_train)\n",
        "y_train = np.asarray(y_train)\n",
        "\n",
        "X_test = np.asarray(X_test)\n",
        "y_test = np.asarray(y_test)"
      ],
      "execution_count": null,
      "outputs": []
    },
    {
      "cell_type": "code",
      "metadata": {
        "id": "Rqc-SmzX7WAh",
        "outputId": "80d5838d-d6ff-4e0d-a6eb-7119bb43867b",
        "colab": {
          "base_uri": "https://localhost:8080/",
          "height": 52
        }
      },
      "source": [
        "X_train = X_train.reshape(-1, X_train.shape[1], X_train.shape[2], 1)\n",
        "X_test = X_test.reshape(-1, X_test.shape[1], X_test.shape[2], 1)\n",
        "\n",
        "print('X_train shape:', X_train.shape)\n",
        "print('X_test shape:', X_test.shape)"
      ],
      "execution_count": null,
      "outputs": [
        {
          "output_type": "stream",
          "text": [
            "X_train shape: (1500, 1025, 16, 1)\n",
            "X_test shape: (500, 1025, 16, 1)\n"
          ],
          "name": "stdout"
        }
      ]
    },
    {
      "cell_type": "code",
      "metadata": {
        "id": "_CwxgLvu7WAi",
        "outputId": "a1fe98da-d536-458e-de22-c679df95ae86",
        "colab": {
          "base_uri": "https://localhost:8080/",
          "height": 52
        }
      },
      "source": [
        "y_train = to_categorical(y_train)\n",
        "y_test = to_categorical(y_test)\n",
        "\n",
        "print('y_train shape:', y_train.shape)\n",
        "print('y_test shape:', y_test.shape)"
      ],
      "execution_count": null,
      "outputs": [
        {
          "output_type": "stream",
          "text": [
            "y_train shape: (1500, 10)\n",
            "y_test shape: (500, 10)\n"
          ],
          "name": "stdout"
        }
      ]
    },
    {
      "cell_type": "code",
      "metadata": {
        "id": "ORB-ZbQR7WAj",
        "outputId": "26621c57-1bf7-4f76-8270-4dc29dd2ebf9",
        "colab": {
          "base_uri": "https://localhost:8080/",
          "height": 503
        }
      },
      "source": [
        "from keras.layers import Conv2D, MaxPooling2D, Flatten\n",
        "\n",
        "model = Sequential()\n",
        "model.add(Conv2D(32, kernel_size=(3, 3), strides=1, activation='relu', input_shape= X_train[0].shape))\n",
        "model.add(MaxPooling2D(pool_size=(2, 2)))\n",
        "model.add(Dropout(0.25))\n",
        "\n",
        "model.add(Conv2D(64, (3, 3), activation='relu'))\n",
        "model.add(MaxPooling2D(pool_size=(2, 2)))\n",
        "model.add(Dropout(0.25))\n",
        "\n",
        "model.add(Flatten())\n",
        "\n",
        "model.add(Dense(128, activation='relu'))\n",
        "model.add(Dropout(0.5))\n",
        "\n",
        "model.add(Dense(10, activation='softmax'))\n",
        "\n",
        "model.summary()"
      ],
      "execution_count": null,
      "outputs": [
        {
          "output_type": "stream",
          "text": [
            "Model: \"sequential_3\"\n",
            "_________________________________________________________________\n",
            "Layer (type)                 Output Shape              Param #   \n",
            "=================================================================\n",
            "conv2d_3 (Conv2D)            (None, 1023, 14, 32)      320       \n",
            "_________________________________________________________________\n",
            "max_pooling2d_3 (MaxPooling2 (None, 511, 7, 32)        0         \n",
            "_________________________________________________________________\n",
            "dropout_7 (Dropout)          (None, 511, 7, 32)        0         \n",
            "_________________________________________________________________\n",
            "conv2d_4 (Conv2D)            (None, 509, 5, 64)        18496     \n",
            "_________________________________________________________________\n",
            "max_pooling2d_4 (MaxPooling2 (None, 254, 2, 64)        0         \n",
            "_________________________________________________________________\n",
            "dropout_8 (Dropout)          (None, 254, 2, 64)        0         \n",
            "_________________________________________________________________\n",
            "flatten_2 (Flatten)          (None, 32512)             0         \n",
            "_________________________________________________________________\n",
            "dense_7 (Dense)              (None, 128)               4161664   \n",
            "_________________________________________________________________\n",
            "dropout_9 (Dropout)          (None, 128)               0         \n",
            "_________________________________________________________________\n",
            "dense_8 (Dense)              (None, 10)                1290      \n",
            "=================================================================\n",
            "Total params: 4,181,770\n",
            "Trainable params: 4,181,770\n",
            "Non-trainable params: 0\n",
            "_________________________________________________________________\n"
          ],
          "name": "stdout"
        }
      ]
    },
    {
      "cell_type": "code",
      "metadata": {
        "id": "LItmfp7_7WAk",
        "outputId": "1a165286-940d-43d5-815a-0c83beed7482",
        "colab": {
          "base_uri": "https://localhost:8080/",
          "height": 555
        }
      },
      "source": [
        "model.compile(loss= 'categorical_crossentropy',\n",
        "              optimizer= 'adam',\n",
        "              metrics= ['accuracy'])\n",
        "\n",
        "history = model.fit(X_train, y_train,\n",
        "          epochs= 15,\n",
        "          batch_size= 64,\n",
        "          validation_split = 0.2,\n",
        "          shuffle = True,\n",
        "          verbose = 1)"
      ],
      "execution_count": null,
      "outputs": [
        {
          "output_type": "stream",
          "text": [
            "Train on 1200 samples, validate on 300 samples\n",
            "Epoch 1/15\n",
            "1200/1200 [==============================] - 21s 18ms/step - loss: 1.7566 - acc: 0.4042 - val_loss: 1.0252 - val_acc: 0.7500\n",
            "Epoch 2/15\n",
            "1200/1200 [==============================] - 20s 17ms/step - loss: 1.0388 - acc: 0.6775 - val_loss: 0.5626 - val_acc: 0.8467\n",
            "Epoch 3/15\n",
            "1200/1200 [==============================] - 20s 17ms/step - loss: 0.7411 - acc: 0.7558 - val_loss: 0.4810 - val_acc: 0.8400\n",
            "Epoch 4/15\n",
            "1200/1200 [==============================] - 20s 17ms/step - loss: 0.6089 - acc: 0.8100 - val_loss: 0.3489 - val_acc: 0.9333\n",
            "Epoch 5/15\n",
            "1200/1200 [==============================] - 20s 17ms/step - loss: 0.4767 - acc: 0.8608 - val_loss: 0.3155 - val_acc: 0.9100\n",
            "Epoch 6/15\n",
            "1200/1200 [==============================] - 21s 17ms/step - loss: 0.3984 - acc: 0.8825 - val_loss: 0.2705 - val_acc: 0.9133\n",
            "Epoch 7/15\n",
            "1200/1200 [==============================] - 21s 17ms/step - loss: 0.3930 - acc: 0.8792 - val_loss: 0.3235 - val_acc: 0.8967\n",
            "Epoch 8/15\n",
            "1200/1200 [==============================] - 20s 17ms/step - loss: 0.4119 - acc: 0.8717 - val_loss: 0.1998 - val_acc: 0.9500\n",
            "Epoch 9/15\n",
            "1200/1200 [==============================] - 20s 17ms/step - loss: 0.4250 - acc: 0.8742 - val_loss: 0.2283 - val_acc: 0.9367\n",
            "Epoch 10/15\n",
            "1200/1200 [==============================] - 20s 17ms/step - loss: 0.3802 - acc: 0.8808 - val_loss: 0.1885 - val_acc: 0.9500\n",
            "Epoch 11/15\n",
            "1200/1200 [==============================] - 20s 17ms/step - loss: 0.2386 - acc: 0.9183 - val_loss: 0.1625 - val_acc: 0.9533\n",
            "Epoch 12/15\n",
            "1200/1200 [==============================] - 20s 17ms/step - loss: 0.1866 - acc: 0.9392 - val_loss: 0.1846 - val_acc: 0.9500\n",
            "Epoch 13/15\n",
            "1200/1200 [==============================] - 20s 17ms/step - loss: 0.1767 - acc: 0.9425 - val_loss: 0.2115 - val_acc: 0.9600\n",
            "Epoch 14/15\n",
            "1200/1200 [==============================] - 20s 17ms/step - loss: 0.2449 - acc: 0.9325 - val_loss: 0.1999 - val_acc: 0.9400\n",
            "Epoch 15/15\n",
            "1200/1200 [==============================] - 20s 17ms/step - loss: 0.2650 - acc: 0.9133 - val_loss: 0.1846 - val_acc: 0.9433\n"
          ],
          "name": "stdout"
        }
      ]
    },
    {
      "cell_type": "code",
      "metadata": {
        "id": "DBMC9eyD7WAl",
        "outputId": "fb8f4f4f-60d0-42f9-c758-cde60e381211",
        "colab": {
          "base_uri": "https://localhost:8080/",
          "height": 350
        }
      },
      "source": [
        "plot_model(history)"
      ],
      "execution_count": null,
      "outputs": [
        {
          "output_type": "display_data",
          "data": {
            "image/png": "[encoded data removed]",
            "text/plain": [
              "<Figure size 720x360 with 2 Axes>"
            ]
          },
          "metadata": {
            "tags": []
          }
        }
      ]
    },
    {
      "cell_type": "code",
      "metadata": {
        "id": "BDuO0MG07WAm",
        "outputId": "28c1ef14-ca61-4c90-ef31-f14e028819f7",
        "colab": {
          "base_uri": "https://localhost:8080/",
          "height": 52
        }
      },
      "source": [
        "score, acc = model.evaluate(X_test, y_test, verbose=0)\n",
        "print('Test score:', score)\n",
        "print('Test accuracy:', acc)"
      ],
      "execution_count": null,
      "outputs": [
        {
          "output_type": "stream",
          "text": [
            "Test score: 6.4804953079223635\n",
            "Test accuracy: 0.5379999995231628\n"
          ],
          "name": "stdout"
        }
      ]
    },
    {
      "cell_type": "code",
      "metadata": {
        "id": "YnT_kqBbC9Ey"
      },
      "source": [
        ""
      ],
      "execution_count": null,
      "outputs": []
    }
  ]
}
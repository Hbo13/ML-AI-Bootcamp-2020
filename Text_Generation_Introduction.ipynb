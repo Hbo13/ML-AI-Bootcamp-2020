{
  "nbformat": 4,
  "nbformat_minor": 0,
  "metadata": {
    "kernelspec": {
      "display_name": "Python 3",
      "language": "python",
      "name": "python3"
    },
    "language_info": {
      "codemirror_mode": {
        "name": "ipython",
        "version": 3
      },
      "file_extension": ".py",
      "mimetype": "text/x-python",
      "name": "python",
      "nbconvert_exporter": "python",
      "pygments_lexer": "ipython3",
      "version": "3.7.3"
    },
    "colab": {
      "name": "Copie de B2.3.4 - Text Generation Teacher Sheet.ipynb",
      "provenance": []
    }
  },
  "cells": [
    {
      "cell_type": "markdown",
      "metadata": {
        "id": "12j_SNJLMJ2Q"
      },
      "source": [
        "<h1 align=center><font size=5>Text Generation Models</font></h1>"
      ]
    },
    {
      "cell_type": "markdown",
      "metadata": {
        "id": "a-7MOZZzMJ2S"
      },
      "source": [
        "### Table of contents\n",
        "\n",
        "- [Objective](#obj)\n",
        "- [Data](#data)\n",
        "- [Word-based Model for Text Generation](#word_based_model)\n",
        "- [Character-based Model for Text Generation](#char_based_model)"
      ]
    },
    {
      "cell_type": "markdown",
      "metadata": {
        "id": "cO9yrEXmMJ2T"
      },
      "source": [
        "### Objective <a id=\"obj\"></a>\n",
        "\n",
        "In this notebook, we learn how to generate texts using word-based or character-based models in Keras."
      ]
    },
    {
      "cell_type": "markdown",
      "metadata": {
        "id": "Q8laUhpAMJ2U"
      },
      "source": [
        "### Data <a id=\"data\"></a>\n",
        "\n"
      ]
    },
    {
      "cell_type": "markdown",
      "metadata": {
        "id": "KwJE8XItMJ2V"
      },
      "source": [
        "#### Load Shakespeare dataset\n",
        "\n",
        "&#x270d; Load the dataset of Shakespeare's writing from the following link:\n",
        "https://storage.googleapis.com/download.tensorflow.org/data/shakespeare.txt"
      ]
    },
    {
      "cell_type": "code",
      "metadata": {
        "id": "qQ6aGGHcMJ2W",
        "outputId": "fbfa87ef-d6c4-4037-972a-a900b6512be4",
        "colab": {
          "base_uri": "https://localhost:8080/",
          "height": 133
        }
      },
      "source": [
        "from keras.utils.data_utils import get_file\n",
        "\n",
        "path = get_file('shakespeare.txt',\n",
        "                origin = 'https://storage.googleapis.com/download.tensorflow.org/data/shakespeare.txt')\n",
        "\n",
        "with open(path, encoding='utf-8') as f:\n",
        "    text = f.read().lower()\n",
        "print('Length of text: {} characters'.format(len(text)))"
      ],
      "execution_count": null,
      "outputs": [
        {
          "output_type": "stream",
          "text": [
            "Using TensorFlow backend.\n"
          ],
          "name": "stderr"
        },
        {
          "output_type": "display_data",
          "data": {
            "text/html": [
              "<p style=\"color: red;\">\n",
              "The default version of TensorFlow in Colab will soon switch to TensorFlow 2.x.<br>\n",
              "We recommend you <a href=\"https://www.tensorflow.org/guide/migrate\" target=\"_blank\">upgrade</a> now \n",
              "or ensure your notebook will continue to use TensorFlow 1.x via the <code>%tensorflow_version 1.x</code> magic:\n",
              "<a href=\"https://colab.research.google.com/notebooks/tensorflow_version.ipynb\" target=\"_blank\">more info</a>.</p>\n"
            ],
            "text/plain": [
              "<IPython.core.display.HTML object>"
            ]
          },
          "metadata": {
            "tags": []
          }
        },
        {
          "output_type": "stream",
          "text": [
            "Downloading data from https://storage.googleapis.com/download.tensorflow.org/data/shakespeare.txt\n",
            "1122304/1115394 [==============================] - 0s 0us/step\n",
            "Length of text: 1115394 characters\n"
          ],
          "name": "stdout"
        }
      ]
    },
    {
      "cell_type": "markdown",
      "metadata": {
        "id": "H26svMhpMJ2d"
      },
      "source": [
        "&#x270d; Take a look at the first 250 characters in text."
      ]
    },
    {
      "cell_type": "code",
      "metadata": {
        "id": "NPYwAUluMJ2e",
        "outputId": "a2f675ad-3cd0-4758-fbf6-e2bc89859dd0",
        "colab": {
          "base_uri": "https://localhost:8080/",
          "height": 277
        }
      },
      "source": [
        "print(text[:250])"
      ],
      "execution_count": null,
      "outputs": [
        {
          "output_type": "stream",
          "text": [
            "first citizen:\n",
            "before we proceed any further, hear me speak.\n",
            "\n",
            "all:\n",
            "speak, speak.\n",
            "\n",
            "first citizen:\n",
            "you are all resolved rather to die than to famish?\n",
            "\n",
            "all:\n",
            "resolved. resolved.\n",
            "\n",
            "first citizen:\n",
            "first, you know caius marcius is chief enemy to the people.\n",
            "\n"
          ],
          "name": "stdout"
        }
      ]
    },
    {
      "cell_type": "markdown",
      "metadata": {
        "id": "TsD9gz4DMJ2g"
      },
      "source": [
        "Since this dataset is very large, in continue, we only consider portion of that for processing."
      ]
    },
    {
      "cell_type": "code",
      "metadata": {
        "id": "tW7tMnZ0MJ2h"
      },
      "source": [
        "data = text[:5000]"
      ],
      "execution_count": null,
      "outputs": []
    },
    {
      "cell_type": "code",
      "metadata": {
        "id": "HzyLDhzPMJ2k",
        "outputId": "984353c7-cf66-4d65-8671-1bba773599da",
        "colab": {
          "base_uri": "https://localhost:8080/",
          "height": 55
        }
      },
      "source": [
        "data"
      ],
      "execution_count": null,
      "outputs": [
        {
          "output_type": "execute_result",
          "data": {
            "text/plain": [
              "\"first citizen:\\nbefore we proceed any further, hear me speak.\\n\\nall:\\nspeak, speak.\\n\\nfirst citizen:\\nyou are all resolved rather to die than to famish?\\n\\nall:\\nresolved. resolved.\\n\\nfirst citizen:\\nfirst, you know caius marcius is chief enemy to the people.\\n\\nall:\\nwe know't, we know't.\\n\\nfirst citizen:\\nlet us kill him, and we'll have corn at our own price.\\nis't a verdict?\\n\\nall:\\nno more talking on't; let it be done: away, away!\\n\\nsecond citizen:\\none word, good citizens.\\n\\nfirst citizen:\\nwe are accounted poor citizens, the patricians good.\\nwhat authority surfeits on would relieve us: if they\\nwould yield us but the superfluity, while it were\\nwholesome, we might guess they relieved us humanely;\\nbut they think we are too dear: the leanness that\\nafflicts us, the object of our misery, is as an\\ninventory to particularise their abundance; our\\nsufferance is a gain to them let us revenge this with\\nour pikes, ere we become rakes: for the gods know i\\nspeak this in hunger for bread, not in thirst for revenge.\\n\\nsecond citizen:\\nwould you proceed especially against caius marcius?\\n\\nall:\\nagainst him first: he's a very dog to the commonalty.\\n\\nsecond citizen:\\nconsider you what services he has done for his country?\\n\\nfirst citizen:\\nvery well; and could be content to give him good\\nreport fort, but that he pays himself with being proud.\\n\\nsecond citizen:\\nnay, but speak not maliciously.\\n\\nfirst citizen:\\ni say unto you, what he hath done famously, he did\\nit to that end: though soft-conscienced men can be\\ncontent to say it was for his country he did it to\\nplease his mother and to be partly proud; which he\\nis, even till the altitude of his virtue.\\n\\nsecond citizen:\\nwhat he cannot help in his nature, you account a\\nvice in him. you must in no way say he is covetous.\\n\\nfirst citizen:\\nif i must not, i need not be barren of accusations;\\nhe hath faults, with surplus, to tire in repetition.\\nwhat shouts are these? the other side o' the city\\nis risen: why stay we prating here? to the capitol!\\n\\nall:\\ncome, come.\\n\\nfirst citizen:\\nsoft! who comes here?\\n\\nsecond citizen:\\nworthy menenius agrippa; one that hath always loved\\nthe people.\\n\\nfirst citizen:\\nhe's one honest enough: would all the rest were so!\\n\\nmenenius:\\nwhat work's, my countrymen, in hand? where go you\\nwith bats and clubs? the matter? speak, i pray you.\\n\\nfirst citizen:\\nour business is not unknown to the senate; they have\\nhad inkling this fortnight what we intend to do,\\nwhich now we'll show 'em in deeds. they say poor\\nsuitors have strong breaths: they shall know we\\nhave strong arms too.\\n\\nmenenius:\\nwhy, masters, my good friends, mine honest neighbours,\\nwill you undo yourselves?\\n\\nfirst citizen:\\nwe cannot, sir, we are undone already.\\n\\nmenenius:\\ni tell you, friends, most charitable care\\nhave the patricians of you. for your wants,\\nyour suffering in this dearth, you may as well\\nstrike at the heaven with your staves as lift them\\nagainst the roman state, whose course will on\\nthe way it takes, cracking ten thousand curbs\\nof more strong link asunder than can ever\\nappear in your impediment. for the dearth,\\nthe gods, not the patricians, make it, and\\nyour knees to them, not arms, must help. alack,\\nyou are transported by calamity\\nthither where more attends you, and you slander\\nthe helms o' the state, who care for you like fathers,\\nwhen you curse them as enemies.\\n\\nfirst citizen:\\ncare for us! true, indeed! they ne'er cared for us\\nyet: suffer us to famish, and their store-houses\\ncrammed with grain; make edicts for usury, to\\nsupport usurers; repeal daily any wholesome act\\nestablished against the rich, and provide more\\npiercing statutes daily, to chain up and restrain\\nthe poor. if the wars eat us not up, they will; and\\nthere's all the love they bear us.\\n\\nmenenius:\\neither you must\\nconfess yourselves wondrous malicious,\\nor be accused of folly. i shall tell you\\na pretty tale: it may be you have heard it;\\nbut, since it serves my purpose, i will venture\\nto stale 't a little more.\\n\\nfirst citizen:\\nwell, i'll hear it, sir: yet you must not think to\\nfob off our disgrace with a tale: but, an 't please\\nyou, deliver.\\n\\nmenenius:\\nthere was a time when all the body's members\\nrebell'd against the belly, thus accused it:\\nthat only like a gulf it did remain\\ni' the midst o' the body, idle and unactive,\\nstill cupboarding the viand, never bearing\\nlike labour with the rest, where the other instruments\\ndid see and hear, devise, instruct, walk, feel,\\nand, mutually participate, did minister\\nunto the appetite and affection common\\nof the whole body. the belly answer'd--\\n\\nfirst citizen:\\nwell, sir, what answer made the belly?\\n\\nmenenius:\\nsir, i shall tell you. with a kind of smile,\\nwhich ne'er came from the lungs, but even thus--\\nfor, look you, i may make the belly smile\\nas well as speak--it tauntingly replied\\nto the discontented members, the mutinous parts\\nthat envied his receipt; even so most fitly\\nas you malign our senators for that\\nthey are not such as you.\\n\\nfirst citizen:\\nyour belly's answer? what!\\nthe kingly-crowned head, the vigilant eye,\\nthe counsell\""
            ]
          },
          "metadata": {
            "tags": []
          },
          "execution_count": 4
        }
      ]
    },
    {
      "cell_type": "markdown",
      "metadata": {
        "id": "O_I45kQKMJ2n"
      },
      "source": [
        "### Word-based Model for Text Generation <a id=\"word_based_model\"></a>\n",
        "\n",
        "#### Preprocessing <a id=\"preprocessing\"></a>"
      ]
    },
    {
      "cell_type": "markdown",
      "metadata": {
        "id": "GQqYxrPlMJ2n"
      },
      "source": [
        "&#x270d; Create a Python list of sentences from the data."
      ]
    },
    {
      "cell_type": "code",
      "metadata": {
        "id": "CmWrOh2ZMJ2o",
        "outputId": "416c57af-2b72-4b9f-f0fe-b6d0a5d4c64c",
        "colab": {
          "base_uri": "https://localhost:8080/",
          "height": 55
        }
      },
      "source": [
        "corpus = data.split('\\n')\n",
        "\n",
        "print(corpus)"
      ],
      "execution_count": null,
      "outputs": [
        {
          "output_type": "stream",
          "text": [
            "['first citizen:', 'before we proceed any further, hear me speak.', '', 'all:', 'speak, speak.', '', 'first citizen:', 'you are all resolved rather to die than to famish?', '', 'all:', 'resolved. resolved.', '', 'first citizen:', 'first, you know caius marcius is chief enemy to the people.', '', 'all:', \"we know't, we know't.\", '', 'first citizen:', \"let us kill him, and we'll have corn at our own price.\", \"is't a verdict?\", '', 'all:', \"no more talking on't; let it be done: away, away!\", '', 'second citizen:', 'one word, good citizens.', '', 'first citizen:', 'we are accounted poor citizens, the patricians good.', 'what authority surfeits on would relieve us: if they', 'would yield us but the superfluity, while it were', 'wholesome, we might guess they relieved us humanely;', 'but they think we are too dear: the leanness that', 'afflicts us, the object of our misery, is as an', 'inventory to particularise their abundance; our', 'sufferance is a gain to them let us revenge this with', 'our pikes, ere we become rakes: for the gods know i', 'speak this in hunger for bread, not in thirst for revenge.', '', 'second citizen:', 'would you proceed especially against caius marcius?', '', 'all:', \"against him first: he's a very dog to the commonalty.\", '', 'second citizen:', 'consider you what services he has done for his country?', '', 'first citizen:', 'very well; and could be content to give him good', 'report fort, but that he pays himself with being proud.', '', 'second citizen:', 'nay, but speak not maliciously.', '', 'first citizen:', 'i say unto you, what he hath done famously, he did', 'it to that end: though soft-conscienced men can be', 'content to say it was for his country he did it to', 'please his mother and to be partly proud; which he', 'is, even till the altitude of his virtue.', '', 'second citizen:', 'what he cannot help in his nature, you account a', 'vice in him. you must in no way say he is covetous.', '', 'first citizen:', 'if i must not, i need not be barren of accusations;', 'he hath faults, with surplus, to tire in repetition.', \"what shouts are these? the other side o' the city\", 'is risen: why stay we prating here? to the capitol!', '', 'all:', 'come, come.', '', 'first citizen:', 'soft! who comes here?', '', 'second citizen:', 'worthy menenius agrippa; one that hath always loved', 'the people.', '', 'first citizen:', \"he's one honest enough: would all the rest were so!\", '', 'menenius:', \"what work's, my countrymen, in hand? where go you\", 'with bats and clubs? the matter? speak, i pray you.', '', 'first citizen:', 'our business is not unknown to the senate; they have', 'had inkling this fortnight what we intend to do,', \"which now we'll show 'em in deeds. they say poor\", 'suitors have strong breaths: they shall know we', 'have strong arms too.', '', 'menenius:', 'why, masters, my good friends, mine honest neighbours,', 'will you undo yourselves?', '', 'first citizen:', 'we cannot, sir, we are undone already.', '', 'menenius:', 'i tell you, friends, most charitable care', 'have the patricians of you. for your wants,', 'your suffering in this dearth, you may as well', 'strike at the heaven with your staves as lift them', 'against the roman state, whose course will on', 'the way it takes, cracking ten thousand curbs', 'of more strong link asunder than can ever', 'appear in your impediment. for the dearth,', 'the gods, not the patricians, make it, and', 'your knees to them, not arms, must help. alack,', 'you are transported by calamity', 'thither where more attends you, and you slander', \"the helms o' the state, who care for you like fathers,\", 'when you curse them as enemies.', '', 'first citizen:', \"care for us! true, indeed! they ne'er cared for us\", 'yet: suffer us to famish, and their store-houses', 'crammed with grain; make edicts for usury, to', 'support usurers; repeal daily any wholesome act', 'established against the rich, and provide more', 'piercing statutes daily, to chain up and restrain', 'the poor. if the wars eat us not up, they will; and', \"there's all the love they bear us.\", '', 'menenius:', 'either you must', 'confess yourselves wondrous malicious,', 'or be accused of folly. i shall tell you', 'a pretty tale: it may be you have heard it;', 'but, since it serves my purpose, i will venture', \"to stale 't a little more.\", '', 'first citizen:', \"well, i'll hear it, sir: yet you must not think to\", \"fob off our disgrace with a tale: but, an 't please\", 'you, deliver.', '', 'menenius:', \"there was a time when all the body's members\", \"rebell'd against the belly, thus accused it:\", 'that only like a gulf it did remain', \"i' the midst o' the body, idle and unactive,\", 'still cupboarding the viand, never bearing', 'like labour with the rest, where the other instruments', 'did see and hear, devise, instruct, walk, feel,', 'and, mutually participate, did minister', 'unto the appetite and affection common', \"of the whole body. the belly answer'd--\", '', 'first citizen:', 'well, sir, what answer made the belly?', '', 'menenius:', 'sir, i shall tell you. with a kind of smile,', \"which ne'er came from the lungs, but even thus--\", 'for, look you, i may make the belly smile', 'as well as speak--it tauntingly replied', 'to the discontented members, the mutinous parts', 'that envied his receipt; even so most fitly', 'as you malign our senators for that', 'they are not such as you.', '', 'first citizen:', \"your belly's answer? what!\", 'the kingly-crowned head, the vigilant eye,', 'the counsell']\n"
          ],
          "name": "stdout"
        }
      ]
    },
    {
      "cell_type": "code",
      "metadata": {
        "id": "gUG4CtVulmPy",
        "outputId": "eab0ad8b-ca13-4594-a3e1-170a7fa47dc4",
        "colab": {
          "base_uri": "https://localhost:8080/",
          "height": 35
        }
      },
      "source": [
        "len(corpus)"
      ],
      "execution_count": null,
      "outputs": [
        {
          "output_type": "execute_result",
          "data": {
            "text/plain": [
              "172"
            ]
          },
          "metadata": {
            "tags": []
          },
          "execution_count": 6
        }
      ]
    },
    {
      "cell_type": "markdown",
      "metadata": {
        "id": "j92TwJKLMJ2r"
      },
      "source": [
        "&#x270d; Using the Tokenizer class in keras, create the dictionary of words and the overall corpus."
      ]
    },
    {
      "cell_type": "code",
      "metadata": {
        "id": "vBYvldJwMJ2s"
      },
      "source": [
        "from tensorflow.keras.preprocessing.text import Tokenizer\n",
        "\n",
        "tokenizer = Tokenizer()\n",
        "tokenizer.fit_on_texts(corpus)"
      ],
      "execution_count": null,
      "outputs": []
    },
    {
      "cell_type": "markdown",
      "metadata": {
        "id": "L6H3_J_BMJ2v"
      },
      "source": [
        "&#x270d; How many words are in this corpus?"
      ]
    },
    {
      "cell_type": "code",
      "metadata": {
        "id": "5JMlhXDOMJ2v",
        "outputId": "051feabe-8207-4edc-ef59-ac7354179f81",
        "colab": {
          "base_uri": "https://localhost:8080/",
          "height": 71
        }
      },
      "source": [
        "print(tokenizer.word_index)\n",
        "\n",
        "total_words = len(tokenizer.word_index)\n",
        "\n",
        "print('Total number of words:', total_words)"
      ],
      "execution_count": null,
      "outputs": [
        {
          "output_type": "stream",
          "text": [
            "{'the': 1, 'you': 2, 'citizen': 3, 'to': 4, 'first': 5, 'and': 6, 'it': 7, 'for': 8, 'we': 9, 'us': 10, 'all': 11, 'a': 12, 'they': 13, 'i': 14, 'in': 15, 'not': 16, 'what': 17, 'with': 18, 'he': 19, 'of': 20, 'as': 21, 'speak': 22, 'are': 23, 'is': 24, 'our': 25, 'be': 26, 'but': 27, 'that': 28, 'menenius': 29, 'have': 30, 'second': 31, 'his': 32, 'your': 33, 'more': 34, 'against': 35, 'well': 36, 'did': 37, 'must': 38, 'him': 39, 'good': 40, 'would': 41, 'them': 42, 'this': 43, 'say': 44, 'will': 45, 'sir': 46, 'belly': 47, 'hear': 48, 'resolved': 49, 'know': 50, 'let': 51, 'done': 52, 'one': 53, 'poor': 54, 'patricians': 55, 'if': 56, 'hath': 57, 'which': 58, 'even': 59, \"o'\": 60, 'my': 61, 'where': 62, 'strong': 63, 'shall': 64, 'tell': 65, 'care': 66, 'may': 67, 'make': 68, 'like': 69, 'proceed': 70, 'any': 71, 'than': 72, 'famish': 73, 'caius': 74, 'marcius': 75, 'people': 76, \"know't\": 77, \"we'll\": 78, 'at': 79, 'no': 80, 'away': 81, 'citizens': 82, 'on': 83, 'were': 84, 'wholesome': 85, 'think': 86, 'too': 87, 'an': 88, 'their': 89, 'revenge': 90, 'gods': 91, \"he's\": 92, 'very': 93, 'country': 94, 'content': 95, 'proud': 96, 'unto': 97, 'soft': 98, 'can': 99, 'was': 100, 'please': 101, 'cannot': 102, 'help': 103, 'way': 104, 'other': 105, 'why': 106, 'here': 107, 'come': 108, 'who': 109, 'honest': 110, 'rest': 111, 'so': 112, 'arms': 113, 'friends': 114, 'yourselves': 115, 'most': 116, 'dearth': 117, 'state': 118, 'when': 119, \"ne'er\": 120, 'yet': 121, 'daily': 122, 'up': 123, 'accused': 124, 'tale': 125, \"'t\": 126, 'members': 127, 'thus': 128, 'body': 129, 'answer': 130, 'smile': 131, 'before': 132, 'further': 133, 'me': 134, 'rather': 135, 'die': 136, 'chief': 137, 'enemy': 138, 'kill': 139, 'corn': 140, 'own': 141, 'price': 142, \"is't\": 143, 'verdict': 144, 'talking': 145, \"on't\": 146, 'word': 147, 'accounted': 148, 'authority': 149, 'surfeits': 150, 'relieve': 151, 'yield': 152, 'superfluity': 153, 'while': 154, 'might': 155, 'guess': 156, 'relieved': 157, 'humanely': 158, 'dear': 159, 'leanness': 160, 'afflicts': 161, 'object': 162, 'misery': 163, 'inventory': 164, 'particularise': 165, 'abundance': 166, 'sufferance': 167, 'gain': 168, 'pikes': 169, 'ere': 170, 'become': 171, 'rakes': 172, 'hunger': 173, 'bread': 174, 'thirst': 175, 'especially': 176, 'dog': 177, 'commonalty': 178, 'consider': 179, 'services': 180, 'has': 181, 'could': 182, 'give': 183, 'report': 184, 'fort': 185, 'pays': 186, 'himself': 187, 'being': 188, 'nay': 189, 'maliciously': 190, 'famously': 191, 'end': 192, 'though': 193, 'conscienced': 194, 'men': 195, 'mother': 196, 'partly': 197, 'till': 198, 'altitude': 199, 'virtue': 200, 'nature': 201, 'account': 202, 'vice': 203, 'covetous': 204, 'need': 205, 'barren': 206, 'accusations': 207, 'faults': 208, 'surplus': 209, 'tire': 210, 'repetition': 211, 'shouts': 212, 'these': 213, 'side': 214, 'city': 215, 'risen': 216, 'stay': 217, 'prating': 218, 'capitol': 219, 'comes': 220, 'worthy': 221, 'agrippa': 222, 'always': 223, 'loved': 224, 'enough': 225, \"work's\": 226, 'countrymen': 227, 'hand': 228, 'go': 229, 'bats': 230, 'clubs': 231, 'matter': 232, 'pray': 233, 'business': 234, 'unknown': 235, 'senate': 236, 'had': 237, 'inkling': 238, 'fortnight': 239, 'intend': 240, 'do': 241, 'now': 242, 'show': 243, \"'em\": 244, 'deeds': 245, 'suitors': 246, 'breaths': 247, 'masters': 248, 'mine': 249, 'neighbours': 250, 'undo': 251, 'undone': 252, 'already': 253, 'charitable': 254, 'wants': 255, 'suffering': 256, 'strike': 257, 'heaven': 258, 'staves': 259, 'lift': 260, 'roman': 261, 'whose': 262, 'course': 263, 'takes': 264, 'cracking': 265, 'ten': 266, 'thousand': 267, 'curbs': 268, 'link': 269, 'asunder': 270, 'ever': 271, 'appear': 272, 'impediment': 273, 'knees': 274, 'alack': 275, 'transported': 276, 'by': 277, 'calamity': 278, 'thither': 279, 'attends': 280, 'slander': 281, 'helms': 282, 'fathers': 283, 'curse': 284, 'enemies': 285, 'true': 286, 'indeed': 287, 'cared': 288, 'suffer': 289, 'store': 290, 'houses': 291, 'crammed': 292, 'grain': 293, 'edicts': 294, 'usury': 295, 'support': 296, 'usurers': 297, 'repeal': 298, 'act': 299, 'established': 300, 'rich': 301, 'provide': 302, 'piercing': 303, 'statutes': 304, 'chain': 305, 'restrain': 306, 'wars': 307, 'eat': 308, \"there's\": 309, 'love': 310, 'bear': 311, 'either': 312, 'confess': 313, 'wondrous': 314, 'malicious': 315, 'or': 316, 'folly': 317, 'pretty': 318, 'heard': 319, 'since': 320, 'serves': 321, 'purpose': 322, 'venture': 323, 'stale': 324, 'little': 325, \"i'll\": 326, 'fob': 327, 'off': 328, 'disgrace': 329, 'deliver': 330, 'there': 331, 'time': 332, \"body's\": 333, \"rebell'd\": 334, 'only': 335, 'gulf': 336, 'remain': 337, \"i'\": 338, 'midst': 339, 'idle': 340, 'unactive': 341, 'still': 342, 'cupboarding': 343, 'viand': 344, 'never': 345, 'bearing': 346, 'labour': 347, 'instruments': 348, 'see': 349, 'devise': 350, 'instruct': 351, 'walk': 352, 'feel': 353, 'mutually': 354, 'participate': 355, 'minister': 356, 'appetite': 357, 'affection': 358, 'common': 359, 'whole': 360, \"answer'd\": 361, 'made': 362, 'kind': 363, 'came': 364, 'from': 365, 'lungs': 366, 'look': 367, 'tauntingly': 368, 'replied': 369, 'discontented': 370, 'mutinous': 371, 'parts': 372, 'envied': 373, 'receipt': 374, 'fitly': 375, 'malign': 376, 'senators': 377, 'such': 378, \"belly's\": 379, 'kingly': 380, 'crowned': 381, 'head': 382, 'vigilant': 383, 'eye': 384, 'counsell': 385}\n",
            "Total number of words: 385\n"
          ],
          "name": "stdout"
        }
      ]
    },
    {
      "cell_type": "markdown",
      "metadata": {
        "id": "xaAQiqkYMJ2y"
      },
      "source": [
        "&#x270d; Add one to the total number of wrods, to consider outer vocabulary words."
      ]
    },
    {
      "cell_type": "code",
      "metadata": {
        "id": "V7DwRFf4MJ2z",
        "outputId": "1c586a0a-4a38-4617-eb7e-775db15cd35d",
        "colab": {
          "base_uri": "https://localhost:8080/",
          "height": 34
        }
      },
      "source": [
        "total_words = total_words + 1\n",
        "\n",
        "print(total_words)"
      ],
      "execution_count": null,
      "outputs": [
        {
          "output_type": "stream",
          "text": [
            "386\n"
          ],
          "name": "stdout"
        }
      ]
    },
    {
      "cell_type": "markdown",
      "metadata": {
        "id": "qUTH99FlMJ22"
      },
      "source": [
        "&#x270d; Break down the sentences into phrases, the first two words, the first three words, etc."
      ]
    },
    {
      "cell_type": "code",
      "metadata": {
        "id": "yqoocwJjMJ23",
        "outputId": "25a15b1d-48ff-4064-c6c4-2bcd1f1ca87d",
        "colab": {
          "base_uri": "https://localhost:8080/",
          "height": 71
        }
      },
      "source": [
        "sequences = []\n",
        "for line in corpus:\n",
        "    token_list = tokenizer.texts_to_sequences([line])[0]\n",
        "    for i in range(1, len(token_list)):\n",
        "        sequences.append(token_list[:i+1])\n",
        "print(sequences)\n",
        "print(len(sequences))    "
      ],
      "execution_count": null,
      "outputs": [
        {
          "output_type": "stream",
          "text": [
            "[[5, 3], [132, 9], [132, 9, 70], [132, 9, 70, 71], [132, 9, 70, 71, 133], [132, 9, 70, 71, 133, 48], [132, 9, 70, 71, 133, 48, 134], [132, 9, 70, 71, 133, 48, 134, 22], [22, 22], [5, 3], [2, 23], [2, 23, 11], [2, 23, 11, 49], [2, 23, 11, 49, 135], [2, 23, 11, 49, 135, 4], [2, 23, 11, 49, 135, 4, 136], [2, 23, 11, 49, 135, 4, 136, 72], [2, 23, 11, 49, 135, 4, 136, 72, 4], [2, 23, 11, 49, 135, 4, 136, 72, 4, 73], [49, 49], [5, 3], [5, 2], [5, 2, 50], [5, 2, 50, 74], [5, 2, 50, 74, 75], [5, 2, 50, 74, 75, 24], [5, 2, 50, 74, 75, 24, 137], [5, 2, 50, 74, 75, 24, 137, 138], [5, 2, 50, 74, 75, 24, 137, 138, 4], [5, 2, 50, 74, 75, 24, 137, 138, 4, 1], [5, 2, 50, 74, 75, 24, 137, 138, 4, 1, 76], [9, 77], [9, 77, 9], [9, 77, 9, 77], [5, 3], [51, 10], [51, 10, 139], [51, 10, 139, 39], [51, 10, 139, 39, 6], [51, 10, 139, 39, 6, 78], [51, 10, 139, 39, 6, 78, 30], [51, 10, 139, 39, 6, 78, 30, 140], [51, 10, 139, 39, 6, 78, 30, 140, 79], [51, 10, 139, 39, 6, 78, 30, 140, 79, 25], [51, 10, 139, 39, 6, 78, 30, 140, 79, 25, 141], [51, 10, 139, 39, 6, 78, 30, 140, 79, 25, 141, 142], [143, 12], [143, 12, 144], [80, 34], [80, 34, 145], [80, 34, 145, 146], [80, 34, 145, 146, 51], [80, 34, 145, 146, 51, 7], [80, 34, 145, 146, 51, 7, 26], [80, 34, 145, 146, 51, 7, 26, 52], [80, 34, 145, 146, 51, 7, 26, 52, 81], [80, 34, 145, 146, 51, 7, 26, 52, 81, 81], [31, 3], [53, 147], [53, 147, 40], [53, 147, 40, 82], [5, 3], [9, 23], [9, 23, 148], [9, 23, 148, 54], [9, 23, 148, 54, 82], [9, 23, 148, 54, 82, 1], [9, 23, 148, 54, 82, 1, 55], [9, 23, 148, 54, 82, 1, 55, 40], [17, 149], [17, 149, 150], [17, 149, 150, 83], [17, 149, 150, 83, 41], [17, 149, 150, 83, 41, 151], [17, 149, 150, 83, 41, 151, 10], [17, 149, 150, 83, 41, 151, 10, 56], [17, 149, 150, 83, 41, 151, 10, 56, 13], [41, 152], [41, 152, 10], [41, 152, 10, 27], [41, 152, 10, 27, 1], [41, 152, 10, 27, 1, 153], [41, 152, 10, 27, 1, 153, 154], [41, 152, 10, 27, 1, 153, 154, 7], [41, 152, 10, 27, 1, 153, 154, 7, 84], [85, 9], [85, 9, 155], [85, 9, 155, 156], [85, 9, 155, 156, 13], [85, 9, 155, 156, 13, 157], [85, 9, 155, 156, 13, 157, 10], [85, 9, 155, 156, 13, 157, 10, 158], [27, 13], [27, 13, 86], [27, 13, 86, 9], [27, 13, 86, 9, 23], [27, 13, 86, 9, 23, 87], [27, 13, 86, 9, 23, 87, 159], [27, 13, 86, 9, 23, 87, 159, 1], [27, 13, 86, 9, 23, 87, 159, 1, 160], [27, 13, 86, 9, 23, 87, 159, 1, 160, 28], [161, 10], [161, 10, 1], [161, 10, 1, 162], [161, 10, 1, 162, 20], [161, 10, 1, 162, 20, 25], [161, 10, 1, 162, 20, 25, 163], [161, 10, 1, 162, 20, 25, 163, 24], [161, 10, 1, 162, 20, 25, 163, 24, 21], [161, 10, 1, 162, 20, 25, 163, 24, 21, 88], [164, 4], [164, 4, 165], [164, 4, 165, 89], [164, 4, 165, 89, 166], [164, 4, 165, 89, 166, 25], [167, 24], [167, 24, 12], [167, 24, 12, 168], [167, 24, 12, 168, 4], [167, 24, 12, 168, 4, 42], [167, 24, 12, 168, 4, 42, 51], [167, 24, 12, 168, 4, 42, 51, 10], [167, 24, 12, 168, 4, 42, 51, 10, 90], [167, 24, 12, 168, 4, 42, 51, 10, 90, 43], [167, 24, 12, 168, 4, 42, 51, 10, 90, 43, 18], [25, 169], [25, 169, 170], [25, 169, 170, 9], [25, 169, 170, 9, 171], [25, 169, 170, 9, 171, 172], [25, 169, 170, 9, 171, 172, 8], [25, 169, 170, 9, 171, 172, 8, 1], [25, 169, 170, 9, 171, 172, 8, 1, 91], [25, 169, 170, 9, 171, 172, 8, 1, 91, 50], [25, 169, 170, 9, 171, 172, 8, 1, 91, 50, 14], [22, 43], [22, 43, 15], [22, 43, 15, 173], [22, 43, 15, 173, 8], [22, 43, 15, 173, 8, 174], [22, 43, 15, 173, 8, 174, 16], [22, 43, 15, 173, 8, 174, 16, 15], [22, 43, 15, 173, 8, 174, 16, 15, 175], [22, 43, 15, 173, 8, 174, 16, 15, 175, 8], [22, 43, 15, 173, 8, 174, 16, 15, 175, 8, 90], [31, 3], [41, 2], [41, 2, 70], [41, 2, 70, 176], [41, 2, 70, 176, 35], [41, 2, 70, 176, 35, 74], [41, 2, 70, 176, 35, 74, 75], [35, 39], [35, 39, 5], [35, 39, 5, 92], [35, 39, 5, 92, 12], [35, 39, 5, 92, 12, 93], [35, 39, 5, 92, 12, 93, 177], [35, 39, 5, 92, 12, 93, 177, 4], [35, 39, 5, 92, 12, 93, 177, 4, 1], [35, 39, 5, 92, 12, 93, 177, 4, 1, 178], [31, 3], [179, 2], [179, 2, 17], [179, 2, 17, 180], [179, 2, 17, 180, 19], [179, 2, 17, 180, 19, 181], [179, 2, 17, 180, 19, 181, 52], [179, 2, 17, 180, 19, 181, 52, 8], [179, 2, 17, 180, 19, 181, 52, 8, 32], [179, 2, 17, 180, 19, 181, 52, 8, 32, 94], [5, 3], [93, 36], [93, 36, 6], [93, 36, 6, 182], [93, 36, 6, 182, 26], [93, 36, 6, 182, 26, 95], [93, 36, 6, 182, 26, 95, 4], [93, 36, 6, 182, 26, 95, 4, 183], [93, 36, 6, 182, 26, 95, 4, 183, 39], [93, 36, 6, 182, 26, 95, 4, 183, 39, 40], [184, 185], [184, 185, 27], [184, 185, 27, 28], [184, 185, 27, 28, 19], [184, 185, 27, 28, 19, 186], [184, 185, 27, 28, 19, 186, 187], [184, 185, 27, 28, 19, 186, 187, 18], [184, 185, 27, 28, 19, 186, 187, 18, 188], [184, 185, 27, 28, 19, 186, 187, 18, 188, 96], [31, 3], [189, 27], [189, 27, 22], [189, 27, 22, 16], [189, 27, 22, 16, 190], [5, 3], [14, 44], [14, 44, 97], [14, 44, 97, 2], [14, 44, 97, 2, 17], [14, 44, 97, 2, 17, 19], [14, 44, 97, 2, 17, 19, 57], [14, 44, 97, 2, 17, 19, 57, 52], [14, 44, 97, 2, 17, 19, 57, 52, 191], [14, 44, 97, 2, 17, 19, 57, 52, 191, 19], [14, 44, 97, 2, 17, 19, 57, 52, 191, 19, 37], [7, 4], [7, 4, 28], [7, 4, 28, 192], [7, 4, 28, 192, 193], [7, 4, 28, 192, 193, 98], [7, 4, 28, 192, 193, 98, 194], [7, 4, 28, 192, 193, 98, 194, 195], [7, 4, 28, 192, 193, 98, 194, 195, 99], [7, 4, 28, 192, 193, 98, 194, 195, 99, 26], [95, 4], [95, 4, 44], [95, 4, 44, 7], [95, 4, 44, 7, 100], [95, 4, 44, 7, 100, 8], [95, 4, 44, 7, 100, 8, 32], [95, 4, 44, 7, 100, 8, 32, 94], [95, 4, 44, 7, 100, 8, 32, 94, 19], [95, 4, 44, 7, 100, 8, 32, 94, 19, 37], [95, 4, 44, 7, 100, 8, 32, 94, 19, 37, 7], [95, 4, 44, 7, 100, 8, 32, 94, 19, 37, 7, 4], [101, 32], [101, 32, 196], [101, 32, 196, 6], [101, 32, 196, 6, 4], [101, 32, 196, 6, 4, 26], [101, 32, 196, 6, 4, 26, 197], [101, 32, 196, 6, 4, 26, 197, 96], [101, 32, 196, 6, 4, 26, 197, 96, 58], [101, 32, 196, 6, 4, 26, 197, 96, 58, 19], [24, 59], [24, 59, 198], [24, 59, 198, 1], [24, 59, 198, 1, 199], [24, 59, 198, 1, 199, 20], [24, 59, 198, 1, 199, 20, 32], [24, 59, 198, 1, 199, 20, 32, 200], [31, 3], [17, 19], [17, 19, 102], [17, 19, 102, 103], [17, 19, 102, 103, 15], [17, 19, 102, 103, 15, 32], [17, 19, 102, 103, 15, 32, 201], [17, 19, 102, 103, 15, 32, 201, 2], [17, 19, 102, 103, 15, 32, 201, 2, 202], [17, 19, 102, 103, 15, 32, 201, 2, 202, 12], [203, 15], [203, 15, 39], [203, 15, 39, 2], [203, 15, 39, 2, 38], [203, 15, 39, 2, 38, 15], [203, 15, 39, 2, 38, 15, 80], [203, 15, 39, 2, 38, 15, 80, 104], [203, 15, 39, 2, 38, 15, 80, 104, 44], [203, 15, 39, 2, 38, 15, 80, 104, 44, 19], [203, 15, 39, 2, 38, 15, 80, 104, 44, 19, 24], [203, 15, 39, 2, 38, 15, 80, 104, 44, 19, 24, 204], [5, 3], [56, 14], [56, 14, 38], [56, 14, 38, 16], [56, 14, 38, 16, 14], [56, 14, 38, 16, 14, 205], [56, 14, 38, 16, 14, 205, 16], [56, 14, 38, 16, 14, 205, 16, 26], [56, 14, 38, 16, 14, 205, 16, 26, 206], [56, 14, 38, 16, 14, 205, 16, 26, 206, 20], [56, 14, 38, 16, 14, 205, 16, 26, 206, 20, 207], [19, 57], [19, 57, 208], [19, 57, 208, 18], [19, 57, 208, 18, 209], [19, 57, 208, 18, 209, 4], [19, 57, 208, 18, 209, 4, 210], [19, 57, 208, 18, 209, 4, 210, 15], [19, 57, 208, 18, 209, 4, 210, 15, 211], [17, 212], [17, 212, 23], [17, 212, 23, 213], [17, 212, 23, 213, 1], [17, 212, 23, 213, 1, 105], [17, 212, 23, 213, 1, 105, 214], [17, 212, 23, 213, 1, 105, 214, 60], [17, 212, 23, 213, 1, 105, 214, 60, 1], [17, 212, 23, 213, 1, 105, 214, 60, 1, 215], [24, 216], [24, 216, 106], [24, 216, 106, 217], [24, 216, 106, 217, 9], [24, 216, 106, 217, 9, 218], [24, 216, 106, 217, 9, 218, 107], [24, 216, 106, 217, 9, 218, 107, 4], [24, 216, 106, 217, 9, 218, 107, 4, 1], [24, 216, 106, 217, 9, 218, 107, 4, 1, 219], [108, 108], [5, 3], [98, 109], [98, 109, 220], [98, 109, 220, 107], [31, 3], [221, 29], [221, 29, 222], [221, 29, 222, 53], [221, 29, 222, 53, 28], [221, 29, 222, 53, 28, 57], [221, 29, 222, 53, 28, 57, 223], [221, 29, 222, 53, 28, 57, 223, 224], [1, 76], [5, 3], [92, 53], [92, 53, 110], [92, 53, 110, 225], [92, 53, 110, 225, 41], [92, 53, 110, 225, 41, 11], [92, 53, 110, 225, 41, 11, 1], [92, 53, 110, 225, 41, 11, 1, 111], [92, 53, 110, 225, 41, 11, 1, 111, 84], [92, 53, 110, 225, 41, 11, 1, 111, 84, 112], [17, 226], [17, 226, 61], [17, 226, 61, 227], [17, 226, 61, 227, 15], [17, 226, 61, 227, 15, 228], [17, 226, 61, 227, 15, 228, 62], [17, 226, 61, 227, 15, 228, 62, 229], [17, 226, 61, 227, 15, 228, 62, 229, 2], [18, 230], [18, 230, 6], [18, 230, 6, 231], [18, 230, 6, 231, 1], [18, 230, 6, 231, 1, 232], [18, 230, 6, 231, 1, 232, 22], [18, 230, 6, 231, 1, 232, 22, 14], [18, 230, 6, 231, 1, 232, 22, 14, 233], [18, 230, 6, 231, 1, 232, 22, 14, 233, 2], [5, 3], [25, 234], [25, 234, 24], [25, 234, 24, 16], [25, 234, 24, 16, 235], [25, 234, 24, 16, 235, 4], [25, 234, 24, 16, 235, 4, 1], [25, 234, 24, 16, 235, 4, 1, 236], [25, 234, 24, 16, 235, 4, 1, 236, 13], [25, 234, 24, 16, 235, 4, 1, 236, 13, 30], [237, 238], [237, 238, 43], [237, 238, 43, 239], [237, 238, 43, 239, 17], [237, 238, 43, 239, 17, 9], [237, 238, 43, 239, 17, 9, 240], [237, 238, 43, 239, 17, 9, 240, 4], [237, 238, 43, 239, 17, 9, 240, 4, 241], [58, 242], [58, 242, 78], [58, 242, 78, 243], [58, 242, 78, 243, 244], [58, 242, 78, 243, 244, 15], [58, 242, 78, 243, 244, 15, 245], [58, 242, 78, 243, 244, 15, 245, 13], [58, 242, 78, 243, 244, 15, 245, 13, 44], [58, 242, 78, 243, 244, 15, 245, 13, 44, 54], [246, 30], [246, 30, 63], [246, 30, 63, 247], [246, 30, 63, 247, 13], [246, 30, 63, 247, 13, 64], [246, 30, 63, 247, 13, 64, 50], [246, 30, 63, 247, 13, 64, 50, 9], [30, 63], [30, 63, 113], [30, 63, 113, 87], [106, 248], [106, 248, 61], [106, 248, 61, 40], [106, 248, 61, 40, 114], [106, 248, 61, 40, 114, 249], [106, 248, 61, 40, 114, 249, 110], [106, 248, 61, 40, 114, 249, 110, 250], [45, 2], [45, 2, 251], [45, 2, 251, 115], [5, 3], [9, 102], [9, 102, 46], [9, 102, 46, 9], [9, 102, 46, 9, 23], [9, 102, 46, 9, 23, 252], [9, 102, 46, 9, 23, 252, 253], [14, 65], [14, 65, 2], [14, 65, 2, 114], [14, 65, 2, 114, 116], [14, 65, 2, 114, 116, 254], [14, 65, 2, 114, 116, 254, 66], [30, 1], [30, 1, 55], [30, 1, 55, 20], [30, 1, 55, 20, 2], [30, 1, 55, 20, 2, 8], [30, 1, 55, 20, 2, 8, 33], [30, 1, 55, 20, 2, 8, 33, 255], [33, 256], [33, 256, 15], [33, 256, 15, 43], [33, 256, 15, 43, 117], [33, 256, 15, 43, 117, 2], [33, 256, 15, 43, 117, 2, 67], [33, 256, 15, 43, 117, 2, 67, 21], [33, 256, 15, 43, 117, 2, 67, 21, 36], [257, 79], [257, 79, 1], [257, 79, 1, 258], [257, 79, 1, 258, 18], [257, 79, 1, 258, 18, 33], [257, 79, 1, 258, 18, 33, 259], [257, 79, 1, 258, 18, 33, 259, 21], [257, 79, 1, 258, 18, 33, 259, 21, 260], [257, 79, 1, 258, 18, 33, 259, 21, 260, 42], [35, 1], [35, 1, 261], [35, 1, 261, 118], [35, 1, 261, 118, 262], [35, 1, 261, 118, 262, 263], [35, 1, 261, 118, 262, 263, 45], [35, 1, 261, 118, 262, 263, 45, 83], [1, 104], [1, 104, 7], [1, 104, 7, 264], [1, 104, 7, 264, 265], [1, 104, 7, 264, 265, 266], [1, 104, 7, 264, 265, 266, 267], [1, 104, 7, 264, 265, 266, 267, 268], [20, 34], [20, 34, 63], [20, 34, 63, 269], [20, 34, 63, 269, 270], [20, 34, 63, 269, 270, 72], [20, 34, 63, 269, 270, 72, 99], [20, 34, 63, 269, 270, 72, 99, 271], [272, 15], [272, 15, 33], [272, 15, 33, 273], [272, 15, 33, 273, 8], [272, 15, 33, 273, 8, 1], [272, 15, 33, 273, 8, 1, 117], [1, 91], [1, 91, 16], [1, 91, 16, 1], [1, 91, 16, 1, 55], [1, 91, 16, 1, 55, 68], [1, 91, 16, 1, 55, 68, 7], [1, 91, 16, 1, 55, 68, 7, 6], [33, 274], [33, 274, 4], [33, 274, 4, 42], [33, 274, 4, 42, 16], [33, 274, 4, 42, 16, 113], [33, 274, 4, 42, 16, 113, 38], [33, 274, 4, 42, 16, 113, 38, 103], [33, 274, 4, 42, 16, 113, 38, 103, 275], [2, 23], [2, 23, 276], [2, 23, 276, 277], [2, 23, 276, 277, 278], [279, 62], [279, 62, 34], [279, 62, 34, 280], [279, 62, 34, 280, 2], [279, 62, 34, 280, 2, 6], [279, 62, 34, 280, 2, 6, 2], [279, 62, 34, 280, 2, 6, 2, 281], [1, 282], [1, 282, 60], [1, 282, 60, 1], [1, 282, 60, 1, 118], [1, 282, 60, 1, 118, 109], [1, 282, 60, 1, 118, 109, 66], [1, 282, 60, 1, 118, 109, 66, 8], [1, 282, 60, 1, 118, 109, 66, 8, 2], [1, 282, 60, 1, 118, 109, 66, 8, 2, 69], [1, 282, 60, 1, 118, 109, 66, 8, 2, 69, 283], [119, 2], [119, 2, 284], [119, 2, 284, 42], [119, 2, 284, 42, 21], [119, 2, 284, 42, 21, 285], [5, 3], [66, 8], [66, 8, 10], [66, 8, 10, 286], [66, 8, 10, 286, 287], [66, 8, 10, 286, 287, 13], [66, 8, 10, 286, 287, 13, 120], [66, 8, 10, 286, 287, 13, 120, 288], [66, 8, 10, 286, 287, 13, 120, 288, 8], [66, 8, 10, 286, 287, 13, 120, 288, 8, 10], [121, 289], [121, 289, 10], [121, 289, 10, 4], [121, 289, 10, 4, 73], [121, 289, 10, 4, 73, 6], [121, 289, 10, 4, 73, 6, 89], [121, 289, 10, 4, 73, 6, 89, 290], [121, 289, 10, 4, 73, 6, 89, 290, 291], [292, 18], [292, 18, 293], [292, 18, 293, 68], [292, 18, 293, 68, 294], [292, 18, 293, 68, 294, 8], [292, 18, 293, 68, 294, 8, 295], [292, 18, 293, 68, 294, 8, 295, 4], [296, 297], [296, 297, 298], [296, 297, 298, 122], [296, 297, 298, 122, 71], [296, 297, 298, 122, 71, 85], [296, 297, 298, 122, 71, 85, 299], [300, 35], [300, 35, 1], [300, 35, 1, 301], [300, 35, 1, 301, 6], [300, 35, 1, 301, 6, 302], [300, 35, 1, 301, 6, 302, 34], [303, 304], [303, 304, 122], [303, 304, 122, 4], [303, 304, 122, 4, 305], [303, 304, 122, 4, 305, 123], [303, 304, 122, 4, 305, 123, 6], [303, 304, 122, 4, 305, 123, 6, 306], [1, 54], [1, 54, 56], [1, 54, 56, 1], [1, 54, 56, 1, 307], [1, 54, 56, 1, 307, 308], [1, 54, 56, 1, 307, 308, 10], [1, 54, 56, 1, 307, 308, 10, 16], [1, 54, 56, 1, 307, 308, 10, 16, 123], [1, 54, 56, 1, 307, 308, 10, 16, 123, 13], [1, 54, 56, 1, 307, 308, 10, 16, 123, 13, 45], [1, 54, 56, 1, 307, 308, 10, 16, 123, 13, 45, 6], [309, 11], [309, 11, 1], [309, 11, 1, 310], [309, 11, 1, 310, 13], [309, 11, 1, 310, 13, 311], [309, 11, 1, 310, 13, 311, 10], [312, 2], [312, 2, 38], [313, 115], [313, 115, 314], [313, 115, 314, 315], [316, 26], [316, 26, 124], [316, 26, 124, 20], [316, 26, 124, 20, 317], [316, 26, 124, 20, 317, 14], [316, 26, 124, 20, 317, 14, 64], [316, 26, 124, 20, 317, 14, 64, 65], [316, 26, 124, 20, 317, 14, 64, 65, 2], [12, 318], [12, 318, 125], [12, 318, 125, 7], [12, 318, 125, 7, 67], [12, 318, 125, 7, 67, 26], [12, 318, 125, 7, 67, 26, 2], [12, 318, 125, 7, 67, 26, 2, 30], [12, 318, 125, 7, 67, 26, 2, 30, 319], [12, 318, 125, 7, 67, 26, 2, 30, 319, 7], [27, 320], [27, 320, 7], [27, 320, 7, 321], [27, 320, 7, 321, 61], [27, 320, 7, 321, 61, 322], [27, 320, 7, 321, 61, 322, 14], [27, 320, 7, 321, 61, 322, 14, 45], [27, 320, 7, 321, 61, 322, 14, 45, 323], [4, 324], [4, 324, 126], [4, 324, 126, 12], [4, 324, 126, 12, 325], [4, 324, 126, 12, 325, 34], [5, 3], [36, 326], [36, 326, 48], [36, 326, 48, 7], [36, 326, 48, 7, 46], [36, 326, 48, 7, 46, 121], [36, 326, 48, 7, 46, 121, 2], [36, 326, 48, 7, 46, 121, 2, 38], [36, 326, 48, 7, 46, 121, 2, 38, 16], [36, 326, 48, 7, 46, 121, 2, 38, 16, 86], [36, 326, 48, 7, 46, 121, 2, 38, 16, 86, 4], [327, 328], [327, 328, 25], [327, 328, 25, 329], [327, 328, 25, 329, 18], [327, 328, 25, 329, 18, 12], [327, 328, 25, 329, 18, 12, 125], [327, 328, 25, 329, 18, 12, 125, 27], [327, 328, 25, 329, 18, 12, 125, 27, 88], [327, 328, 25, 329, 18, 12, 125, 27, 88, 126], [327, 328, 25, 329, 18, 12, 125, 27, 88, 126, 101], [2, 330], [331, 100], [331, 100, 12], [331, 100, 12, 332], [331, 100, 12, 332, 119], [331, 100, 12, 332, 119, 11], [331, 100, 12, 332, 119, 11, 1], [331, 100, 12, 332, 119, 11, 1, 333], [331, 100, 12, 332, 119, 11, 1, 333, 127], [334, 35], [334, 35, 1], [334, 35, 1, 47], [334, 35, 1, 47, 128], [334, 35, 1, 47, 128, 124], [334, 35, 1, 47, 128, 124, 7], [28, 335], [28, 335, 69], [28, 335, 69, 12], [28, 335, 69, 12, 336], [28, 335, 69, 12, 336, 7], [28, 335, 69, 12, 336, 7, 37], [28, 335, 69, 12, 336, 7, 37, 337], [338, 1], [338, 1, 339], [338, 1, 339, 60], [338, 1, 339, 60, 1], [338, 1, 339, 60, 1, 129], [338, 1, 339, 60, 1, 129, 340], [338, 1, 339, 60, 1, 129, 340, 6], [338, 1, 339, 60, 1, 129, 340, 6, 341], [342, 343], [342, 343, 1], [342, 343, 1, 344], [342, 343, 1, 344, 345], [342, 343, 1, 344, 345, 346], [69, 347], [69, 347, 18], [69, 347, 18, 1], [69, 347, 18, 1, 111], [69, 347, 18, 1, 111, 62], [69, 347, 18, 1, 111, 62, 1], [69, 347, 18, 1, 111, 62, 1, 105], [69, 347, 18, 1, 111, 62, 1, 105, 348], [37, 349], [37, 349, 6], [37, 349, 6, 48], [37, 349, 6, 48, 350], [37, 349, 6, 48, 350, 351], [37, 349, 6, 48, 350, 351, 352], [37, 349, 6, 48, 350, 351, 352, 353], [6, 354], [6, 354, 355], [6, 354, 355, 37], [6, 354, 355, 37, 356], [97, 1], [97, 1, 357], [97, 1, 357, 6], [97, 1, 357, 6, 358], [97, 1, 357, 6, 358, 359], [20, 1], [20, 1, 360], [20, 1, 360, 129], [20, 1, 360, 129, 1], [20, 1, 360, 129, 1, 47], [20, 1, 360, 129, 1, 47, 361], [5, 3], [36, 46], [36, 46, 17], [36, 46, 17, 130], [36, 46, 17, 130, 362], [36, 46, 17, 130, 362, 1], [36, 46, 17, 130, 362, 1, 47], [46, 14], [46, 14, 64], [46, 14, 64, 65], [46, 14, 64, 65, 2], [46, 14, 64, 65, 2, 18], [46, 14, 64, 65, 2, 18, 12], [46, 14, 64, 65, 2, 18, 12, 363], [46, 14, 64, 65, 2, 18, 12, 363, 20], [46, 14, 64, 65, 2, 18, 12, 363, 20, 131], [58, 120], [58, 120, 364], [58, 120, 364, 365], [58, 120, 364, 365, 1], [58, 120, 364, 365, 1, 366], [58, 120, 364, 365, 1, 366, 27], [58, 120, 364, 365, 1, 366, 27, 59], [58, 120, 364, 365, 1, 366, 27, 59, 128], [8, 367], [8, 367, 2], [8, 367, 2, 14], [8, 367, 2, 14, 67], [8, 367, 2, 14, 67, 68], [8, 367, 2, 14, 67, 68, 1], [8, 367, 2, 14, 67, 68, 1, 47], [8, 367, 2, 14, 67, 68, 1, 47, 131], [21, 36], [21, 36, 21], [21, 36, 21, 22], [21, 36, 21, 22, 7], [21, 36, 21, 22, 7, 368], [21, 36, 21, 22, 7, 368, 369], [4, 1], [4, 1, 370], [4, 1, 370, 127], [4, 1, 370, 127, 1], [4, 1, 370, 127, 1, 371], [4, 1, 370, 127, 1, 371, 372], [28, 373], [28, 373, 32], [28, 373, 32, 374], [28, 373, 32, 374, 59], [28, 373, 32, 374, 59, 112], [28, 373, 32, 374, 59, 112, 116], [28, 373, 32, 374, 59, 112, 116, 375], [21, 2], [21, 2, 376], [21, 2, 376, 25], [21, 2, 376, 25, 377], [21, 2, 376, 25, 377, 8], [21, 2, 376, 25, 377, 8, 28], [13, 23], [13, 23, 16], [13, 23, 16, 378], [13, 23, 16, 378, 21], [13, 23, 16, 378, 21, 2], [5, 3], [33, 379], [33, 379, 130], [33, 379, 130, 17], [1, 380], [1, 380, 381], [1, 380, 381, 382], [1, 380, 381, 382, 1], [1, 380, 381, 382, 1, 383], [1, 380, 381, 382, 1, 383, 384], [1, 385]]\n",
            "748\n"
          ],
          "name": "stdout"
        }
      ]
    },
    {
      "cell_type": "markdown",
      "metadata": {
        "id": "uMrZjnqsMJ26"
      },
      "source": [
        "&#x270d; Find the length of the longest sentence in the corpus."
      ]
    },
    {
      "cell_type": "code",
      "metadata": {
        "id": "YM1Jt75nMJ27",
        "outputId": "f2bca3cf-3c75-4728-8756-6ae9aecc89c5",
        "colab": {
          "base_uri": "https://localhost:8080/",
          "height": 34
        }
      },
      "source": [
        "max_sequence_length = max([len(x) for x in sequences])\n",
        "print(max_sequence_length)"
      ],
      "execution_count": null,
      "outputs": [
        {
          "output_type": "stream",
          "text": [
            "12\n"
          ],
          "name": "stdout"
        }
      ]
    },
    {
      "cell_type": "markdown",
      "metadata": {
        "id": "fqP8zTKfMJ2-"
      },
      "source": [
        "&#x270d; Pre-pad sequences with zero to make it easier to extract the labels."
      ]
    },
    {
      "cell_type": "code",
      "metadata": {
        "id": "3SiaBZiQMJ2_",
        "outputId": "1cf78d47-e516-4add-8576-7835a5de021e",
        "colab": {
          "base_uri": "https://localhost:8080/",
          "height": 153
        }
      },
      "source": [
        "from tensorflow.keras.preprocessing.sequence import pad_sequences\n",
        "import numpy as np\n",
        "\n",
        "sequences_padded = pad_sequences(sequences, maxlen= max_sequence_length, padding='pre')\n",
        "sequences_padded = np.array(sequences_padded)\n",
        "print(sequences_padded)\n",
        "print(sequences_padded.shape)"
      ],
      "execution_count": null,
      "outputs": [
        {
          "output_type": "stream",
          "text": [
            "[[  0   0   0 ...   0   5   3]\n",
            " [  0   0   0 ...   0 132   9]\n",
            " [  0   0   0 ... 132   9  70]\n",
            " ...\n",
            " [  0   0   0 ... 382   1 383]\n",
            " [  0   0   0 ...   1 383 384]\n",
            " [  0   0   0 ...   0   1 385]]\n",
            "(748, 12)\n"
          ],
          "name": "stdout"
        }
      ]
    },
    {
      "cell_type": "markdown",
      "metadata": {
        "id": "Jh_D2h05MJ3C"
      },
      "source": [
        "&#x270d; For each given sentence, take all but the last token as the input values $X$, and then use the last token as its label $y$."
      ]
    },
    {
      "cell_type": "code",
      "metadata": {
        "id": "udHHioVRMJ3D",
        "outputId": "9cd33582-9ff9-4655-bac4-0fe7dc6650db",
        "colab": {
          "base_uri": "https://localhost:8080/",
          "height": 748
        }
      },
      "source": [
        "X = sequences_padded[:,:-1]\n",
        "y = sequences_padded[:,-1]\n",
        "\n",
        "print(y)\n",
        "\n",
        "print(y.shape)"
      ],
      "execution_count": null,
      "outputs": [
        {
          "output_type": "stream",
          "text": [
            "[  3   9  70  71 133  48 134  22  22   3  23  11  49 135   4 136  72   4\n",
            "  73  49   3   2  50  74  75  24 137 138   4   1  76  77   9  77   3  10\n",
            " 139  39   6  78  30 140  79  25 141 142  12 144  34 145 146  51   7  26\n",
            "  52  81  81   3 147  40  82   3  23 148  54  82   1  55  40 149 150  83\n",
            "  41 151  10  56  13 152  10  27   1 153 154   7  84   9 155 156  13 157\n",
            "  10 158  13  86   9  23  87 159   1 160  28  10   1 162  20  25 163  24\n",
            "  21  88   4 165  89 166  25  24  12 168   4  42  51  10  90  43  18 169\n",
            " 170   9 171 172   8   1  91  50  14  43  15 173   8 174  16  15 175   8\n",
            "  90   3   2  70 176  35  74  75  39   5  92  12  93 177   4   1 178   3\n",
            "   2  17 180  19 181  52   8  32  94   3  36   6 182  26  95   4 183  39\n",
            "  40 185  27  28  19 186 187  18 188  96   3  27  22  16 190   3  44  97\n",
            "   2  17  19  57  52 191  19  37   4  28 192 193  98 194 195  99  26   4\n",
            "  44   7 100   8  32  94  19  37   7   4  32 196   6   4  26 197  96  58\n",
            "  19  59 198   1 199  20  32 200   3  19 102 103  15  32 201   2 202  12\n",
            "  15  39   2  38  15  80 104  44  19  24 204   3  14  38  16  14 205  16\n",
            "  26 206  20 207  57 208  18 209   4 210  15 211 212  23 213   1 105 214\n",
            "  60   1 215 216 106 217   9 218 107   4   1 219 108   3 109 220 107   3\n",
            "  29 222  53  28  57 223 224  76   3  53 110 225  41  11   1 111  84 112\n",
            " 226  61 227  15 228  62 229   2 230   6 231   1 232  22  14 233   2   3\n",
            " 234  24  16 235   4   1 236  13  30 238  43 239  17   9 240   4 241 242\n",
            "  78 243 244  15 245  13  44  54  30  63 247  13  64  50   9  63 113  87\n",
            " 248  61  40 114 249 110 250   2 251 115   3 102  46   9  23 252 253  65\n",
            "   2 114 116 254  66   1  55  20   2   8  33 255 256  15  43 117   2  67\n",
            "  21  36  79   1 258  18  33 259  21 260  42   1 261 118 262 263  45  83\n",
            " 104   7 264 265 266 267 268  34  63 269 270  72  99 271  15  33 273   8\n",
            "   1 117  91  16   1  55  68   7   6 274   4  42  16 113  38 103 275  23\n",
            " 276 277 278  62  34 280   2   6   2 281 282  60   1 118 109  66   8   2\n",
            "  69 283   2 284  42  21 285   3   8  10 286 287  13 120 288   8  10 289\n",
            "  10   4  73   6  89 290 291  18 293  68 294   8 295   4 297 298 122  71\n",
            "  85 299  35   1 301   6 302  34 304 122   4 305 123   6 306  54  56   1\n",
            " 307 308  10  16 123  13  45   6  11   1 310  13 311  10   2  38 115 314\n",
            " 315  26 124  20 317  14  64  65   2 318 125   7  67  26   2  30 319   7\n",
            " 320   7 321  61 322  14  45 323 324 126  12 325  34   3 326  48   7  46\n",
            " 121   2  38  16  86   4 328  25 329  18  12 125  27  88 126 101 330 100\n",
            "  12 332 119  11   1 333 127  35   1  47 128 124   7 335  69  12 336   7\n",
            "  37 337   1 339  60   1 129 340   6 341 343   1 344 345 346 347  18   1\n",
            " 111  62   1 105 348 349   6  48 350 351 352 353 354 355  37 356   1 357\n",
            "   6 358 359   1 360 129   1  47 361   3  46  17 130 362   1  47  14  64\n",
            "  65   2  18  12 363  20 131 120 364 365   1 366  27  59 128 367   2  14\n",
            "  67  68   1  47 131  36  21  22   7 368 369   1 370 127   1 371 372 373\n",
            "  32 374  59 112 116 375   2 376  25 377   8  28  23  16 378  21   2   3\n",
            " 379 130  17 380 381 382   1 383 384 385]\n",
            "(748,)\n"
          ],
          "name": "stdout"
        }
      ]
    },
    {
      "cell_type": "markdown",
      "metadata": {
        "id": "DnUETkrKMJ3F"
      },
      "source": [
        "&#x270d; Using _to_categorical_ class in keras, one-hot encode the labels."
      ]
    },
    {
      "cell_type": "code",
      "metadata": {
        "id": "vWCzqp4xMJ3G",
        "outputId": "a04d47ca-51d7-4722-e1be-1fdb8defb97e",
        "colab": {
          "base_uri": "https://localhost:8080/",
          "height": 51
        }
      },
      "source": [
        "from tensorflow.keras.utils import to_categorical\n",
        "\n",
        "y = to_categorical(y, num_classes= total_words)\n",
        "\n",
        "print(y.shape)\n",
        "print(X.shape)"
      ],
      "execution_count": null,
      "outputs": [
        {
          "output_type": "stream",
          "text": [
            "(748, 386)\n",
            "(748, 11)\n"
          ],
          "name": "stdout"
        }
      ]
    },
    {
      "cell_type": "markdown",
      "metadata": {
        "id": "qKLglcS4MJ3J"
      },
      "source": [
        "#### Build the Model <a id=\"preprocessing\"></a>"
      ]
    },
    {
      "cell_type": "markdown",
      "metadata": {
        "id": "jNHzEbKKMJ3K"
      },
      "source": [
        "##### LSTM <a id=\"lstm\"></a>"
      ]
    },
    {
      "cell_type": "markdown",
      "metadata": {
        "id": "b7faiJnZMJ3K"
      },
      "source": [
        "&#x270d; Create a model with LSTM nodes."
      ]
    },
    {
      "cell_type": "code",
      "metadata": {
        "id": "NskYa--6MJ3L",
        "outputId": "19b3b0e3-77a4-4f05-9a44-cd7c890fc6ce",
        "colab": {
          "base_uri": "https://localhost:8080/",
          "height": 377
        }
      },
      "source": [
        "from tensorflow.keras.models import Sequential\n",
        "from tensorflow.keras.layers import Embedding, LSTM, Dense\n",
        "\n",
        "model = Sequential()\n",
        "\n",
        "model.add(Embedding(total_words, 64, input_length= max_sequence_length-1))\n",
        "# the size of the input dimensions will be fed in is the length of the longest sequence minus 1\n",
        "# we subtract one because we cropped off the last word of each sequence to get the label\n",
        "\n",
        "model.add(LSTM(150))\n",
        "# LSTMs carry context along with their cell state, so it's not just next door neighbor words that have an impact.\n",
        "\n",
        "model.add(Dense(total_words, activation='softmax'))\n",
        "# Finally there's a dense layer sized as the total words, \n",
        "# which is the same size that we used for the one-hot encoding.\n",
        "# this layer will have one neuron per word and that neuron should light up when we predict a given word.\n",
        "\n",
        "model.summary()"
      ],
      "execution_count": null,
      "outputs": [
        {
          "output_type": "stream",
          "text": [
            "WARNING:tensorflow:From /usr/local/lib/python3.6/dist-packages/tensorflow_core/python/keras/initializers.py:119: calling RandomUniform.__init__ (from tensorflow.python.ops.init_ops) with dtype is deprecated and will be removed in a future version.\n",
            "Instructions for updating:\n",
            "Call initializer instance with the dtype argument instead of passing it to the constructor\n",
            "WARNING:tensorflow:From /usr/local/lib/python3.6/dist-packages/tensorflow_core/python/ops/resource_variable_ops.py:1630: calling BaseResourceVariable.__init__ (from tensorflow.python.ops.resource_variable_ops) with constraint is deprecated and will be removed in a future version.\n",
            "Instructions for updating:\n",
            "If using Keras pass *_constraint arguments to layers.\n",
            "Model: \"sequential\"\n",
            "_________________________________________________________________\n",
            "Layer (type)                 Output Shape              Param #   \n",
            "=================================================================\n",
            "embedding (Embedding)        (None, 11, 64)            24704     \n",
            "_________________________________________________________________\n",
            "lstm (LSTM)                  (None, 150)               129000    \n",
            "_________________________________________________________________\n",
            "dense (Dense)                (None, 386)               58286     \n",
            "=================================================================\n",
            "Total params: 211,990\n",
            "Trainable params: 211,990\n",
            "Non-trainable params: 0\n",
            "_________________________________________________________________\n"
          ],
          "name": "stdout"
        }
      ]
    },
    {
      "cell_type": "markdown",
      "metadata": {
        "id": "LNf_H7sMMJ3O"
      },
      "source": [
        "&#x270d; Compile and fit your model."
      ]
    },
    {
      "cell_type": "code",
      "metadata": {
        "id": "EFEUJdbVMJ3P"
      },
      "source": [
        "model.compile(loss='categorical_crossentropy', optimizer= 'adam', metrics=['accuracy'])\n",
        "history = model.fit(X, y, epochs= 100, verbose=0)"
      ],
      "execution_count": null,
      "outputs": []
    },
    {
      "cell_type": "markdown",
      "metadata": {
        "id": "8EdM4utnMJ3a"
      },
      "source": [
        "&#x270d; Plot loss and accuracy over training epochs."
      ]
    },
    {
      "cell_type": "code",
      "metadata": {
        "id": "7mNPhCYNMJ3a",
        "outputId": "17a27e99-1986-4c6b-a54d-d11e82b21986",
        "colab": {
          "base_uri": "https://localhost:8080/",
          "height": 334
        }
      },
      "source": [
        "import matplotlib.pyplot as plt\n",
        "%matplotlib inline\n",
        "\n",
        "def plot_model(history):\n",
        "    loss_train = history.history['loss']\n",
        "    acc_train = history.history['acc']\n",
        "\n",
        "    epochs = range(1, len(loss_train)+1)\n",
        "\n",
        "    plt.figure(figsize=(10, 5))\n",
        "    plt.subplot(1,2,1)\n",
        "    plt.plot(epochs, loss_train, 'b')\n",
        "    plt.ylabel('Loss')\n",
        "    plt.xlabel('Epoch')\n",
        "    plt.legend(['Training'], loc='best')\n",
        "\n",
        "    plt.subplot(1,2,2)\n",
        "    plt.plot(epochs, acc_train,'r')\n",
        "    plt.ylabel('Accuracy')\n",
        "    plt.xlabel('Epoch')\n",
        "    plt.legend(['Training'], loc='best')\n",
        "    plt.show()\n",
        "    \n",
        "plot_model(history)"
      ],
      "execution_count": null,
      "outputs": [
        {
          "output_type": "display_data",
          "data": {
            "image/png": "[encoded data removed]",
            "text/plain": [
              "<Figure size 720x360 with 2 Axes>"
            ]
          },
          "metadata": {
            "tags": []
          }
        }
      ]
    },
    {
      "cell_type": "markdown",
      "metadata": {
        "id": "0LW1ZNgWMJ3d"
      },
      "source": [
        "&#x270d; Now, let us take a look at predicting words using the model that we trained. We are going to ask it to generate the next 50 words for the given seed text."
      ]
    },
    {
      "cell_type": "code",
      "metadata": {
        "id": "RGX-URy_MJ3e",
        "outputId": "672af2dd-fe19-4724-88fa-3769748d55ab",
        "colab": {
          "base_uri": "https://localhost:8080/",
          "height": 54
        }
      },
      "source": [
        "seed_text = \"I'm suffering in this dearth\"\n",
        "next_words = 50\n",
        "\n",
        "for _ in range(next_words):\n",
        "    # Create a token lists using tokenizer text sequences of the seed text\n",
        "    token_list = tokenizer.texts_to_sequences([seed_text])[0]\n",
        "    \n",
        "    # Pre-pad the token list with the length of max_sequence_length-1\n",
        "    token_list_padded = pad_sequences([token_list], maxlen= max_sequence_length-1, padding= 'pre')\n",
        "    \n",
        "    # Predict the classe for the given token list \n",
        "    predicted = model.predict_classes(token_list_padded, verbose=0)\n",
        "\n",
        "    # Turn the token back into a word and add that to the seed text\n",
        "    output_word = \"\"\n",
        "    for word, index in tokenizer.word_index.items():\n",
        "        if index == predicted:\n",
        "            output_word = word\n",
        "            break\n",
        "    seed_text += \" \" + output_word\n",
        "    \n",
        "print(seed_text)"
      ],
      "execution_count": null,
      "outputs": [
        {
          "output_type": "stream",
          "text": [
            "I'm suffering in this dearth you may as well but he account a please please please please please please please please please which own it fitly it fitly proud an own price price price fathers kill you yourselves price price own price price please please please please please please which which own fitly fitly proud\n"
          ],
          "name": "stdout"
        }
      ]
    },
    {
      "cell_type": "markdown",
      "metadata": {
        "id": "oyl-exOjMJ3h"
      },
      "source": [
        "##### Bidirectional LSTM <a id=\"bi_lstm\"></a>\n",
        "\n",
        "&#x270d; Create a model with Bidirectional LSTM nodes."
      ]
    },
    {
      "cell_type": "code",
      "metadata": {
        "id": "kLEFwF1ZMJ3h",
        "outputId": "80aa0989-de5a-4083-a695-049555d888ac",
        "colab": {
          "base_uri": "https://localhost:8080/",
          "height": 255
        }
      },
      "source": [
        "from tensorflow.keras.layers import Bidirectional\n",
        "\n",
        "model = Sequential()\n",
        "model.add(Embedding(total_words, 100, input_length= max_sequence_length-1))\n",
        "model.add(Bidirectional(LSTM(150)))\n",
        "model.add(Dense(total_words, activation='softmax'))\n",
        "\n",
        "model.summary()"
      ],
      "execution_count": null,
      "outputs": [
        {
          "output_type": "stream",
          "text": [
            "Model: \"sequential_2\"\n",
            "_________________________________________________________________\n",
            "Layer (type)                 Output Shape              Param #   \n",
            "=================================================================\n",
            "embedding_2 (Embedding)      (None, 11, 100)           38600     \n",
            "_________________________________________________________________\n",
            "bidirectional_1 (Bidirection (None, 300)               301200    \n",
            "_________________________________________________________________\n",
            "dense_2 (Dense)              (None, 386)               116186    \n",
            "=================================================================\n",
            "Total params: 455,986\n",
            "Trainable params: 455,986\n",
            "Non-trainable params: 0\n",
            "_________________________________________________________________\n"
          ],
          "name": "stdout"
        }
      ]
    },
    {
      "cell_type": "markdown",
      "metadata": {
        "id": "Vy_JWWsGMJ3k"
      },
      "source": [
        "&#x270d; Compile and fit your model."
      ]
    },
    {
      "cell_type": "code",
      "metadata": {
        "id": "9A9KORZ0MJ3l",
        "outputId": "1eab7526-1abf-48e4-8482-3547476590e8",
        "colab": {
          "base_uri": "https://localhost:8080/",
          "height": 374
        }
      },
      "source": [
        "model.compile(loss='categorical_crossentropy', optimizer= 'adam', metrics=['accuracy'])\n",
        "history = model.fit(X, y, epochs= 10, verbose= 1)"
      ],
      "execution_count": null,
      "outputs": [
        {
          "output_type": "stream",
          "text": [
            "Train on 748 samples\n",
            "Epoch 1/10\n",
            "748/748 [==============================] - 3s 4ms/sample - loss: 5.9014 - acc: 0.0428\n",
            "Epoch 2/10\n",
            "748/748 [==============================] - 2s 3ms/sample - loss: 5.5240 - acc: 0.0468\n",
            "Epoch 3/10\n",
            "748/748 [==============================] - 2s 2ms/sample - loss: 5.4300 - acc: 0.0521\n",
            "Epoch 4/10\n",
            "748/748 [==============================] - 2s 2ms/sample - loss: 5.3569 - acc: 0.0508\n",
            "Epoch 5/10\n",
            "748/748 [==============================] - 2s 2ms/sample - loss: 5.2756 - acc: 0.0575\n",
            "Epoch 6/10\n",
            "748/748 [==============================] - 2s 3ms/sample - loss: 5.1548 - acc: 0.0682\n",
            "Epoch 7/10\n",
            "748/748 [==============================] - 2s 3ms/sample - loss: 5.0078 - acc: 0.0789\n",
            "Epoch 8/10\n",
            "748/748 [==============================] - 2s 3ms/sample - loss: 4.8796 - acc: 0.0816\n",
            "Epoch 9/10\n",
            "748/748 [==============================] - 2s 2ms/sample - loss: 4.7376 - acc: 0.0842\n",
            "Epoch 10/10\n",
            "748/748 [==============================] - 2s 2ms/sample - loss: 4.5903 - acc: 0.0936\n"
          ],
          "name": "stdout"
        }
      ]
    },
    {
      "cell_type": "markdown",
      "metadata": {
        "id": "7L0-m3xuMJ3r"
      },
      "source": [
        "&#x270d; Plot loss and accuracy over training epochs."
      ]
    },
    {
      "cell_type": "code",
      "metadata": {
        "id": "YROo0ahnMJ3s",
        "outputId": "b10f45b3-e39c-4b62-940e-e037d1651412",
        "colab": {
          "base_uri": "https://localhost:8080/",
          "height": 334
        }
      },
      "source": [
        "plot_model(history)"
      ],
      "execution_count": null,
      "outputs": [
        {
          "output_type": "display_data",
          "data": {
            "image/png": "[encoded data removed]",
            "text/plain": [
              "<Figure size 720x360 with 2 Axes>"
            ]
          },
          "metadata": {
            "tags": []
          }
        }
      ]
    },
    {
      "cell_type": "code",
      "metadata": {
        "id": "L6hEgL-ZMJ3u",
        "outputId": "63eb02d2-8c13-4ec8-cd6f-4a563fbd2670"
      },
      "source": [
        "seed_text = \"I'm suffering in this dearth\"\n",
        "next_words = 50\n",
        "\n",
        "for _ in range(next_words):\n",
        "    # Create a token lists using tokenizer text sequences of the seed text\n",
        "    token_list = tokenizer.texts_to_sequences([seed_text])[0]\n",
        "    \n",
        "    # Pre-pad the token list with the length of max_sequence_length-1\n",
        "    token_list_padded = pad_sequences([token_list], maxlen= max_sequence_length-1, padding= 'pre')\n",
        "    \n",
        "    # Predict the classe for the given token list \n",
        "    predicted = model.predict_classes(token_list_padded, verbose=0)\n",
        "\n",
        "    # Turn the token back into a word and add that to the seed text\n",
        "    output_word = \"\"\n",
        "    for word, index in tokenizer.word_index.items():\n",
        "        if index == predicted:\n",
        "            output_word = word\n",
        "            break\n",
        "    seed_text += \" \" + output_word\n",
        "    \n",
        "print(seed_text)"
      ],
      "execution_count": null,
      "outputs": [
        {
          "output_type": "stream",
          "text": [
            "I'm suffering in this dearth you the belly belly so so proud can us will will price fathers us price for us did will price will will will loved will proud fathers you away can you to can you and can you did will unactive will unactive away will loved will can you and loved\n"
          ],
          "name": "stdout"
        }
      ]
    },
    {
      "cell_type": "markdown",
      "metadata": {
        "id": "kJrLqOCvMJ3w"
      },
      "source": [
        "### Character-based Model for Text Generation <a id=\"char_based_model\"></a>"
      ]
    },
    {
      "cell_type": "markdown",
      "metadata": {
        "id": "vp5kvr-kMJ3x"
      },
      "source": [
        "Check out this link: https://www.tensorflow.org/tutorials/text/text_generation"
      ]
    }
  ]
}